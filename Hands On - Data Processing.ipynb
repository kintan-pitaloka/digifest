{
 "cells": [
  {
   "cell_type": "markdown",
   "metadata": {
    "id": "Neow6Hoj06rz"
   },
   "source": [
    "# Mengenal Konsep Variabel & Assignment"
   ]
  },
  {
   "cell_type": "markdown",
   "metadata": {
    "id": "y-khZMhZ1mTA"
   },
   "source": [
    "## Data Numeric"
   ]
  },
  {
   "cell_type": "code",
   "execution_count": 1,
   "metadata": {
    "id": "OIO8jd9m09jA"
   },
   "outputs": [],
   "source": [
    "tinggi_badan = 173"
   ]
  },
  {
   "cell_type": "markdown",
   "metadata": {
    "id": "eGygEcdm1EJB"
   },
   "source": [
    "berapa isi dari variabel tinggi_badan sekarang?"
   ]
  },
  {
   "cell_type": "code",
   "execution_count": 2,
   "metadata": {
    "id": "YAMhwiKb1Hur"
   },
   "outputs": [
    {
     "data": {
      "text/plain": [
       "173"
      ]
     },
     "execution_count": 2,
     "metadata": {},
     "output_type": "execute_result"
    }
   ],
   "source": [
    "tinggi_badan"
   ]
  },
  {
   "cell_type": "markdown",
   "metadata": {
    "id": "206CnXXA1I9K"
   },
   "source": [
    "ganti nilai tinggi_badan dengan 170"
   ]
  },
  {
   "cell_type": "code",
   "execution_count": 3,
   "metadata": {
    "id": "lQn5BtsT1Ltx"
   },
   "outputs": [],
   "source": [
    "tinggi_badan = 170"
   ]
  },
  {
   "cell_type": "markdown",
   "metadata": {
    "id": "JT5PVXaD1N1h"
   },
   "source": [
    "berapa isi dari variabel tinggi_badan sekarang?"
   ]
  },
  {
   "cell_type": "code",
   "execution_count": 4,
   "metadata": {
    "id": "i2qyhwB41Dg4"
   },
   "outputs": [
    {
     "data": {
      "text/plain": [
       "170"
      ]
     },
     "execution_count": 4,
     "metadata": {},
     "output_type": "execute_result"
    }
   ],
   "source": [
    "tinggi_badan"
   ]
  },
  {
   "cell_type": "code",
   "execution_count": 5,
   "metadata": {
    "id": "t4UYTgzs1cnK"
   },
   "outputs": [
    {
     "data": {
      "text/plain": [
       "1.7"
      ]
     },
     "execution_count": 5,
     "metadata": {},
     "output_type": "execute_result"
    }
   ],
   "source": [
    "tinggi_badan/100"
   ]
  },
  {
   "cell_type": "code",
   "execution_count": 6,
   "metadata": {
    "id": "Ynvi6NjyoYCg"
   },
   "outputs": [
    {
     "data": {
      "text/plain": [
       "1.7"
      ]
     },
     "execution_count": 6,
     "metadata": {},
     "output_type": "execute_result"
    }
   ],
   "source": [
    "tinggi_badan_in_m = tinggi_badan/100\n",
    "tinggi_badan_in_m"
   ]
  },
  {
   "cell_type": "markdown",
   "metadata": {
    "id": "0Og9DcWX1qA3"
   },
   "source": [
    "## Data String"
   ]
  },
  {
   "cell_type": "code",
   "execution_count": 7,
   "metadata": {
    "id": "5hiGvYgq1rYA"
   },
   "outputs": [],
   "source": [
    "nama_depan = 'Raffi'\n",
    "nama_belakang = \"Ahmad\""
   ]
  },
  {
   "cell_type": "code",
   "execution_count": 8,
   "metadata": {
    "id": "gJR7zXfJ1zpf"
   },
   "outputs": [
    {
     "data": {
      "text/plain": [
       "'RaffiAhmad'"
      ]
     },
     "execution_count": 8,
     "metadata": {},
     "output_type": "execute_result"
    }
   ],
   "source": [
    "nama_depan+nama_belakang"
   ]
  },
  {
   "cell_type": "code",
   "execution_count": 9,
   "metadata": {
    "id": "lnqKJ1N512CY"
   },
   "outputs": [
    {
     "data": {
      "text/plain": [
       "'Raffi Ahmad'"
      ]
     },
     "execution_count": 9,
     "metadata": {},
     "output_type": "execute_result"
    }
   ],
   "source": [
    "nama_depan+\" \"+nama_belakang"
   ]
  },
  {
   "cell_type": "markdown",
   "metadata": {
    "id": "22v6yFtVuIZY"
   },
   "source": [
    "## [CHALLENGE] Membuat variabel baru"
   ]
  },
  {
   "cell_type": "code",
   "execution_count": 11,
   "metadata": {
    "id": "odyomXNfuLhF"
   },
   "outputs": [],
   "source": [
    "#buat variabel nama dan umur di sini\n",
    "nama = \"Kintan\"\n",
    "umur = 21"
   ]
  },
  {
   "cell_type": "code",
   "execution_count": 12,
   "metadata": {
    "id": "AJyOFzCLukQt"
   },
   "outputs": [
    {
     "data": {
      "text/plain": [
       "'Halo, nama saya Kintan. Umur saya adalah 21 tahun'"
      ]
     },
     "execution_count": 12,
     "metadata": {},
     "output_type": "execute_result"
    }
   ],
   "source": [
    "\"Halo, nama saya \"+nama+\". Umur saya adalah \"+str(umur)+\" tahun\""
   ]
  },
  {
   "cell_type": "markdown",
   "metadata": {
    "id": "DEDhyYtt9011"
   },
   "source": [
    "# Import Pandas Library"
   ]
  },
  {
   "cell_type": "code",
   "execution_count": 13,
   "metadata": {
    "id": "BZ1Avf3x9upB"
   },
   "outputs": [],
   "source": [
    "import pandas as pd"
   ]
  },
  {
   "cell_type": "markdown",
   "metadata": {
    "id": "pB1JeTo09uo7"
   },
   "source": [
    "# Membaca Dataset"
   ]
  },
  {
   "cell_type": "code",
   "execution_count": 14,
   "metadata": {
    "id": "RJtJfW1n9upG"
   },
   "outputs": [],
   "source": [
    "df_dataset = pd.read_csv('rakamin_class.csv')"
   ]
  },
  {
   "cell_type": "code",
   "execution_count": 15,
   "metadata": {
    "id": "YTR_8qrIPeNa"
   },
   "outputs": [
    {
     "data": {
      "text/html": [
       "<div>\n",
       "<style scoped>\n",
       "    .dataframe tbody tr th:only-of-type {\n",
       "        vertical-align: middle;\n",
       "    }\n",
       "\n",
       "    .dataframe tbody tr th {\n",
       "        vertical-align: top;\n",
       "    }\n",
       "\n",
       "    .dataframe thead th {\n",
       "        text-align: right;\n",
       "    }\n",
       "</style>\n",
       "<table border=\"1\" class=\"dataframe\">\n",
       "  <thead>\n",
       "    <tr style=\"text-align: right;\">\n",
       "      <th></th>\n",
       "      <th>registration_id</th>\n",
       "      <th>name</th>\n",
       "      <th>email</th>\n",
       "      <th>phone</th>\n",
       "      <th>age</th>\n",
       "      <th>city</th>\n",
       "      <th>province</th>\n",
       "      <th>active</th>\n",
       "      <th>class</th>\n",
       "      <th>score</th>\n",
       "    </tr>\n",
       "  </thead>\n",
       "  <tbody>\n",
       "    <tr>\n",
       "      <th>0</th>\n",
       "      <td>RK20202344</td>\n",
       "      <td>Nina</td>\n",
       "      <td>nina@gmail.com</td>\n",
       "      <td>628198157</td>\n",
       "      <td>57</td>\n",
       "      <td>Tanjungpinang</td>\n",
       "      <td>Kepulauan Riau</td>\n",
       "      <td>1</td>\n",
       "      <td>6</td>\n",
       "      <td>80</td>\n",
       "    </tr>\n",
       "    <tr>\n",
       "      <th>1</th>\n",
       "      <td>RK20202345</td>\n",
       "      <td>Dyah</td>\n",
       "      <td>dyah@gmail.com</td>\n",
       "      <td>628306496</td>\n",
       "      <td>24</td>\n",
       "      <td>Bogor</td>\n",
       "      <td>Jawa Barat</td>\n",
       "      <td>0</td>\n",
       "      <td>2</td>\n",
       "      <td>66</td>\n",
       "    </tr>\n",
       "    <tr>\n",
       "      <th>2</th>\n",
       "      <td>RK20202346</td>\n",
       "      <td>Prima</td>\n",
       "      <td>prima@ymail.com</td>\n",
       "      <td>628755450</td>\n",
       "      <td>16</td>\n",
       "      <td>Kota Administrasi Jakarta Pusat</td>\n",
       "      <td>Jakarta</td>\n",
       "      <td>1</td>\n",
       "      <td>1</td>\n",
       "      <td>55</td>\n",
       "    </tr>\n",
       "    <tr>\n",
       "      <th>3</th>\n",
       "      <td>RK20202347</td>\n",
       "      <td>Firman</td>\n",
       "      <td>firman@google.com</td>\n",
       "      <td>628638112</td>\n",
       "      <td>59</td>\n",
       "      <td>Metro</td>\n",
       "      <td>Lampung</td>\n",
       "      <td>1</td>\n",
       "      <td>6</td>\n",
       "      <td>93</td>\n",
       "    </tr>\n",
       "    <tr>\n",
       "      <th>4</th>\n",
       "      <td>RK20202348</td>\n",
       "      <td>Eva</td>\n",
       "      <td>eva@rakamin.com</td>\n",
       "      <td>628702735</td>\n",
       "      <td>42</td>\n",
       "      <td>Malang</td>\n",
       "      <td>Jawa Timur</td>\n",
       "      <td>0</td>\n",
       "      <td>5</td>\n",
       "      <td>80</td>\n",
       "    </tr>\n",
       "    <tr>\n",
       "      <th>...</th>\n",
       "      <td>...</td>\n",
       "      <td>...</td>\n",
       "      <td>...</td>\n",
       "      <td>...</td>\n",
       "      <td>...</td>\n",
       "      <td>...</td>\n",
       "      <td>...</td>\n",
       "      <td>...</td>\n",
       "      <td>...</td>\n",
       "      <td>...</td>\n",
       "    </tr>\n",
       "    <tr>\n",
       "      <th>95</th>\n",
       "      <td>RK20202439</td>\n",
       "      <td>Abdul</td>\n",
       "      <td>abdul@gmail.com</td>\n",
       "      <td>628989064</td>\n",
       "      <td>54</td>\n",
       "      <td>Samarinda</td>\n",
       "      <td>Kalimantan Timur</td>\n",
       "      <td>0</td>\n",
       "      <td>6</td>\n",
       "      <td>59</td>\n",
       "    </tr>\n",
       "    <tr>\n",
       "      <th>96</th>\n",
       "      <td>RK20202440</td>\n",
       "      <td>Ria</td>\n",
       "      <td>ria@gmail.com</td>\n",
       "      <td>628535849</td>\n",
       "      <td>56</td>\n",
       "      <td>Batam</td>\n",
       "      <td>Kepulauan Riau</td>\n",
       "      <td>0</td>\n",
       "      <td>6</td>\n",
       "      <td>58</td>\n",
       "    </tr>\n",
       "    <tr>\n",
       "      <th>97</th>\n",
       "      <td>RK20202441</td>\n",
       "      <td>Putra</td>\n",
       "      <td>putra@gmail.com</td>\n",
       "      <td>628205046</td>\n",
       "      <td>51</td>\n",
       "      <td>Palangkaraya</td>\n",
       "      <td>Kalimantan Tengah</td>\n",
       "      <td>1</td>\n",
       "      <td>6</td>\n",
       "      <td>71</td>\n",
       "    </tr>\n",
       "    <tr>\n",
       "      <th>98</th>\n",
       "      <td>RK20202442</td>\n",
       "      <td>Kokom</td>\n",
       "      <td>kokom@facebook.com</td>\n",
       "      <td>628718477</td>\n",
       "      <td>23</td>\n",
       "      <td>Bekasi</td>\n",
       "      <td>Jawa Barat</td>\n",
       "      <td>0</td>\n",
       "      <td>2</td>\n",
       "      <td>73</td>\n",
       "    </tr>\n",
       "    <tr>\n",
       "      <th>99</th>\n",
       "      <td>RK20202443</td>\n",
       "      <td>Ilham</td>\n",
       "      <td>ilham@gmail.com</td>\n",
       "      <td>628680755</td>\n",
       "      <td>29</td>\n",
       "      <td>Tasikmalaya</td>\n",
       "      <td>Jawa Barat</td>\n",
       "      <td>1</td>\n",
       "      <td>2</td>\n",
       "      <td>52</td>\n",
       "    </tr>\n",
       "  </tbody>\n",
       "</table>\n",
       "<p>100 rows × 10 columns</p>\n",
       "</div>"
      ],
      "text/plain": [
       "   registration_id    name               email      phone  age  \\\n",
       "0       RK20202344    Nina      nina@gmail.com  628198157   57   \n",
       "1       RK20202345    Dyah      dyah@gmail.com  628306496   24   \n",
       "2       RK20202346   Prima     prima@ymail.com  628755450   16   \n",
       "3       RK20202347  Firman   firman@google.com  628638112   59   \n",
       "4       RK20202348     Eva     eva@rakamin.com  628702735   42   \n",
       "..             ...     ...                 ...        ...  ...   \n",
       "95      RK20202439   Abdul     abdul@gmail.com  628989064   54   \n",
       "96      RK20202440     Ria       ria@gmail.com  628535849   56   \n",
       "97      RK20202441   Putra     putra@gmail.com  628205046   51   \n",
       "98      RK20202442   Kokom  kokom@facebook.com  628718477   23   \n",
       "99      RK20202443   Ilham     ilham@gmail.com  628680755   29   \n",
       "\n",
       "                               city           province  active  class  score  \n",
       "0                     Tanjungpinang     Kepulauan Riau       1      6     80  \n",
       "1                             Bogor         Jawa Barat       0      2     66  \n",
       "2   Kota Administrasi Jakarta Pusat            Jakarta       1      1     55  \n",
       "3                             Metro            Lampung       1      6     93  \n",
       "4                            Malang         Jawa Timur       0      5     80  \n",
       "..                              ...                ...     ...    ...    ...  \n",
       "95                        Samarinda   Kalimantan Timur       0      6     59  \n",
       "96                            Batam     Kepulauan Riau       0      6     58  \n",
       "97                     Palangkaraya  Kalimantan Tengah       1      6     71  \n",
       "98                           Bekasi         Jawa Barat       0      2     73  \n",
       "99                      Tasikmalaya         Jawa Barat       1      2     52  \n",
       "\n",
       "[100 rows x 10 columns]"
      ]
     },
     "execution_count": 15,
     "metadata": {},
     "output_type": "execute_result"
    }
   ],
   "source": [
    "df_dataset"
   ]
  },
  {
   "cell_type": "markdown",
   "metadata": {
    "id": "MYZPCSCG9upH"
   },
   "source": [
    "# Operasi Sederhana Data Frame"
   ]
  },
  {
   "cell_type": "markdown",
   "metadata": {
    "id": "KmXRzEyt9upI"
   },
   "source": [
    "## a. shape"
   ]
  },
  {
   "cell_type": "markdown",
   "metadata": {
    "id": "8HYYw06RXizD"
   },
   "source": [
    "Melihat ukuran Data Frame (baris & kolom)"
   ]
  },
  {
   "cell_type": "code",
   "execution_count": 16,
   "metadata": {
    "id": "EUYwWkUK9upI"
   },
   "outputs": [
    {
     "data": {
      "text/plain": [
       "(100, 10)"
      ]
     },
     "execution_count": 16,
     "metadata": {},
     "output_type": "execute_result"
    }
   ],
   "source": [
    "df_dataset.shape"
   ]
  },
  {
   "cell_type": "code",
   "execution_count": 17,
   "metadata": {
    "id": "BRwK3kyK9upJ"
   },
   "outputs": [
    {
     "data": {
      "text/plain": [
       "100"
      ]
     },
     "execution_count": 17,
     "metadata": {},
     "output_type": "execute_result"
    }
   ],
   "source": [
    "df_dataset.shape[0]"
   ]
  },
  {
   "cell_type": "code",
   "execution_count": 18,
   "metadata": {
    "id": "X22p98Pg9upJ"
   },
   "outputs": [
    {
     "data": {
      "text/plain": [
       "10"
      ]
     },
     "execution_count": 18,
     "metadata": {},
     "output_type": "execute_result"
    }
   ],
   "source": [
    "df_dataset.shape[1]"
   ]
  },
  {
   "cell_type": "markdown",
   "metadata": {
    "id": "9OPhmxkb9upI"
   },
   "source": [
    "## b. columns"
   ]
  },
  {
   "cell_type": "markdown",
   "metadata": {
    "id": "huu91OBzXe0x"
   },
   "source": [
    "Melihat semua nama kolom"
   ]
  },
  {
   "cell_type": "code",
   "execution_count": 19,
   "metadata": {
    "id": "7x1TCOSY9upI"
   },
   "outputs": [
    {
     "data": {
      "text/plain": [
       "Index(['registration_id', 'name', 'email', 'phone', 'age', 'city', 'province',\n",
       "       'active', 'class', 'score'],\n",
       "      dtype='object')"
      ]
     },
     "execution_count": 19,
     "metadata": {},
     "output_type": "execute_result"
    }
   ],
   "source": [
    "df_dataset.columns"
   ]
  },
  {
   "cell_type": "markdown",
   "metadata": {
    "id": "aeU7gsv29upK"
   },
   "source": [
    "## c. head()"
   ]
  },
  {
   "cell_type": "markdown",
   "metadata": {
    "id": "a7Lq_QINYKXe"
   },
   "source": [
    "Melihat N baris pertama  (default N=5)"
   ]
  },
  {
   "cell_type": "code",
   "execution_count": 20,
   "metadata": {
    "id": "eQRutHFu9upK"
   },
   "outputs": [
    {
     "data": {
      "text/html": [
       "<div>\n",
       "<style scoped>\n",
       "    .dataframe tbody tr th:only-of-type {\n",
       "        vertical-align: middle;\n",
       "    }\n",
       "\n",
       "    .dataframe tbody tr th {\n",
       "        vertical-align: top;\n",
       "    }\n",
       "\n",
       "    .dataframe thead th {\n",
       "        text-align: right;\n",
       "    }\n",
       "</style>\n",
       "<table border=\"1\" class=\"dataframe\">\n",
       "  <thead>\n",
       "    <tr style=\"text-align: right;\">\n",
       "      <th></th>\n",
       "      <th>registration_id</th>\n",
       "      <th>name</th>\n",
       "      <th>email</th>\n",
       "      <th>phone</th>\n",
       "      <th>age</th>\n",
       "      <th>city</th>\n",
       "      <th>province</th>\n",
       "      <th>active</th>\n",
       "      <th>class</th>\n",
       "      <th>score</th>\n",
       "    </tr>\n",
       "  </thead>\n",
       "  <tbody>\n",
       "    <tr>\n",
       "      <th>0</th>\n",
       "      <td>RK20202344</td>\n",
       "      <td>Nina</td>\n",
       "      <td>nina@gmail.com</td>\n",
       "      <td>628198157</td>\n",
       "      <td>57</td>\n",
       "      <td>Tanjungpinang</td>\n",
       "      <td>Kepulauan Riau</td>\n",
       "      <td>1</td>\n",
       "      <td>6</td>\n",
       "      <td>80</td>\n",
       "    </tr>\n",
       "    <tr>\n",
       "      <th>1</th>\n",
       "      <td>RK20202345</td>\n",
       "      <td>Dyah</td>\n",
       "      <td>dyah@gmail.com</td>\n",
       "      <td>628306496</td>\n",
       "      <td>24</td>\n",
       "      <td>Bogor</td>\n",
       "      <td>Jawa Barat</td>\n",
       "      <td>0</td>\n",
       "      <td>2</td>\n",
       "      <td>66</td>\n",
       "    </tr>\n",
       "    <tr>\n",
       "      <th>2</th>\n",
       "      <td>RK20202346</td>\n",
       "      <td>Prima</td>\n",
       "      <td>prima@ymail.com</td>\n",
       "      <td>628755450</td>\n",
       "      <td>16</td>\n",
       "      <td>Kota Administrasi Jakarta Pusat</td>\n",
       "      <td>Jakarta</td>\n",
       "      <td>1</td>\n",
       "      <td>1</td>\n",
       "      <td>55</td>\n",
       "    </tr>\n",
       "    <tr>\n",
       "      <th>3</th>\n",
       "      <td>RK20202347</td>\n",
       "      <td>Firman</td>\n",
       "      <td>firman@google.com</td>\n",
       "      <td>628638112</td>\n",
       "      <td>59</td>\n",
       "      <td>Metro</td>\n",
       "      <td>Lampung</td>\n",
       "      <td>1</td>\n",
       "      <td>6</td>\n",
       "      <td>93</td>\n",
       "    </tr>\n",
       "    <tr>\n",
       "      <th>4</th>\n",
       "      <td>RK20202348</td>\n",
       "      <td>Eva</td>\n",
       "      <td>eva@rakamin.com</td>\n",
       "      <td>628702735</td>\n",
       "      <td>42</td>\n",
       "      <td>Malang</td>\n",
       "      <td>Jawa Timur</td>\n",
       "      <td>0</td>\n",
       "      <td>5</td>\n",
       "      <td>80</td>\n",
       "    </tr>\n",
       "  </tbody>\n",
       "</table>\n",
       "</div>"
      ],
      "text/plain": [
       "  registration_id    name              email      phone  age  \\\n",
       "0      RK20202344    Nina     nina@gmail.com  628198157   57   \n",
       "1      RK20202345    Dyah     dyah@gmail.com  628306496   24   \n",
       "2      RK20202346   Prima    prima@ymail.com  628755450   16   \n",
       "3      RK20202347  Firman  firman@google.com  628638112   59   \n",
       "4      RK20202348     Eva    eva@rakamin.com  628702735   42   \n",
       "\n",
       "                              city        province  active  class  score  \n",
       "0                    Tanjungpinang  Kepulauan Riau       1      6     80  \n",
       "1                            Bogor      Jawa Barat       0      2     66  \n",
       "2  Kota Administrasi Jakarta Pusat         Jakarta       1      1     55  \n",
       "3                            Metro         Lampung       1      6     93  \n",
       "4                           Malang      Jawa Timur       0      5     80  "
      ]
     },
     "execution_count": 20,
     "metadata": {},
     "output_type": "execute_result"
    }
   ],
   "source": [
    "df_dataset.head()"
   ]
  },
  {
   "cell_type": "code",
   "execution_count": 21,
   "metadata": {
    "id": "Uj_WYjOn9upL"
   },
   "outputs": [
    {
     "data": {
      "text/html": [
       "<div>\n",
       "<style scoped>\n",
       "    .dataframe tbody tr th:only-of-type {\n",
       "        vertical-align: middle;\n",
       "    }\n",
       "\n",
       "    .dataframe tbody tr th {\n",
       "        vertical-align: top;\n",
       "    }\n",
       "\n",
       "    .dataframe thead th {\n",
       "        text-align: right;\n",
       "    }\n",
       "</style>\n",
       "<table border=\"1\" class=\"dataframe\">\n",
       "  <thead>\n",
       "    <tr style=\"text-align: right;\">\n",
       "      <th></th>\n",
       "      <th>registration_id</th>\n",
       "      <th>name</th>\n",
       "      <th>email</th>\n",
       "      <th>phone</th>\n",
       "      <th>age</th>\n",
       "      <th>city</th>\n",
       "      <th>province</th>\n",
       "      <th>active</th>\n",
       "      <th>class</th>\n",
       "      <th>score</th>\n",
       "    </tr>\n",
       "  </thead>\n",
       "  <tbody>\n",
       "    <tr>\n",
       "      <th>0</th>\n",
       "      <td>RK20202344</td>\n",
       "      <td>Nina</td>\n",
       "      <td>nina@gmail.com</td>\n",
       "      <td>628198157</td>\n",
       "      <td>57</td>\n",
       "      <td>Tanjungpinang</td>\n",
       "      <td>Kepulauan Riau</td>\n",
       "      <td>1</td>\n",
       "      <td>6</td>\n",
       "      <td>80</td>\n",
       "    </tr>\n",
       "    <tr>\n",
       "      <th>1</th>\n",
       "      <td>RK20202345</td>\n",
       "      <td>Dyah</td>\n",
       "      <td>dyah@gmail.com</td>\n",
       "      <td>628306496</td>\n",
       "      <td>24</td>\n",
       "      <td>Bogor</td>\n",
       "      <td>Jawa Barat</td>\n",
       "      <td>0</td>\n",
       "      <td>2</td>\n",
       "      <td>66</td>\n",
       "    </tr>\n",
       "    <tr>\n",
       "      <th>2</th>\n",
       "      <td>RK20202346</td>\n",
       "      <td>Prima</td>\n",
       "      <td>prima@ymail.com</td>\n",
       "      <td>628755450</td>\n",
       "      <td>16</td>\n",
       "      <td>Kota Administrasi Jakarta Pusat</td>\n",
       "      <td>Jakarta</td>\n",
       "      <td>1</td>\n",
       "      <td>1</td>\n",
       "      <td>55</td>\n",
       "    </tr>\n",
       "  </tbody>\n",
       "</table>\n",
       "</div>"
      ],
      "text/plain": [
       "  registration_id   name            email      phone  age  \\\n",
       "0      RK20202344   Nina   nina@gmail.com  628198157   57   \n",
       "1      RK20202345   Dyah   dyah@gmail.com  628306496   24   \n",
       "2      RK20202346  Prima  prima@ymail.com  628755450   16   \n",
       "\n",
       "                              city        province  active  class  score  \n",
       "0                    Tanjungpinang  Kepulauan Riau       1      6     80  \n",
       "1                            Bogor      Jawa Barat       0      2     66  \n",
       "2  Kota Administrasi Jakarta Pusat         Jakarta       1      1     55  "
      ]
     },
     "execution_count": 21,
     "metadata": {},
     "output_type": "execute_result"
    }
   ],
   "source": [
    "df_dataset.head(3)"
   ]
  },
  {
   "cell_type": "markdown",
   "metadata": {
    "id": "LCbqXYgS9upL"
   },
   "source": [
    "## d. tail()"
   ]
  },
  {
   "cell_type": "markdown",
   "metadata": {
    "id": "P1hGEl5HYNlU"
   },
   "source": [
    "Melihat N baris terakhir (default N=5)"
   ]
  },
  {
   "cell_type": "code",
   "execution_count": 22,
   "metadata": {
    "id": "Bqes3s6YWAbc"
   },
   "outputs": [
    {
     "data": {
      "text/html": [
       "<div>\n",
       "<style scoped>\n",
       "    .dataframe tbody tr th:only-of-type {\n",
       "        vertical-align: middle;\n",
       "    }\n",
       "\n",
       "    .dataframe tbody tr th {\n",
       "        vertical-align: top;\n",
       "    }\n",
       "\n",
       "    .dataframe thead th {\n",
       "        text-align: right;\n",
       "    }\n",
       "</style>\n",
       "<table border=\"1\" class=\"dataframe\">\n",
       "  <thead>\n",
       "    <tr style=\"text-align: right;\">\n",
       "      <th></th>\n",
       "      <th>registration_id</th>\n",
       "      <th>name</th>\n",
       "      <th>email</th>\n",
       "      <th>phone</th>\n",
       "      <th>age</th>\n",
       "      <th>city</th>\n",
       "      <th>province</th>\n",
       "      <th>active</th>\n",
       "      <th>class</th>\n",
       "      <th>score</th>\n",
       "    </tr>\n",
       "  </thead>\n",
       "  <tbody>\n",
       "    <tr>\n",
       "      <th>95</th>\n",
       "      <td>RK20202439</td>\n",
       "      <td>Abdul</td>\n",
       "      <td>abdul@gmail.com</td>\n",
       "      <td>628989064</td>\n",
       "      <td>54</td>\n",
       "      <td>Samarinda</td>\n",
       "      <td>Kalimantan Timur</td>\n",
       "      <td>0</td>\n",
       "      <td>6</td>\n",
       "      <td>59</td>\n",
       "    </tr>\n",
       "    <tr>\n",
       "      <th>96</th>\n",
       "      <td>RK20202440</td>\n",
       "      <td>Ria</td>\n",
       "      <td>ria@gmail.com</td>\n",
       "      <td>628535849</td>\n",
       "      <td>56</td>\n",
       "      <td>Batam</td>\n",
       "      <td>Kepulauan Riau</td>\n",
       "      <td>0</td>\n",
       "      <td>6</td>\n",
       "      <td>58</td>\n",
       "    </tr>\n",
       "    <tr>\n",
       "      <th>97</th>\n",
       "      <td>RK20202441</td>\n",
       "      <td>Putra</td>\n",
       "      <td>putra@gmail.com</td>\n",
       "      <td>628205046</td>\n",
       "      <td>51</td>\n",
       "      <td>Palangkaraya</td>\n",
       "      <td>Kalimantan Tengah</td>\n",
       "      <td>1</td>\n",
       "      <td>6</td>\n",
       "      <td>71</td>\n",
       "    </tr>\n",
       "    <tr>\n",
       "      <th>98</th>\n",
       "      <td>RK20202442</td>\n",
       "      <td>Kokom</td>\n",
       "      <td>kokom@facebook.com</td>\n",
       "      <td>628718477</td>\n",
       "      <td>23</td>\n",
       "      <td>Bekasi</td>\n",
       "      <td>Jawa Barat</td>\n",
       "      <td>0</td>\n",
       "      <td>2</td>\n",
       "      <td>73</td>\n",
       "    </tr>\n",
       "    <tr>\n",
       "      <th>99</th>\n",
       "      <td>RK20202443</td>\n",
       "      <td>Ilham</td>\n",
       "      <td>ilham@gmail.com</td>\n",
       "      <td>628680755</td>\n",
       "      <td>29</td>\n",
       "      <td>Tasikmalaya</td>\n",
       "      <td>Jawa Barat</td>\n",
       "      <td>1</td>\n",
       "      <td>2</td>\n",
       "      <td>52</td>\n",
       "    </tr>\n",
       "  </tbody>\n",
       "</table>\n",
       "</div>"
      ],
      "text/plain": [
       "   registration_id   name               email      phone  age          city  \\\n",
       "95      RK20202439  Abdul     abdul@gmail.com  628989064   54     Samarinda   \n",
       "96      RK20202440    Ria       ria@gmail.com  628535849   56         Batam   \n",
       "97      RK20202441  Putra     putra@gmail.com  628205046   51  Palangkaraya   \n",
       "98      RK20202442  Kokom  kokom@facebook.com  628718477   23        Bekasi   \n",
       "99      RK20202443  Ilham     ilham@gmail.com  628680755   29   Tasikmalaya   \n",
       "\n",
       "             province  active  class  score  \n",
       "95   Kalimantan Timur       0      6     59  \n",
       "96     Kepulauan Riau       0      6     58  \n",
       "97  Kalimantan Tengah       1      6     71  \n",
       "98         Jawa Barat       0      2     73  \n",
       "99         Jawa Barat       1      2     52  "
      ]
     },
     "execution_count": 22,
     "metadata": {},
     "output_type": "execute_result"
    }
   ],
   "source": [
    "df_dataset.tail()"
   ]
  },
  {
   "cell_type": "code",
   "execution_count": 23,
   "metadata": {
    "id": "RAumz3xn9upL"
   },
   "outputs": [
    {
     "data": {
      "text/html": [
       "<div>\n",
       "<style scoped>\n",
       "    .dataframe tbody tr th:only-of-type {\n",
       "        vertical-align: middle;\n",
       "    }\n",
       "\n",
       "    .dataframe tbody tr th {\n",
       "        vertical-align: top;\n",
       "    }\n",
       "\n",
       "    .dataframe thead th {\n",
       "        text-align: right;\n",
       "    }\n",
       "</style>\n",
       "<table border=\"1\" class=\"dataframe\">\n",
       "  <thead>\n",
       "    <tr style=\"text-align: right;\">\n",
       "      <th></th>\n",
       "      <th>registration_id</th>\n",
       "      <th>name</th>\n",
       "      <th>email</th>\n",
       "      <th>phone</th>\n",
       "      <th>age</th>\n",
       "      <th>city</th>\n",
       "      <th>province</th>\n",
       "      <th>active</th>\n",
       "      <th>class</th>\n",
       "      <th>score</th>\n",
       "    </tr>\n",
       "  </thead>\n",
       "  <tbody>\n",
       "    <tr>\n",
       "      <th>97</th>\n",
       "      <td>RK20202441</td>\n",
       "      <td>Putra</td>\n",
       "      <td>putra@gmail.com</td>\n",
       "      <td>628205046</td>\n",
       "      <td>51</td>\n",
       "      <td>Palangkaraya</td>\n",
       "      <td>Kalimantan Tengah</td>\n",
       "      <td>1</td>\n",
       "      <td>6</td>\n",
       "      <td>71</td>\n",
       "    </tr>\n",
       "    <tr>\n",
       "      <th>98</th>\n",
       "      <td>RK20202442</td>\n",
       "      <td>Kokom</td>\n",
       "      <td>kokom@facebook.com</td>\n",
       "      <td>628718477</td>\n",
       "      <td>23</td>\n",
       "      <td>Bekasi</td>\n",
       "      <td>Jawa Barat</td>\n",
       "      <td>0</td>\n",
       "      <td>2</td>\n",
       "      <td>73</td>\n",
       "    </tr>\n",
       "    <tr>\n",
       "      <th>99</th>\n",
       "      <td>RK20202443</td>\n",
       "      <td>Ilham</td>\n",
       "      <td>ilham@gmail.com</td>\n",
       "      <td>628680755</td>\n",
       "      <td>29</td>\n",
       "      <td>Tasikmalaya</td>\n",
       "      <td>Jawa Barat</td>\n",
       "      <td>1</td>\n",
       "      <td>2</td>\n",
       "      <td>52</td>\n",
       "    </tr>\n",
       "  </tbody>\n",
       "</table>\n",
       "</div>"
      ],
      "text/plain": [
       "   registration_id   name               email      phone  age          city  \\\n",
       "97      RK20202441  Putra     putra@gmail.com  628205046   51  Palangkaraya   \n",
       "98      RK20202442  Kokom  kokom@facebook.com  628718477   23        Bekasi   \n",
       "99      RK20202443  Ilham     ilham@gmail.com  628680755   29   Tasikmalaya   \n",
       "\n",
       "             province  active  class  score  \n",
       "97  Kalimantan Tengah       1      6     71  \n",
       "98         Jawa Barat       0      2     73  \n",
       "99         Jawa Barat       1      2     52  "
      ]
     },
     "execution_count": 23,
     "metadata": {},
     "output_type": "execute_result"
    }
   ],
   "source": [
    "df_dataset.tail(3)"
   ]
  },
  {
   "cell_type": "markdown",
   "metadata": {
    "id": "mL1uPVOo9upM"
   },
   "source": [
    "# Data Sorting"
   ]
  },
  {
   "cell_type": "code",
   "execution_count": 24,
   "metadata": {
    "id": "IBJffKrS9upM"
   },
   "outputs": [
    {
     "data": {
      "text/html": [
       "<div>\n",
       "<style scoped>\n",
       "    .dataframe tbody tr th:only-of-type {\n",
       "        vertical-align: middle;\n",
       "    }\n",
       "\n",
       "    .dataframe tbody tr th {\n",
       "        vertical-align: top;\n",
       "    }\n",
       "\n",
       "    .dataframe thead th {\n",
       "        text-align: right;\n",
       "    }\n",
       "</style>\n",
       "<table border=\"1\" class=\"dataframe\">\n",
       "  <thead>\n",
       "    <tr style=\"text-align: right;\">\n",
       "      <th></th>\n",
       "      <th>registration_id</th>\n",
       "      <th>name</th>\n",
       "      <th>email</th>\n",
       "      <th>phone</th>\n",
       "      <th>age</th>\n",
       "      <th>city</th>\n",
       "      <th>province</th>\n",
       "      <th>active</th>\n",
       "      <th>class</th>\n",
       "      <th>score</th>\n",
       "    </tr>\n",
       "  </thead>\n",
       "  <tbody>\n",
       "    <tr>\n",
       "      <th>0</th>\n",
       "      <td>RK20202344</td>\n",
       "      <td>Nina</td>\n",
       "      <td>nina@gmail.com</td>\n",
       "      <td>628198157</td>\n",
       "      <td>57</td>\n",
       "      <td>Tanjungpinang</td>\n",
       "      <td>Kepulauan Riau</td>\n",
       "      <td>1</td>\n",
       "      <td>6</td>\n",
       "      <td>80</td>\n",
       "    </tr>\n",
       "    <tr>\n",
       "      <th>1</th>\n",
       "      <td>RK20202345</td>\n",
       "      <td>Dyah</td>\n",
       "      <td>dyah@gmail.com</td>\n",
       "      <td>628306496</td>\n",
       "      <td>24</td>\n",
       "      <td>Bogor</td>\n",
       "      <td>Jawa Barat</td>\n",
       "      <td>0</td>\n",
       "      <td>2</td>\n",
       "      <td>66</td>\n",
       "    </tr>\n",
       "    <tr>\n",
       "      <th>2</th>\n",
       "      <td>RK20202346</td>\n",
       "      <td>Prima</td>\n",
       "      <td>prima@ymail.com</td>\n",
       "      <td>628755450</td>\n",
       "      <td>16</td>\n",
       "      <td>Kota Administrasi Jakarta Pusat</td>\n",
       "      <td>Jakarta</td>\n",
       "      <td>1</td>\n",
       "      <td>1</td>\n",
       "      <td>55</td>\n",
       "    </tr>\n",
       "    <tr>\n",
       "      <th>3</th>\n",
       "      <td>RK20202347</td>\n",
       "      <td>Firman</td>\n",
       "      <td>firman@google.com</td>\n",
       "      <td>628638112</td>\n",
       "      <td>59</td>\n",
       "      <td>Metro</td>\n",
       "      <td>Lampung</td>\n",
       "      <td>1</td>\n",
       "      <td>6</td>\n",
       "      <td>93</td>\n",
       "    </tr>\n",
       "    <tr>\n",
       "      <th>4</th>\n",
       "      <td>RK20202348</td>\n",
       "      <td>Eva</td>\n",
       "      <td>eva@rakamin.com</td>\n",
       "      <td>628702735</td>\n",
       "      <td>42</td>\n",
       "      <td>Malang</td>\n",
       "      <td>Jawa Timur</td>\n",
       "      <td>0</td>\n",
       "      <td>5</td>\n",
       "      <td>80</td>\n",
       "    </tr>\n",
       "  </tbody>\n",
       "</table>\n",
       "</div>"
      ],
      "text/plain": [
       "  registration_id    name              email      phone  age  \\\n",
       "0      RK20202344    Nina     nina@gmail.com  628198157   57   \n",
       "1      RK20202345    Dyah     dyah@gmail.com  628306496   24   \n",
       "2      RK20202346   Prima    prima@ymail.com  628755450   16   \n",
       "3      RK20202347  Firman  firman@google.com  628638112   59   \n",
       "4      RK20202348     Eva    eva@rakamin.com  628702735   42   \n",
       "\n",
       "                              city        province  active  class  score  \n",
       "0                    Tanjungpinang  Kepulauan Riau       1      6     80  \n",
       "1                            Bogor      Jawa Barat       0      2     66  \n",
       "2  Kota Administrasi Jakarta Pusat         Jakarta       1      1     55  \n",
       "3                            Metro         Lampung       1      6     93  \n",
       "4                           Malang      Jawa Timur       0      5     80  "
      ]
     },
     "execution_count": 24,
     "metadata": {},
     "output_type": "execute_result"
    }
   ],
   "source": [
    "df_dataset.head()"
   ]
  },
  {
   "cell_type": "markdown",
   "metadata": {
    "id": "92Lvlx3E9upM"
   },
   "source": [
    "### Mengurutkan age dari termuda ke tertua (ASCENDING - Kecil ke besar)"
   ]
  },
  {
   "cell_type": "code",
   "execution_count": 25,
   "metadata": {
    "id": "ymMpx6woY6qD"
   },
   "outputs": [
    {
     "data": {
      "text/html": [
       "<div>\n",
       "<style scoped>\n",
       "    .dataframe tbody tr th:only-of-type {\n",
       "        vertical-align: middle;\n",
       "    }\n",
       "\n",
       "    .dataframe tbody tr th {\n",
       "        vertical-align: top;\n",
       "    }\n",
       "\n",
       "    .dataframe thead th {\n",
       "        text-align: right;\n",
       "    }\n",
       "</style>\n",
       "<table border=\"1\" class=\"dataframe\">\n",
       "  <thead>\n",
       "    <tr style=\"text-align: right;\">\n",
       "      <th></th>\n",
       "      <th>registration_id</th>\n",
       "      <th>name</th>\n",
       "      <th>email</th>\n",
       "      <th>phone</th>\n",
       "      <th>age</th>\n",
       "      <th>city</th>\n",
       "      <th>province</th>\n",
       "      <th>active</th>\n",
       "      <th>class</th>\n",
       "      <th>score</th>\n",
       "    </tr>\n",
       "  </thead>\n",
       "  <tbody>\n",
       "    <tr>\n",
       "      <th>92</th>\n",
       "      <td>RK20202436</td>\n",
       "      <td>Munaroh</td>\n",
       "      <td>munaroh@hotmail.com</td>\n",
       "      <td>628636716</td>\n",
       "      <td>15</td>\n",
       "      <td>Kota Administrasi Jakarta Barat</td>\n",
       "      <td>Jakarta</td>\n",
       "      <td>0</td>\n",
       "      <td>1</td>\n",
       "      <td>91</td>\n",
       "    </tr>\n",
       "    <tr>\n",
       "      <th>82</th>\n",
       "      <td>RK20202426</td>\n",
       "      <td>Een</td>\n",
       "      <td>een@facebook.com</td>\n",
       "      <td>628018377</td>\n",
       "      <td>15</td>\n",
       "      <td>Kota Administrasi Jakarta Barat</td>\n",
       "      <td>Jakarta</td>\n",
       "      <td>1</td>\n",
       "      <td>1</td>\n",
       "      <td>74</td>\n",
       "    </tr>\n",
       "    <tr>\n",
       "      <th>2</th>\n",
       "      <td>RK20202346</td>\n",
       "      <td>Prima</td>\n",
       "      <td>prima@ymail.com</td>\n",
       "      <td>628755450</td>\n",
       "      <td>16</td>\n",
       "      <td>Kota Administrasi Jakarta Pusat</td>\n",
       "      <td>Jakarta</td>\n",
       "      <td>1</td>\n",
       "      <td>1</td>\n",
       "      <td>55</td>\n",
       "    </tr>\n",
       "    <tr>\n",
       "      <th>5</th>\n",
       "      <td>RK20202349</td>\n",
       "      <td>Bagus</td>\n",
       "      <td>bagus@hotmail.com</td>\n",
       "      <td>628816223</td>\n",
       "      <td>16</td>\n",
       "      <td>Kota Administrasi Jakarta Pusat</td>\n",
       "      <td>Jakarta</td>\n",
       "      <td>1</td>\n",
       "      <td>1</td>\n",
       "      <td>84</td>\n",
       "    </tr>\n",
       "    <tr>\n",
       "      <th>7</th>\n",
       "      <td>RK20202351</td>\n",
       "      <td>Yuni</td>\n",
       "      <td>yuni@google.com</td>\n",
       "      <td>628714465</td>\n",
       "      <td>16</td>\n",
       "      <td>Kota Administrasi Jakarta Pusat</td>\n",
       "      <td>Jakarta</td>\n",
       "      <td>0</td>\n",
       "      <td>1</td>\n",
       "      <td>87</td>\n",
       "    </tr>\n",
       "    <tr>\n",
       "      <th>...</th>\n",
       "      <td>...</td>\n",
       "      <td>...</td>\n",
       "      <td>...</td>\n",
       "      <td>...</td>\n",
       "      <td>...</td>\n",
       "      <td>...</td>\n",
       "      <td>...</td>\n",
       "      <td>...</td>\n",
       "      <td>...</td>\n",
       "      <td>...</td>\n",
       "    </tr>\n",
       "    <tr>\n",
       "      <th>0</th>\n",
       "      <td>RK20202344</td>\n",
       "      <td>Nina</td>\n",
       "      <td>nina@gmail.com</td>\n",
       "      <td>628198157</td>\n",
       "      <td>57</td>\n",
       "      <td>Tanjungpinang</td>\n",
       "      <td>Kepulauan Riau</td>\n",
       "      <td>1</td>\n",
       "      <td>6</td>\n",
       "      <td>80</td>\n",
       "    </tr>\n",
       "    <tr>\n",
       "      <th>42</th>\n",
       "      <td>RK20202386</td>\n",
       "      <td>Hendra</td>\n",
       "      <td>hendra@hotmail.com</td>\n",
       "      <td>628452630</td>\n",
       "      <td>58</td>\n",
       "      <td>Bandar Lampung</td>\n",
       "      <td>Lampung</td>\n",
       "      <td>1</td>\n",
       "      <td>6</td>\n",
       "      <td>75</td>\n",
       "    </tr>\n",
       "    <tr>\n",
       "      <th>32</th>\n",
       "      <td>RK20202376</td>\n",
       "      <td>Hafizh</td>\n",
       "      <td>hafizh@google.com</td>\n",
       "      <td>628535862</td>\n",
       "      <td>58</td>\n",
       "      <td>Bandar Lampung</td>\n",
       "      <td>Lampung</td>\n",
       "      <td>1</td>\n",
       "      <td>6</td>\n",
       "      <td>82</td>\n",
       "    </tr>\n",
       "    <tr>\n",
       "      <th>3</th>\n",
       "      <td>RK20202347</td>\n",
       "      <td>Firman</td>\n",
       "      <td>firman@google.com</td>\n",
       "      <td>628638112</td>\n",
       "      <td>59</td>\n",
       "      <td>Metro</td>\n",
       "      <td>Lampung</td>\n",
       "      <td>1</td>\n",
       "      <td>6</td>\n",
       "      <td>93</td>\n",
       "    </tr>\n",
       "    <tr>\n",
       "      <th>13</th>\n",
       "      <td>RK20202357</td>\n",
       "      <td>Amelia</td>\n",
       "      <td>amelia@ymail.com</td>\n",
       "      <td>628375103</td>\n",
       "      <td>59</td>\n",
       "      <td>Metro</td>\n",
       "      <td>Lampung</td>\n",
       "      <td>1</td>\n",
       "      <td>6</td>\n",
       "      <td>67</td>\n",
       "    </tr>\n",
       "  </tbody>\n",
       "</table>\n",
       "<p>100 rows × 10 columns</p>\n",
       "</div>"
      ],
      "text/plain": [
       "   registration_id     name                email      phone  age  \\\n",
       "92      RK20202436  Munaroh  munaroh@hotmail.com  628636716   15   \n",
       "82      RK20202426      Een     een@facebook.com  628018377   15   \n",
       "2       RK20202346    Prima      prima@ymail.com  628755450   16   \n",
       "5       RK20202349    Bagus    bagus@hotmail.com  628816223   16   \n",
       "7       RK20202351     Yuni      yuni@google.com  628714465   16   \n",
       "..             ...      ...                  ...        ...  ...   \n",
       "0       RK20202344     Nina       nina@gmail.com  628198157   57   \n",
       "42      RK20202386   Hendra   hendra@hotmail.com  628452630   58   \n",
       "32      RK20202376   Hafizh    hafizh@google.com  628535862   58   \n",
       "3       RK20202347   Firman    firman@google.com  628638112   59   \n",
       "13      RK20202357   Amelia     amelia@ymail.com  628375103   59   \n",
       "\n",
       "                               city        province  active  class  score  \n",
       "92  Kota Administrasi Jakarta Barat         Jakarta       0      1     91  \n",
       "82  Kota Administrasi Jakarta Barat         Jakarta       1      1     74  \n",
       "2   Kota Administrasi Jakarta Pusat         Jakarta       1      1     55  \n",
       "5   Kota Administrasi Jakarta Pusat         Jakarta       1      1     84  \n",
       "7   Kota Administrasi Jakarta Pusat         Jakarta       0      1     87  \n",
       "..                              ...             ...     ...    ...    ...  \n",
       "0                     Tanjungpinang  Kepulauan Riau       1      6     80  \n",
       "42                   Bandar Lampung         Lampung       1      6     75  \n",
       "32                   Bandar Lampung         Lampung       1      6     82  \n",
       "3                             Metro         Lampung       1      6     93  \n",
       "13                            Metro         Lampung       1      6     67  \n",
       "\n",
       "[100 rows x 10 columns]"
      ]
     },
     "execution_count": 25,
     "metadata": {},
     "output_type": "execute_result"
    }
   ],
   "source": [
    "df_dataset.sort_values('age')"
   ]
  },
  {
   "cell_type": "code",
   "execution_count": 26,
   "metadata": {
    "id": "a6xTZjZX9upN"
   },
   "outputs": [
    {
     "data": {
      "text/html": [
       "<div>\n",
       "<style scoped>\n",
       "    .dataframe tbody tr th:only-of-type {\n",
       "        vertical-align: middle;\n",
       "    }\n",
       "\n",
       "    .dataframe tbody tr th {\n",
       "        vertical-align: top;\n",
       "    }\n",
       "\n",
       "    .dataframe thead th {\n",
       "        text-align: right;\n",
       "    }\n",
       "</style>\n",
       "<table border=\"1\" class=\"dataframe\">\n",
       "  <thead>\n",
       "    <tr style=\"text-align: right;\">\n",
       "      <th></th>\n",
       "      <th>registration_id</th>\n",
       "      <th>name</th>\n",
       "      <th>email</th>\n",
       "      <th>phone</th>\n",
       "      <th>age</th>\n",
       "      <th>city</th>\n",
       "      <th>province</th>\n",
       "      <th>active</th>\n",
       "      <th>class</th>\n",
       "      <th>score</th>\n",
       "    </tr>\n",
       "  </thead>\n",
       "  <tbody>\n",
       "    <tr>\n",
       "      <th>92</th>\n",
       "      <td>RK20202436</td>\n",
       "      <td>Munaroh</td>\n",
       "      <td>munaroh@hotmail.com</td>\n",
       "      <td>628636716</td>\n",
       "      <td>15</td>\n",
       "      <td>Kota Administrasi Jakarta Barat</td>\n",
       "      <td>Jakarta</td>\n",
       "      <td>0</td>\n",
       "      <td>1</td>\n",
       "      <td>91</td>\n",
       "    </tr>\n",
       "    <tr>\n",
       "      <th>82</th>\n",
       "      <td>RK20202426</td>\n",
       "      <td>Een</td>\n",
       "      <td>een@facebook.com</td>\n",
       "      <td>628018377</td>\n",
       "      <td>15</td>\n",
       "      <td>Kota Administrasi Jakarta Barat</td>\n",
       "      <td>Jakarta</td>\n",
       "      <td>1</td>\n",
       "      <td>1</td>\n",
       "      <td>74</td>\n",
       "    </tr>\n",
       "    <tr>\n",
       "      <th>2</th>\n",
       "      <td>RK20202346</td>\n",
       "      <td>Prima</td>\n",
       "      <td>prima@ymail.com</td>\n",
       "      <td>628755450</td>\n",
       "      <td>16</td>\n",
       "      <td>Kota Administrasi Jakarta Pusat</td>\n",
       "      <td>Jakarta</td>\n",
       "      <td>1</td>\n",
       "      <td>1</td>\n",
       "      <td>55</td>\n",
       "    </tr>\n",
       "    <tr>\n",
       "      <th>5</th>\n",
       "      <td>RK20202349</td>\n",
       "      <td>Bagus</td>\n",
       "      <td>bagus@hotmail.com</td>\n",
       "      <td>628816223</td>\n",
       "      <td>16</td>\n",
       "      <td>Kota Administrasi Jakarta Pusat</td>\n",
       "      <td>Jakarta</td>\n",
       "      <td>1</td>\n",
       "      <td>1</td>\n",
       "      <td>84</td>\n",
       "    </tr>\n",
       "    <tr>\n",
       "      <th>7</th>\n",
       "      <td>RK20202351</td>\n",
       "      <td>Yuni</td>\n",
       "      <td>yuni@google.com</td>\n",
       "      <td>628714465</td>\n",
       "      <td>16</td>\n",
       "      <td>Kota Administrasi Jakarta Pusat</td>\n",
       "      <td>Jakarta</td>\n",
       "      <td>0</td>\n",
       "      <td>1</td>\n",
       "      <td>87</td>\n",
       "    </tr>\n",
       "    <tr>\n",
       "      <th>...</th>\n",
       "      <td>...</td>\n",
       "      <td>...</td>\n",
       "      <td>...</td>\n",
       "      <td>...</td>\n",
       "      <td>...</td>\n",
       "      <td>...</td>\n",
       "      <td>...</td>\n",
       "      <td>...</td>\n",
       "      <td>...</td>\n",
       "      <td>...</td>\n",
       "    </tr>\n",
       "    <tr>\n",
       "      <th>0</th>\n",
       "      <td>RK20202344</td>\n",
       "      <td>Nina</td>\n",
       "      <td>nina@gmail.com</td>\n",
       "      <td>628198157</td>\n",
       "      <td>57</td>\n",
       "      <td>Tanjungpinang</td>\n",
       "      <td>Kepulauan Riau</td>\n",
       "      <td>1</td>\n",
       "      <td>6</td>\n",
       "      <td>80</td>\n",
       "    </tr>\n",
       "    <tr>\n",
       "      <th>42</th>\n",
       "      <td>RK20202386</td>\n",
       "      <td>Hendra</td>\n",
       "      <td>hendra@hotmail.com</td>\n",
       "      <td>628452630</td>\n",
       "      <td>58</td>\n",
       "      <td>Bandar Lampung</td>\n",
       "      <td>Lampung</td>\n",
       "      <td>1</td>\n",
       "      <td>6</td>\n",
       "      <td>75</td>\n",
       "    </tr>\n",
       "    <tr>\n",
       "      <th>32</th>\n",
       "      <td>RK20202376</td>\n",
       "      <td>Hafizh</td>\n",
       "      <td>hafizh@google.com</td>\n",
       "      <td>628535862</td>\n",
       "      <td>58</td>\n",
       "      <td>Bandar Lampung</td>\n",
       "      <td>Lampung</td>\n",
       "      <td>1</td>\n",
       "      <td>6</td>\n",
       "      <td>82</td>\n",
       "    </tr>\n",
       "    <tr>\n",
       "      <th>3</th>\n",
       "      <td>RK20202347</td>\n",
       "      <td>Firman</td>\n",
       "      <td>firman@google.com</td>\n",
       "      <td>628638112</td>\n",
       "      <td>59</td>\n",
       "      <td>Metro</td>\n",
       "      <td>Lampung</td>\n",
       "      <td>1</td>\n",
       "      <td>6</td>\n",
       "      <td>93</td>\n",
       "    </tr>\n",
       "    <tr>\n",
       "      <th>13</th>\n",
       "      <td>RK20202357</td>\n",
       "      <td>Amelia</td>\n",
       "      <td>amelia@ymail.com</td>\n",
       "      <td>628375103</td>\n",
       "      <td>59</td>\n",
       "      <td>Metro</td>\n",
       "      <td>Lampung</td>\n",
       "      <td>1</td>\n",
       "      <td>6</td>\n",
       "      <td>67</td>\n",
       "    </tr>\n",
       "  </tbody>\n",
       "</table>\n",
       "<p>100 rows × 10 columns</p>\n",
       "</div>"
      ],
      "text/plain": [
       "   registration_id     name                email      phone  age  \\\n",
       "92      RK20202436  Munaroh  munaroh@hotmail.com  628636716   15   \n",
       "82      RK20202426      Een     een@facebook.com  628018377   15   \n",
       "2       RK20202346    Prima      prima@ymail.com  628755450   16   \n",
       "5       RK20202349    Bagus    bagus@hotmail.com  628816223   16   \n",
       "7       RK20202351     Yuni      yuni@google.com  628714465   16   \n",
       "..             ...      ...                  ...        ...  ...   \n",
       "0       RK20202344     Nina       nina@gmail.com  628198157   57   \n",
       "42      RK20202386   Hendra   hendra@hotmail.com  628452630   58   \n",
       "32      RK20202376   Hafizh    hafizh@google.com  628535862   58   \n",
       "3       RK20202347   Firman    firman@google.com  628638112   59   \n",
       "13      RK20202357   Amelia     amelia@ymail.com  628375103   59   \n",
       "\n",
       "                               city        province  active  class  score  \n",
       "92  Kota Administrasi Jakarta Barat         Jakarta       0      1     91  \n",
       "82  Kota Administrasi Jakarta Barat         Jakarta       1      1     74  \n",
       "2   Kota Administrasi Jakarta Pusat         Jakarta       1      1     55  \n",
       "5   Kota Administrasi Jakarta Pusat         Jakarta       1      1     84  \n",
       "7   Kota Administrasi Jakarta Pusat         Jakarta       0      1     87  \n",
       "..                              ...             ...     ...    ...    ...  \n",
       "0                     Tanjungpinang  Kepulauan Riau       1      6     80  \n",
       "42                   Bandar Lampung         Lampung       1      6     75  \n",
       "32                   Bandar Lampung         Lampung       1      6     82  \n",
       "3                             Metro         Lampung       1      6     93  \n",
       "13                            Metro         Lampung       1      6     67  \n",
       "\n",
       "[100 rows x 10 columns]"
      ]
     },
     "execution_count": 26,
     "metadata": {},
     "output_type": "execute_result"
    }
   ],
   "source": [
    "df_dataset.sort_values('age', ascending=True)"
   ]
  },
  {
   "cell_type": "markdown",
   "metadata": {
    "id": "SWgQrayd9upN"
   },
   "source": [
    "### Mengurutkan age dari tertua ke termuda (DESCENDING - Besar ke Kecil)"
   ]
  },
  {
   "cell_type": "code",
   "execution_count": 35,
   "metadata": {
    "id": "Hy4ip9oS9upN"
   },
   "outputs": [
    {
     "data": {
      "text/html": [
       "<div>\n",
       "<style scoped>\n",
       "    .dataframe tbody tr th:only-of-type {\n",
       "        vertical-align: middle;\n",
       "    }\n",
       "\n",
       "    .dataframe tbody tr th {\n",
       "        vertical-align: top;\n",
       "    }\n",
       "\n",
       "    .dataframe thead th {\n",
       "        text-align: right;\n",
       "    }\n",
       "</style>\n",
       "<table border=\"1\" class=\"dataframe\">\n",
       "  <thead>\n",
       "    <tr style=\"text-align: right;\">\n",
       "      <th></th>\n",
       "      <th>registration_id</th>\n",
       "      <th>name</th>\n",
       "      <th>email</th>\n",
       "      <th>phone</th>\n",
       "      <th>age</th>\n",
       "      <th>city</th>\n",
       "      <th>province</th>\n",
       "      <th>active</th>\n",
       "      <th>class</th>\n",
       "      <th>score</th>\n",
       "    </tr>\n",
       "  </thead>\n",
       "  <tbody>\n",
       "    <tr>\n",
       "      <th>13</th>\n",
       "      <td>RK20202357</td>\n",
       "      <td>Amelia</td>\n",
       "      <td>amelia@ymail.com</td>\n",
       "      <td>628375103</td>\n",
       "      <td>59</td>\n",
       "      <td>Metro</td>\n",
       "      <td>Lampung</td>\n",
       "      <td>1</td>\n",
       "      <td>6</td>\n",
       "      <td>67</td>\n",
       "    </tr>\n",
       "    <tr>\n",
       "      <th>3</th>\n",
       "      <td>RK20202347</td>\n",
       "      <td>Firman</td>\n",
       "      <td>firman@google.com</td>\n",
       "      <td>628638112</td>\n",
       "      <td>59</td>\n",
       "      <td>Metro</td>\n",
       "      <td>Lampung</td>\n",
       "      <td>1</td>\n",
       "      <td>6</td>\n",
       "      <td>93</td>\n",
       "    </tr>\n",
       "    <tr>\n",
       "      <th>42</th>\n",
       "      <td>RK20202386</td>\n",
       "      <td>Hendra</td>\n",
       "      <td>hendra@hotmail.com</td>\n",
       "      <td>628452630</td>\n",
       "      <td>58</td>\n",
       "      <td>Bandar Lampung</td>\n",
       "      <td>Lampung</td>\n",
       "      <td>1</td>\n",
       "      <td>6</td>\n",
       "      <td>75</td>\n",
       "    </tr>\n",
       "    <tr>\n",
       "      <th>32</th>\n",
       "      <td>RK20202376</td>\n",
       "      <td>Hafizh</td>\n",
       "      <td>hafizh@google.com</td>\n",
       "      <td>628535862</td>\n",
       "      <td>58</td>\n",
       "      <td>Bandar Lampung</td>\n",
       "      <td>Lampung</td>\n",
       "      <td>1</td>\n",
       "      <td>6</td>\n",
       "      <td>82</td>\n",
       "    </tr>\n",
       "    <tr>\n",
       "      <th>0</th>\n",
       "      <td>RK20202344</td>\n",
       "      <td>Nina</td>\n",
       "      <td>nina@gmail.com</td>\n",
       "      <td>628198157</td>\n",
       "      <td>57</td>\n",
       "      <td>Tanjungpinang</td>\n",
       "      <td>Kepulauan Riau</td>\n",
       "      <td>1</td>\n",
       "      <td>6</td>\n",
       "      <td>80</td>\n",
       "    </tr>\n",
       "    <tr>\n",
       "      <th>...</th>\n",
       "      <td>...</td>\n",
       "      <td>...</td>\n",
       "      <td>...</td>\n",
       "      <td>...</td>\n",
       "      <td>...</td>\n",
       "      <td>...</td>\n",
       "      <td>...</td>\n",
       "      <td>...</td>\n",
       "      <td>...</td>\n",
       "      <td>...</td>\n",
       "    </tr>\n",
       "    <tr>\n",
       "      <th>7</th>\n",
       "      <td>RK20202351</td>\n",
       "      <td>Yuni</td>\n",
       "      <td>yuni@google.com</td>\n",
       "      <td>628714465</td>\n",
       "      <td>16</td>\n",
       "      <td>Kota Administrasi Jakarta Pusat</td>\n",
       "      <td>Jakarta</td>\n",
       "      <td>0</td>\n",
       "      <td>1</td>\n",
       "      <td>87</td>\n",
       "    </tr>\n",
       "    <tr>\n",
       "      <th>5</th>\n",
       "      <td>RK20202349</td>\n",
       "      <td>Bagus</td>\n",
       "      <td>bagus@hotmail.com</td>\n",
       "      <td>628816223</td>\n",
       "      <td>16</td>\n",
       "      <td>Kota Administrasi Jakarta Pusat</td>\n",
       "      <td>Jakarta</td>\n",
       "      <td>1</td>\n",
       "      <td>1</td>\n",
       "      <td>84</td>\n",
       "    </tr>\n",
       "    <tr>\n",
       "      <th>2</th>\n",
       "      <td>RK20202346</td>\n",
       "      <td>Prima</td>\n",
       "      <td>prima@ymail.com</td>\n",
       "      <td>628755450</td>\n",
       "      <td>16</td>\n",
       "      <td>Kota Administrasi Jakarta Pusat</td>\n",
       "      <td>Jakarta</td>\n",
       "      <td>1</td>\n",
       "      <td>1</td>\n",
       "      <td>55</td>\n",
       "    </tr>\n",
       "    <tr>\n",
       "      <th>92</th>\n",
       "      <td>RK20202436</td>\n",
       "      <td>Munaroh</td>\n",
       "      <td>munaroh@hotmail.com</td>\n",
       "      <td>628636716</td>\n",
       "      <td>15</td>\n",
       "      <td>Kota Administrasi Jakarta Barat</td>\n",
       "      <td>Jakarta</td>\n",
       "      <td>0</td>\n",
       "      <td>1</td>\n",
       "      <td>91</td>\n",
       "    </tr>\n",
       "    <tr>\n",
       "      <th>82</th>\n",
       "      <td>RK20202426</td>\n",
       "      <td>Een</td>\n",
       "      <td>een@facebook.com</td>\n",
       "      <td>628018377</td>\n",
       "      <td>15</td>\n",
       "      <td>Kota Administrasi Jakarta Barat</td>\n",
       "      <td>Jakarta</td>\n",
       "      <td>1</td>\n",
       "      <td>1</td>\n",
       "      <td>74</td>\n",
       "    </tr>\n",
       "  </tbody>\n",
       "</table>\n",
       "<p>100 rows × 10 columns</p>\n",
       "</div>"
      ],
      "text/plain": [
       "   registration_id     name                email      phone  age  \\\n",
       "13      RK20202357   Amelia     amelia@ymail.com  628375103   59   \n",
       "3       RK20202347   Firman    firman@google.com  628638112   59   \n",
       "42      RK20202386   Hendra   hendra@hotmail.com  628452630   58   \n",
       "32      RK20202376   Hafizh    hafizh@google.com  628535862   58   \n",
       "0       RK20202344     Nina       nina@gmail.com  628198157   57   \n",
       "..             ...      ...                  ...        ...  ...   \n",
       "7       RK20202351     Yuni      yuni@google.com  628714465   16   \n",
       "5       RK20202349    Bagus    bagus@hotmail.com  628816223   16   \n",
       "2       RK20202346    Prima      prima@ymail.com  628755450   16   \n",
       "92      RK20202436  Munaroh  munaroh@hotmail.com  628636716   15   \n",
       "82      RK20202426      Een     een@facebook.com  628018377   15   \n",
       "\n",
       "                               city        province  active  class  score  \n",
       "13                            Metro         Lampung       1      6     67  \n",
       "3                             Metro         Lampung       1      6     93  \n",
       "42                   Bandar Lampung         Lampung       1      6     75  \n",
       "32                   Bandar Lampung         Lampung       1      6     82  \n",
       "0                     Tanjungpinang  Kepulauan Riau       1      6     80  \n",
       "..                              ...             ...     ...    ...    ...  \n",
       "7   Kota Administrasi Jakarta Pusat         Jakarta       0      1     87  \n",
       "5   Kota Administrasi Jakarta Pusat         Jakarta       1      1     84  \n",
       "2   Kota Administrasi Jakarta Pusat         Jakarta       1      1     55  \n",
       "92  Kota Administrasi Jakarta Barat         Jakarta       0      1     91  \n",
       "82  Kota Administrasi Jakarta Barat         Jakarta       1      1     74  \n",
       "\n",
       "[100 rows x 10 columns]"
      ]
     },
     "execution_count": 35,
     "metadata": {},
     "output_type": "execute_result"
    }
   ],
   "source": [
    "df_dataset.sort_values('age', ascending=False)"
   ]
  },
  {
   "cell_type": "markdown",
   "metadata": {
    "id": "RisyAmYjZf0g"
   },
   "source": [
    "### Ambil data 10 orang pertama sesuai abjad"
   ]
  },
  {
   "cell_type": "code",
   "execution_count": 38,
   "metadata": {
    "id": "oyUdjS85aVdN"
   },
   "outputs": [
    {
     "data": {
      "text/html": [
       "<div>\n",
       "<style scoped>\n",
       "    .dataframe tbody tr th:only-of-type {\n",
       "        vertical-align: middle;\n",
       "    }\n",
       "\n",
       "    .dataframe tbody tr th {\n",
       "        vertical-align: top;\n",
       "    }\n",
       "\n",
       "    .dataframe thead th {\n",
       "        text-align: right;\n",
       "    }\n",
       "</style>\n",
       "<table border=\"1\" class=\"dataframe\">\n",
       "  <thead>\n",
       "    <tr style=\"text-align: right;\">\n",
       "      <th></th>\n",
       "      <th>registration_id</th>\n",
       "      <th>name</th>\n",
       "      <th>email</th>\n",
       "      <th>phone</th>\n",
       "      <th>age</th>\n",
       "      <th>city</th>\n",
       "      <th>province</th>\n",
       "      <th>active</th>\n",
       "      <th>class</th>\n",
       "      <th>score</th>\n",
       "    </tr>\n",
       "  </thead>\n",
       "  <tbody>\n",
       "    <tr>\n",
       "      <th>95</th>\n",
       "      <td>RK20202439</td>\n",
       "      <td>Abdul</td>\n",
       "      <td>abdul@gmail.com</td>\n",
       "      <td>628989064</td>\n",
       "      <td>54</td>\n",
       "      <td>Samarinda</td>\n",
       "      <td>Kalimantan Timur</td>\n",
       "      <td>0</td>\n",
       "      <td>6</td>\n",
       "      <td>59</td>\n",
       "    </tr>\n",
       "    <tr>\n",
       "      <th>57</th>\n",
       "      <td>RK20202401</td>\n",
       "      <td>Abdul</td>\n",
       "      <td>abdul@samsung.com</td>\n",
       "      <td>628480456</td>\n",
       "      <td>25</td>\n",
       "      <td>Cimahi</td>\n",
       "      <td>Jawa Barat</td>\n",
       "      <td>1</td>\n",
       "      <td>2</td>\n",
       "      <td>81</td>\n",
       "    </tr>\n",
       "    <tr>\n",
       "      <th>75</th>\n",
       "      <td>RK20202419</td>\n",
       "      <td>Achmad</td>\n",
       "      <td>achmad@ymail.com</td>\n",
       "      <td>628364382</td>\n",
       "      <td>44</td>\n",
       "      <td>Pasuruan</td>\n",
       "      <td>Jawa Timur</td>\n",
       "      <td>1</td>\n",
       "      <td>5</td>\n",
       "      <td>53</td>\n",
       "    </tr>\n",
       "    <tr>\n",
       "      <th>79</th>\n",
       "      <td>RK20202423</td>\n",
       "      <td>Ade</td>\n",
       "      <td>ade@gmail.com</td>\n",
       "      <td>628873409</td>\n",
       "      <td>51</td>\n",
       "      <td>Palangkaraya</td>\n",
       "      <td>Kalimantan Tengah</td>\n",
       "      <td>0</td>\n",
       "      <td>6</td>\n",
       "      <td>74</td>\n",
       "    </tr>\n",
       "    <tr>\n",
       "      <th>84</th>\n",
       "      <td>RK20202428</td>\n",
       "      <td>Adi</td>\n",
       "      <td>adi@gmail.com</td>\n",
       "      <td>628238365</td>\n",
       "      <td>35</td>\n",
       "      <td>Semarang</td>\n",
       "      <td>Jawa Tengah</td>\n",
       "      <td>0</td>\n",
       "      <td>4</td>\n",
       "      <td>91</td>\n",
       "    </tr>\n",
       "    <tr>\n",
       "      <th>69</th>\n",
       "      <td>RK20202413</td>\n",
       "      <td>Aditya</td>\n",
       "      <td>aditya@gmail.com</td>\n",
       "      <td>628192927</td>\n",
       "      <td>49</td>\n",
       "      <td>Banjarbaru</td>\n",
       "      <td>Kalimantan Selatan</td>\n",
       "      <td>1</td>\n",
       "      <td>5</td>\n",
       "      <td>59</td>\n",
       "    </tr>\n",
       "    <tr>\n",
       "      <th>64</th>\n",
       "      <td>RK20202408</td>\n",
       "      <td>Agustina</td>\n",
       "      <td>agustina@samsung.com</td>\n",
       "      <td>628129314</td>\n",
       "      <td>26</td>\n",
       "      <td>Cirebon</td>\n",
       "      <td>Jawa Barat</td>\n",
       "      <td>1</td>\n",
       "      <td>2</td>\n",
       "      <td>59</td>\n",
       "    </tr>\n",
       "    <tr>\n",
       "      <th>11</th>\n",
       "      <td>RK20202355</td>\n",
       "      <td>Amalia</td>\n",
       "      <td>amalia@hotmail.com</td>\n",
       "      <td>628947349</td>\n",
       "      <td>56</td>\n",
       "      <td>Batam</td>\n",
       "      <td>Kepulauan Riau</td>\n",
       "      <td>1</td>\n",
       "      <td>6</td>\n",
       "      <td>63</td>\n",
       "    </tr>\n",
       "    <tr>\n",
       "      <th>13</th>\n",
       "      <td>RK20202357</td>\n",
       "      <td>Amelia</td>\n",
       "      <td>amelia@ymail.com</td>\n",
       "      <td>628375103</td>\n",
       "      <td>59</td>\n",
       "      <td>Metro</td>\n",
       "      <td>Lampung</td>\n",
       "      <td>1</td>\n",
       "      <td>6</td>\n",
       "      <td>67</td>\n",
       "    </tr>\n",
       "    <tr>\n",
       "      <th>71</th>\n",
       "      <td>RK20202415</td>\n",
       "      <td>Angga</td>\n",
       "      <td>angga@ymail.com</td>\n",
       "      <td>628637906</td>\n",
       "      <td>52</td>\n",
       "      <td>Balikpapan</td>\n",
       "      <td>Kalimantan Timur</td>\n",
       "      <td>1</td>\n",
       "      <td>6</td>\n",
       "      <td>71</td>\n",
       "    </tr>\n",
       "  </tbody>\n",
       "</table>\n",
       "</div>"
      ],
      "text/plain": [
       "   registration_id      name                 email      phone  age  \\\n",
       "95      RK20202439     Abdul       abdul@gmail.com  628989064   54   \n",
       "57      RK20202401     Abdul     abdul@samsung.com  628480456   25   \n",
       "75      RK20202419    Achmad      achmad@ymail.com  628364382   44   \n",
       "79      RK20202423       Ade         ade@gmail.com  628873409   51   \n",
       "84      RK20202428       Adi         adi@gmail.com  628238365   35   \n",
       "69      RK20202413    Aditya      aditya@gmail.com  628192927   49   \n",
       "64      RK20202408  Agustina  agustina@samsung.com  628129314   26   \n",
       "11      RK20202355    Amalia    amalia@hotmail.com  628947349   56   \n",
       "13      RK20202357    Amelia      amelia@ymail.com  628375103   59   \n",
       "71      RK20202415     Angga       angga@ymail.com  628637906   52   \n",
       "\n",
       "            city            province  active  class  score  \n",
       "95     Samarinda    Kalimantan Timur       0      6     59  \n",
       "57        Cimahi          Jawa Barat       1      2     81  \n",
       "75      Pasuruan          Jawa Timur       1      5     53  \n",
       "79  Palangkaraya   Kalimantan Tengah       0      6     74  \n",
       "84      Semarang         Jawa Tengah       0      4     91  \n",
       "69    Banjarbaru  Kalimantan Selatan       1      5     59  \n",
       "64       Cirebon          Jawa Barat       1      2     59  \n",
       "11         Batam      Kepulauan Riau       1      6     63  \n",
       "13         Metro             Lampung       1      6     67  \n",
       "71    Balikpapan    Kalimantan Timur       1      6     71  "
      ]
     },
     "execution_count": 38,
     "metadata": {},
     "output_type": "execute_result"
    }
   ],
   "source": [
    "df_name = df_dataset.sort_values('name', ascending = True)\n",
    "df_name.head(10)"
   ]
  },
  {
   "cell_type": "markdown",
   "metadata": {
    "id": "GFCgYhMEac__"
   },
   "source": [
    "### [CHALLENGE] Ambil data 10 orang dengan score terendah"
   ]
  },
  {
   "cell_type": "code",
   "execution_count": null,
   "metadata": {
    "id": "npfQ6BRpajD4"
   },
   "outputs": [],
   "source": []
  },
  {
   "cell_type": "markdown",
   "metadata": {
    "id": "Kz3xdMgn9upP"
   },
   "source": [
    "# Data Filtering"
   ]
  },
  {
   "cell_type": "markdown",
   "metadata": {
    "id": "xj8ttIPv9upQ"
   },
   "source": [
    "### Filter kolom name, email, phone, province"
   ]
  },
  {
   "cell_type": "code",
   "execution_count": null,
   "metadata": {
    "id": "6eFswmLb9upQ"
   },
   "outputs": [],
   "source": [
    "df_dataset[ ['name','email','phone','province'] ].head()"
   ]
  },
  {
   "cell_type": "markdown",
   "metadata": {
    "id": "8yxY7CZTphf9"
   },
   "source": [
    "## Ambil nama tiap orang beserta score nya"
   ]
  },
  {
   "cell_type": "code",
   "execution_count": null,
   "metadata": {
    "id": "ajkvq7PkrO07"
   },
   "outputs": [],
   "source": [
    "df_dataset[['name','score']]"
   ]
  },
  {
   "cell_type": "markdown",
   "metadata": {
    "id": "JwXWAx3i9upR"
   },
   "source": [
    "### Ambil data orang-orang dari Jakarta"
   ]
  },
  {
   "cell_type": "code",
   "execution_count": null,
   "metadata": {
    "id": "CziWPQe-c29v"
   },
   "outputs": [],
   "source": [
    "df_dataset[df_dataset['province']=='Jakarta']"
   ]
  },
  {
   "cell_type": "markdown",
   "metadata": {
    "id": "1R0fWRhrdAdq"
   },
   "source": [
    "### Ambil data orang-orang yang berusia lebih dari 30 tahun"
   ]
  },
  {
   "cell_type": "code",
   "execution_count": null,
   "metadata": {
    "id": "CB42bnAAdcGV"
   },
   "outputs": [],
   "source": [
    "df_dataset[df_dataset['age'] > 30]"
   ]
  },
  {
   "cell_type": "markdown",
   "metadata": {
    "id": "6bOBai_adl2X"
   },
   "source": [
    "### Ambil data orang-orang dengan score <= 60"
   ]
  },
  {
   "cell_type": "code",
   "execution_count": null,
   "metadata": {
    "id": "nhqiXV1pdrjf"
   },
   "outputs": [],
   "source": [
    "df_dataset[df_dataset['score'] <= 60]"
   ]
  },
  {
   "cell_type": "markdown",
   "metadata": {
    "id": "UkFM6Y1-rsHU"
   },
   "source": [
    "## Ada berapa orang yang punya score <= 60"
   ]
  },
  {
   "cell_type": "code",
   "execution_count": null,
   "metadata": {
    "id": "yU_D_xnyrmua"
   },
   "outputs": [],
   "source": []
  },
  {
   "cell_type": "markdown",
   "metadata": {
    "id": "CIK-2U_Cdz8-"
   },
   "source": [
    "### Ambil data orang-orang yang bukan dari kota Depok"
   ]
  },
  {
   "cell_type": "code",
   "execution_count": null,
   "metadata": {
    "id": "aiA1h6mTd9lw"
   },
   "outputs": [],
   "source": [
    "df_dataset[df_dataset['city'] != 'Depok']"
   ]
  },
  {
   "cell_type": "markdown",
   "metadata": {
    "id": "e2v2-4Gl9upV"
   },
   "source": [
    "## Ambil data orang-orang dari Jawa Timur dengan umur > 40"
   ]
  },
  {
   "cell_type": "code",
   "execution_count": null,
   "metadata": {
    "id": "yFa4M9E73f5p"
   },
   "outputs": [],
   "source": [
    "df_dataset[ (df_dataset['province'] == 'Jawa Timur') & (df_dataset['age'] > 40) ]"
   ]
  },
  {
   "cell_type": "markdown",
   "metadata": {
    "id": "n_2VxWELsm7u"
   },
   "source": [
    "## Ambil data orang-orang yang dari Surabaya, atau punya score > 90"
   ]
  },
  {
   "cell_type": "code",
   "execution_count": null,
   "metadata": {
    "id": "EgyRabzJsySx"
   },
   "outputs": [],
   "source": [
    "df_dataset[ (df_dataset['city'] == 'Surabaya') | (df_dataset['score'] > 90) ]"
   ]
  },
  {
   "cell_type": "markdown",
   "metadata": {
    "id": "ZPppvhYJsRSj"
   },
   "source": [
    "## Ambil data orang-orang yang bukan dari Malang"
   ]
  },
  {
   "cell_type": "code",
   "execution_count": null,
   "metadata": {
    "id": "s9dRkJMZsjqN"
   },
   "outputs": [],
   "source": []
  },
  {
   "cell_type": "markdown",
   "metadata": {
    "id": "80UgGxmCvPMg"
   },
   "source": [
    "## Siapa orang paling tua yang berasal dari Jawa Tengah?"
   ]
  },
  {
   "cell_type": "code",
   "execution_count": null,
   "metadata": {
    "id": "MLSnUy7vvZDi"
   },
   "outputs": [],
   "source": []
  },
  {
   "cell_type": "markdown",
   "metadata": {
    "id": "fAB5ycQKtEu9"
   },
   "source": [
    "## [CHALLENGE] Ada berapa banyak orang di kelas 4 yang berasal dari Jawa Tengah?"
   ]
  },
  {
   "cell_type": "code",
   "execution_count": null,
   "metadata": {
    "id": "EBnryLkZwKUy"
   },
   "outputs": [],
   "source": []
  },
  {
   "cell_type": "markdown",
   "metadata": {
    "id": "apmqGwlHxyGE"
   },
   "source": [
    "## [CHALLENGE] Siapa nama pemilik no HP 628833542?"
   ]
  },
  {
   "cell_type": "code",
   "execution_count": null,
   "metadata": {
    "id": "d4hzc1c1tk96"
   },
   "outputs": [],
   "source": []
  },
  {
   "cell_type": "markdown",
   "metadata": {
    "id": "4cRZhBeftvBD"
   },
   "source": [
    "## Untuk semua orang di kelas 1, tunjukkan info nama, kota, dan provinsi nya"
   ]
  },
  {
   "cell_type": "code",
   "execution_count": null,
   "metadata": {
    "id": "LqDhZgV9t7oI"
   },
   "outputs": [],
   "source": []
  },
  {
   "cell_type": "markdown",
   "metadata": {
    "id": "YTUWbph5ehM3"
   },
   "source": [
    "# Data Aggregation"
   ]
  },
  {
   "cell_type": "markdown",
   "metadata": {
    "id": "__s93Tz-4ci_"
   },
   "source": [
    "## Melihat jumlah orang per provinsi"
   ]
  },
  {
   "cell_type": "code",
   "execution_count": null,
   "metadata": {
    "id": "TkvTw2p_4ggk"
   },
   "outputs": [],
   "source": [
    "df_dataset.groupby('province')['registration_id'].count()"
   ]
  },
  {
   "cell_type": "markdown",
   "metadata": {
    "id": "CuxbV-ZRuKop"
   },
   "source": [
    "Tambahkan .reset_index() untuk membuat dataframe yang kolomnya rata"
   ]
  },
  {
   "cell_type": "code",
   "execution_count": null,
   "metadata": {
    "id": "DPndc7oJuQHp"
   },
   "outputs": [],
   "source": []
  },
  {
   "cell_type": "markdown",
   "metadata": {
    "id": "fqs9S_qb4kne"
   },
   "source": [
    "## Melihat rata-rata score tiap kelas"
   ]
  },
  {
   "cell_type": "code",
   "execution_count": null,
   "metadata": {
    "id": "kda2UyY141Ez"
   },
   "outputs": [],
   "source": [
    "df_dataset.groupby('class')['score'].mean().reset_index()"
   ]
  },
  {
   "cell_type": "markdown",
   "metadata": {
    "id": "Z5ayU5wQ5rSo"
   },
   "source": [
    "diurutkan dari rata-rata score tertinggi"
   ]
  },
  {
   "cell_type": "code",
   "execution_count": null,
   "metadata": {
    "id": "h30FscV85tsS"
   },
   "outputs": [],
   "source": [
    "df_dataset.groupby('class')['score'].mean().reset_index().sort_values('score',ascending=False)"
   ]
  },
  {
   "cell_type": "markdown",
   "metadata": {
    "id": "2-C30inxw7Yi"
   },
   "source": [
    "## Untuk orang-orang dari Jakarta, berapa rata-rata score per kota?"
   ]
  },
  {
   "cell_type": "code",
   "execution_count": null,
   "metadata": {
    "id": "Uj3Qca8ixK7U"
   },
   "outputs": [],
   "source": []
  },
  {
   "cell_type": "markdown",
   "metadata": {
    "id": "SUYKfCTFxQKl"
   },
   "source": [
    "## Berapa banyak orang yang aktif, dan tidak aktif?"
   ]
  },
  {
   "cell_type": "code",
   "execution_count": null,
   "metadata": {
    "id": "loAksHN5y6C8"
   },
   "outputs": [],
   "source": []
  }
 ],
 "metadata": {
  "colab": {
   "collapsed_sections": [],
   "name": "Hands On - Data Processing.ipynb",
   "provenance": []
  },
  "kernelspec": {
   "display_name": "Python 3 (ipykernel)",
   "language": "python",
   "name": "python3"
  },
  "language_info": {
   "codemirror_mode": {
    "name": "ipython",
    "version": 3
   },
   "file_extension": ".py",
   "mimetype": "text/x-python",
   "name": "python",
   "nbconvert_exporter": "python",
   "pygments_lexer": "ipython3",
   "version": "3.9.13"
  },
  "toc": {
   "base_numbering": 1,
   "nav_menu": {},
   "number_sections": false,
   "sideBar": true,
   "skip_h1_title": false,
   "title_cell": "Table of Contents",
   "title_sidebar": "Contents",
   "toc_cell": false,
   "toc_position": {},
   "toc_section_display": true,
   "toc_window_display": true
  }
 },
 "nbformat": 4,
 "nbformat_minor": 1
}
