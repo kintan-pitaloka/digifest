{
 "cells": [
  {
   "cell_type": "markdown",
   "metadata": {
    "id": "yy5Pw1g4Qy3a"
   },
   "source": [
    "# Data Type and Structure\n",
    "\n",
    "**Covered Topics**\n",
    "- Basic Syntax in Python\n",
    "- Data Type in Python\n",
    "- Data Structure in Python"
   ]
  },
  {
   "cell_type": "code",
   "execution_count": 1,
   "metadata": {
    "executionInfo": {
     "elapsed": 22,
     "status": "ok",
     "timestamp": 1674647002168,
     "user": {
      "displayName": "Muhammad Rois al haqq",
      "userId": "05628020901943186304"
     },
     "user_tz": -420
    },
    "id": "v5a-QJpicSjR"
   },
   "outputs": [],
   "source": [
    "import numpy as np"
   ]
  },
  {
   "cell_type": "code",
   "execution_count": 48,
   "metadata": {
    "colab": {
     "base_uri": "https://localhost:8080/",
     "height": 35
    },
    "executionInfo": {
     "elapsed": 316,
     "status": "ok",
     "timestamp": 1674650706360,
     "user": {
      "displayName": "Muhammad Rois al haqq",
      "userId": "05628020901943186304"
     },
     "user_tz": -420
    },
    "id": "P0NJw1srQm-V",
    "outputId": "75793e05-c00c-4041-a226-89c4fe963579"
   },
   "outputs": [
    {
     "data": {
      "application/vnd.google.colaboratory.intrinsic+json": {
       "type": "string"
      },
      "text/plain": [
       "'lulus'"
      ]
     },
     "execution_count": 48,
     "metadata": {},
     "output_type": "execute_result"
    }
   ],
   "source": [
    "# Conditional Statement with Multiple IF\n",
    "\n",
    "nilai = 65\n",
    "\n",
    "if nilai >= 75:\n",
    "  hasil = \"tidak lulus\"\n",
    "elif nilai >= 50:\n",
    "  hasil = \"lulus\" \n",
    "else:\n",
    "  hasil = \"remedial\"\n",
    "    \n",
    "hasil"
   ]
  },
  {
   "cell_type": "code",
   "execution_count": 50,
   "metadata": {
    "colab": {
     "base_uri": "https://localhost:8080/"
    },
    "executionInfo": {
     "elapsed": 328,
     "status": "ok",
     "timestamp": 1674650928723,
     "user": {
      "displayName": "Muhammad Rois al haqq",
      "userId": "05628020901943186304"
     },
     "user_tz": -420
    },
    "id": "qtuxbMH1QoG9",
    "outputId": "1c1a0f14-fc83-493a-9864-cbd124d2f096"
   },
   "outputs": [
    {
     "name": "stdout",
     "output_type": "stream",
     "text": [
      "ini test\n",
      "Positif\n"
     ]
    }
   ],
   "source": [
    "# Conditional Statement with Nested IF\n",
    "num = 15\n",
    "if num >= 0:\n",
    "  print(\"ini test\")\n",
    "  if num == 0:\n",
    "      print(\"nol\")\n",
    "  else:\n",
    "      print(\"Positif\")\n",
    "else:\n",
    "    print(\"Negatif\")"
   ]
  },
  {
   "cell_type": "code",
   "execution_count": 51,
   "metadata": {
    "colab": {
     "base_uri": "https://localhost:8080/"
    },
    "executionInfo": {
     "elapsed": 332,
     "status": "ok",
     "timestamp": 1674650967559,
     "user": {
      "displayName": "Muhammad Rois al haqq",
      "userId": "05628020901943186304"
     },
     "user_tz": -420
    },
    "id": "W6dCLX88QoOx",
    "outputId": "b9a55f85-b0c7-4218-af84-a6bada744528"
   },
   "outputs": [
    {
     "name": "stdout",
     "output_type": "stream",
     "text": [
      "i sekarang adalah 0\n",
      "i sekarang adalah 1\n",
      "i sekarang adalah 2\n",
      "i sekarang adalah 3\n",
      "i sekarang adalah 4\n",
      "i sekarang adalah 5\n"
     ]
    }
   ],
   "source": [
    "for i in range(6):\n",
    "  print(f\"i sekarang adalah {i}\")"
   ]
  },
  {
   "cell_type": "code",
   "execution_count": 52,
   "metadata": {
    "colab": {
     "base_uri": "https://localhost:8080/"
    },
    "executionInfo": {
     "elapsed": 305,
     "status": "ok",
     "timestamp": 1674650975863,
     "user": {
      "displayName": "Muhammad Rois al haqq",
      "userId": "05628020901943186304"
     },
     "user_tz": -420
    },
    "id": "ibvAc-2KQoRW",
    "outputId": "ed0c00d0-31f7-4da4-d72f-de0433f50644"
   },
   "outputs": [
    {
     "name": "stdout",
     "output_type": "stream",
     "text": [
      "[0, 1, 2, 3, 4, 5]\n"
     ]
    }
   ],
   "source": [
    "kumpulan_angka = list(range(6))\n",
    "print(kumpulan_angka)"
   ]
  },
  {
   "cell_type": "code",
   "execution_count": 53,
   "metadata": {
    "colab": {
     "base_uri": "https://localhost:8080/"
    },
    "executionInfo": {
     "elapsed": 300,
     "status": "ok",
     "timestamp": 1674650979041,
     "user": {
      "displayName": "Muhammad Rois al haqq",
      "userId": "05628020901943186304"
     },
     "user_tz": -420
    },
    "id": "hUEdYOOfQoTt",
    "outputId": "551dca98-e8f5-4ddc-9b2b-1db86bc78719"
   },
   "outputs": [
    {
     "name": "stdout",
     "output_type": "stream",
     "text": [
      "i sekarang adalah 0\n",
      "i sekarang adalah 1\n",
      "i sekarang adalah 2\n",
      "i sekarang adalah 3\n",
      "i sekarang adalah 4\n",
      "i sekarang adalah 5\n"
     ]
    }
   ],
   "source": [
    "for i in range(6):\n",
    "  print(f\"i sekarang adalah {i}\")"
   ]
  },
  {
   "cell_type": "markdown",
   "metadata": {
    "id": "kFKeUp91Rc_w"
   },
   "source": [
    "## 2. Data Type in Python"
   ]
  },
  {
   "cell_type": "markdown",
   "metadata": {
    "id": "DrU4abr1Rb8X"
   },
   "source": [
    "| Kategori | Tipe | Keterangan | Contoh Kode Python |\n",
    "| ----------- | ----------- | ----------- | ----------- |\n",
    "| Text | str | Menyatakan karakter/kalimat bisa berupa huruf angka, dll (diapit dengan \" atau ') | \"Python Lang\" |\n",
    "| Numeric | int | Menyatakan bilangan bulat | 11 atau 55 |\n",
    "| Numeric | float | Menyatakan bilangan yang mempunyai koma | 3.99 atau 3.24 |\n",
    "| Boolean | bool | Menyatakan benar True atau salah False | True atau False |"
   ]
  },
  {
   "cell_type": "markdown",
   "metadata": {
    "id": "vhy2hRc7Rrvb"
   },
   "source": [
    "### String Operations 1\n",
    "\n",
    "| Simbol | Keterangan | Contoh Kode Python |\n",
    "| ----------- | ----------- | ----------- | \n",
    "| a + b | Pertambahan | \"a\" + \"b\" == \"ab\" |\n",
    "| a + b | Pertambahan | \"1\" + \"1\" == \"11\" |\n",
    "| a * b | Perkalian | \"wk\" * 2 == \"wkwk\" | \n",
    "| a[start:end] | Irisan | \"abcd\"[1:3] == \"bc |\n",
    "| a[::-1] | Penulisan dibalik | \"abcd\"[::-1] == \"dcba\" |\n",
    "\n",
    "<center>Penulisan string di python bisa menggunakan '', atau \"\", atau juga \"\"\" \"\"\" untuk teks yang panjang</center>\n"
   ]
  },
  {
   "cell_type": "code",
   "execution_count": 54,
   "metadata": {
    "colab": {
     "base_uri": "https://localhost:8080/",
     "height": 35
    },
    "executionInfo": {
     "elapsed": 391,
     "status": "ok",
     "timestamp": 1674651084300,
     "user": {
      "displayName": "Muhammad Rois al haqq",
      "userId": "05628020901943186304"
     },
     "user_tz": -420
    },
    "id": "JwpeeX6A-3Sh",
    "outputId": "85297c93-e909-44de-dc35-08abfd555382"
   },
   "outputs": [
    {
     "data": {
      "application/vnd.google.colaboratory.intrinsic+json": {
       "type": "string"
      },
      "text/plain": [
       "'wkwk'"
      ]
     },
     "execution_count": 54,
     "metadata": {},
     "output_type": "execute_result"
    }
   ],
   "source": [
    "\"wk\" * 2"
   ]
  },
  {
   "cell_type": "markdown",
   "metadata": {
    "id": "yxLOXJgERx3z"
   },
   "source": [
    "Tentang Index di String Python\n",
    "\n",
    "| String | b | a | m | b | a | n | g |\n",
    "| -- | -- | -- | -- | -- | -- | -- | -- |\n",
    "| Index | 0 | 1 | 2 | 3 | 4 | 5 | 6 |\n",
    "\n",
    "<p></p>\n",
    "<center>Untuk slicing rumusnya <b>variable</b>[index mulai:index akhir], cara baca <b>index akhir</b> ini selalu dikurangin 1. \n",
    "<p></p>    \n",
    "Misal index mulai 2, index akhir 5, artinya kita ngambil urutan dari 2 sampai sebelum 5, yaitu 4, jadinya kita dapatkan pada index <b>2,3,4</b></center>"
   ]
  },
  {
   "cell_type": "code",
   "execution_count": 56,
   "metadata": {
    "colab": {
     "base_uri": "https://localhost:8080/"
    },
    "executionInfo": {
     "elapsed": 314,
     "status": "ok",
     "timestamp": 1674651173029,
     "user": {
      "displayName": "Muhammad Rois al haqq",
      "userId": "05628020901943186304"
     },
     "user_tz": -420
    },
    "id": "CDJrM3caQoWm",
    "outputId": "ae91a484-6a83-4b5b-c351-290cd978ed52"
   },
   "outputs": [
    {
     "name": "stdout",
     "output_type": "stream",
     "text": [
      "mba\n",
      "bam\n",
      "mbang\n"
     ]
    }
   ],
   "source": [
    "# Try string slicing operation\n",
    "\n",
    "nama = \"bambang\"\n",
    "# String = b | a | m | b | a | n | g\n",
    "# Index = 0 | 1 | 2 | 3 | 4 | 5 | 6\n",
    "\n",
    "# Start index is 2, end index is 5\n",
    "# Meaning that we take indices 2,3, and 4 (before 5)\n",
    "print(nama[2:5])\n",
    "\n",
    "# Start index is empty, end index is 3\n",
    "# Meaning that we take everything from beginning, ends at 2 (before 3)\n",
    "print(nama[:3])\n",
    "\n",
    "# Start index is 2, end index is empty\n",
    "# Meaning that we start from index 2, and take everything till the end \n",
    "print(nama[2:])"
   ]
  },
  {
   "cell_type": "markdown",
   "metadata": {
    "id": "iuCv5ItpR8lu"
   },
   "source": [
    "### String Operations 2\n",
    "\n",
    "| Simbol | Keterangan | Contoh Kode Python |\n",
    "| ----------- | ----------- | ----------- | \n",
    "| a.upper() | Konversi menjadi huruf besar | \"saya\".upper() == \"SAYA\"\n",
    "| a.lower() | Konversi menjadi huruf kecil | \"KaMu\".lower() == \"kamu\"\n",
    "| a.isdigit() | Membaca apakah string ini angka atau bukan | \"5\".isdigit() == True\n",
    "| a.replace(before,after) | Mereplace string di variabel A berdasarkan before dan after | \"hai\".replace(\"ha\",\"wk\") == \"wki\"\n",
    "| a.split(b) | Pisahkan variabel A berdasarkan variabel B | \"aku,kamu,kita\".split(\",\") == [\"aku\", \"kamu\", \"kita\"]\n",
    "| sorted(a) | Mengurutkan variabel A secara ascending | sorted([1,5,2]) == [1,2,5] |\n",
    "\n",
    "\n",
    "<p></p>\n",
    "<center><a href=\"https://docs.python.org/3/library/stdtypes.html#string-methods\">\n",
    "    <button>Klik disini untuk String Manipulation Details</button>\n",
    "</a></center>"
   ]
  },
  {
   "cell_type": "code",
   "execution_count": 57,
   "metadata": {
    "colab": {
     "base_uri": "https://localhost:8080/"
    },
    "executionInfo": {
     "elapsed": 621,
     "status": "ok",
     "timestamp": 1674651301446,
     "user": {
      "displayName": "Muhammad Rois al haqq",
      "userId": "05628020901943186304"
     },
     "user_tz": -420
    },
    "id": "LIKhWOmSQoY6",
    "outputId": "03697f8c-8ca4-46ec-db57-85f53c8c7db2"
   },
   "outputs": [
    {
     "name": "stdout",
     "output_type": "stream",
     "text": [
      "Hisang Horeng!\n"
     ]
    }
   ],
   "source": [
    "# Try string operation 2\n",
    "\n",
    "# Mereplace string di variabel A berdasarkan before dan after\n",
    "# Ubah \"Pisang Goreng!\" menjadi \"Hisang Horeng!\"\n",
    "str_val = \"Pisang Goreng!\"\n",
    "str_val = str_val.replace(\"P\", \"H\")\n",
    "str_val = str_val.replace(\"G\", \"H\")\n",
    "print(str_val)"
   ]
  },
  {
   "cell_type": "code",
   "execution_count": 58,
   "metadata": {
    "colab": {
     "base_uri": "https://localhost:8080/"
    },
    "executionInfo": {
     "elapsed": 294,
     "status": "ok",
     "timestamp": 1674651355187,
     "user": {
      "displayName": "Muhammad Rois al haqq",
      "userId": "05628020901943186304"
     },
     "user_tz": -420
    },
    "id": "aJgGBb37_3Go",
    "outputId": "5167db08-75ca-4b4c-ba88-98737a08b05a"
   },
   "outputs": [
    {
     "name": "stdout",
     "output_type": "stream",
     "text": [
      "Hihang Hoheng!\n"
     ]
    }
   ],
   "source": [
    "str_val = str_val.replace(\"s\", \"h\")\n",
    "str_val = str_val.replace(\"r\", \"h\")\n",
    "print(str_val)"
   ]
  },
  {
   "cell_type": "code",
   "execution_count": 59,
   "metadata": {
    "colab": {
     "base_uri": "https://localhost:8080/"
    },
    "executionInfo": {
     "elapsed": 314,
     "status": "ok",
     "timestamp": 1674651521676,
     "user": {
      "displayName": "Muhammad Rois al haqq",
      "userId": "05628020901943186304"
     },
     "user_tz": -420
    },
    "id": "yALH5zZ5Qoby",
    "outputId": "d6b0c41c-5e9f-4be1-b828-768f857c0edc"
   },
   "outputs": [
    {
     "name": "stdout",
     "output_type": "stream",
     "text": [
      "['SPONTAN', ' UHUY!']\n"
     ]
    }
   ],
   "source": [
    "# Split by comma \",\"\n",
    "str_val = \"SPONTAN, UHUY!\"\n",
    "print(str_val.split(\",\"))"
   ]
  },
  {
   "cell_type": "code",
   "execution_count": 10,
   "metadata": {
    "colab": {
     "base_uri": "https://localhost:8080/"
    },
    "executionInfo": {
     "elapsed": 7,
     "status": "ok",
     "timestamp": 1674647002169,
     "user": {
      "displayName": "Muhammad Rois al haqq",
      "userId": "05628020901943186304"
     },
     "user_tz": -420
    },
    "id": "gzUBiMuaQoeY",
    "outputId": "ebca895e-1113-45f5-fab6-664ba60bb2c4"
   },
   "outputs": [
    {
     "name": "stdout",
     "output_type": "stream",
     "text": [
      "['SPONTAN,', 'UHUY!']\n"
     ]
    }
   ],
   "source": [
    "# Split by spasi \" \"\n",
    "str_val = \"SPONTAN, UHUY!\"\n",
    "print(str_val.split(\" \"))"
   ]
  },
  {
   "cell_type": "code",
   "execution_count": 60,
   "metadata": {
    "colab": {
     "base_uri": "https://localhost:8080/"
    },
    "executionInfo": {
     "elapsed": 454,
     "status": "ok",
     "timestamp": 1674651663422,
     "user": {
      "displayName": "Muhammad Rois al haqq",
      "userId": "05628020901943186304"
     },
     "user_tz": -420
    },
    "id": "oiZ6a7YQBFYn",
    "outputId": "b52f597d-b472-4721-ee7c-c3541cce54f8"
   },
   "outputs": [
    {
     "name": "stdout",
     "output_type": "stream",
     "text": [
      "['SPONTAN, ', 'H', 'Y!']\n"
     ]
    }
   ],
   "source": [
    "str_val = \"SPONTAN, UHUY!\"\n",
    "print(str_val.split(\"U\"))"
   ]
  },
  {
   "cell_type": "markdown",
   "metadata": {
    "id": "45g0gZ1tSm7W"
   },
   "source": [
    "## 3. Data Structure in Python\n",
    "\n",
    "| Kategori | Tipe | Keterangan | Contoh Kode Python |\n",
    "| ----------- | ----------- | ----------- | ----------- |\n",
    "| Sequence | list | Menyatakan beberapa untaian data dalam berbagai tipe data dan isinya bisa diubah-ubah (mutable) | [\"Air\", 21, True] |\n",
    "| Sequence | tuple | Menyatakan beberapa untaian data dalam berbagai tipe data namun isinya tidak bisa diubah-ubah (immutable) | (\"Air\", 21, True) |\n",
    "| Mapping | dict | Menyatakan beberapa untaian data dalam berbagai tipe data dan memiliki key/petujuntuk dalam menyimpan setiap nilai nya | {\"nama\":\"Lutfi\", \"umur\": 28} |\n",
    "| Set | set | Menyatakan beberapa untaian data dalam berbagai tipe data, setiap nilainya bernilai unik, dan tidak berurutan | {\"Jakarta\", \"Bandung\", \"Bekasi\"} |"
   ]
  },
  {
   "cell_type": "markdown",
   "metadata": {
    "id": "CK53s5XySqI0"
   },
   "source": [
    "### List in Python\n",
    "\n",
    "Sistem indexing nya sama dengan yang di string, dimulai dari indeks 0, dan bisa diisi oleh tipe data apapun\n",
    "\n",
    "<img src=\"https://pynative.com/wp-content/uploads/2021/03/python-list.jpg\">\n",
    "\n",
    "| Slicing | Makna |\n",
    "| --- | --- |\n",
    "| `[:]` | Mengambil seluruh index, tiada batasan |\n",
    "| `[n:]` | Mengambil dari index ke-n sampai index terakhir | \n",
    "| `[:m]` | Mengambil dari index pertama sampai index ke-m |\n",
    "| `[n:m]` | Mengambil dari index ke-n hingga index ke-m |\n",
    "| `[-1]` | Mengambil index terakhir |\n",
    "| `[:-1]` | Mengambil index dari pertama sampai sebelum terakhir (selain index -1)|\n",
    "| `[-1:]` | Mengambil index dari dari belakang (satu index)|"
   ]
  },
  {
   "cell_type": "code",
   "execution_count": 11,
   "metadata": {
    "colab": {
     "base_uri": "https://localhost:8080/"
    },
    "executionInfo": {
     "elapsed": 743,
     "status": "ok",
     "timestamp": 1674647002906,
     "user": {
      "displayName": "Muhammad Rois al haqq",
      "userId": "05628020901943186304"
     },
     "user_tz": -420
    },
    "id": "RhxI8MBFQogs",
    "outputId": "82fff4e6-081d-4d3d-a144-2f52f6d3d6f7"
   },
   "outputs": [
    {
     "name": "stdout",
     "output_type": "stream",
     "text": [
      "Mengambil value urutan PERTAMA: 1\n",
      "Mengambil value urutan KEDUA: 2\n",
      "Mengambil value urutan KETIGA: 3\n",
      "==== katanya biar ada pembatas diantara kita =====\n",
      "Saya mau ambil urutan kedua: Katanya integer aja?\n",
      "Saya mau ambil urutan terakhir/keempat: 100.549373\n"
     ]
    }
   ],
   "source": [
    "# in R we could say this is a 'vector' \n",
    "# ini_vector = c(1,2,3,\"test\",c(4,5,6))\n",
    "\n",
    "# in Python we called it as 'list'\n",
    "# ini_list = [1,2,3,\"test\",[4,5,6]]\n",
    "\n",
    "# First List Operation\n",
    "list_pertama = [1,2,3]\n",
    "\n",
    "print(\"Mengambil value urutan PERTAMA:\", list_pertama[0])   \n",
    "print(\"Mengambil value urutan KEDUA:\", list_pertama[1])  \n",
    "print(\"Mengambil value urutan KETIGA:\", list_pertama[2])   \n",
    "\n",
    "print(\"==== katanya biar ada pembatas diantara kita =====\")\n",
    "\n",
    "# Second List Operation\n",
    "list_kedua = [100,\"Katanya integer aja?\", True, 100.549373]\n",
    "print(\"Saya mau ambil urutan kedua:\", list_kedua[1])   \n",
    "print(\"Saya mau ambil urutan terakhir/keempat:\",list_kedua[3])"
   ]
  },
  {
   "cell_type": "code",
   "execution_count": 62,
   "metadata": {
    "colab": {
     "base_uri": "https://localhost:8080/",
     "height": 35
    },
    "executionInfo": {
     "elapsed": 600,
     "status": "ok",
     "timestamp": 1674651915283,
     "user": {
      "displayName": "Muhammad Rois al haqq",
      "userId": "05628020901943186304"
     },
     "user_tz": -420
    },
    "id": "wVRdMooTSxU9",
    "outputId": "a991a1a3-17c2-4539-dca8-84eb7fb2c166"
   },
   "outputs": [
    {
     "data": {
      "application/vnd.google.colaboratory.intrinsic+json": {
       "type": "string"
      },
      "text/plain": [
       "'orang'"
      ]
     },
     "execution_count": 62,
     "metadata": {},
     "output_type": "execute_result"
    }
   ],
   "source": [
    "# Multiple Index is also allowed inside a list\n",
    "list_multiple = [\"bumi\",\"itu\",\"datar\",[\"bagi\",\"orang\",\"awam\"]]\n",
    "\n",
    "# Get \"orang\"\n",
    "list_multiple[3][1]"
   ]
  },
  {
   "cell_type": "markdown",
   "metadata": {
    "id": "dzYjxpZCS_aF"
   },
   "source": [
    "### More Common List Functions\n",
    "\n",
    "| Fungsi | Deskripsi | Contoh | \n",
    "| --- | --- | -- |\n",
    "| len(x) | Menghitung jumlah objek didalam list | len([1,2,3]) == 3 |\n",
    "| sum(x) | Menghitung penjumlahan semua objek numerikal didalam list | sum([1,2,3]) == 6 |\n",
    "| x.append(y) | Menambah objek Y pada urutan terakhir kedalam list X | x.append(5) |\n",
    "| x.remove(y) | Menghapus indeks ke-y dalam list X | x.remove(5) |\n",
    "| del x[y] | Menghapus indeks ke-y dalam list X | del x[5] |"
   ]
  },
  {
   "cell_type": "code",
   "execution_count": null,
   "metadata": {
    "id": "kQ2DXPY1C9df"
   },
   "outputs": [],
   "source": [
    "abc = \"abc\"\n",
    "cde = 'abc'\n",
    "\n",
    "goat = \"Messi is the greatest of all time\"\n",
    "goat = \"Messi is the 'GOAT'\"\n",
    "goat = 'CR is the \"GOAT\"'"
   ]
  },
  {
   "cell_type": "code",
   "execution_count": 13,
   "metadata": {
    "colab": {
     "base_uri": "https://localhost:8080/"
    },
    "executionInfo": {
     "elapsed": 29,
     "status": "ok",
     "timestamp": 1674647002907,
     "user": {
      "displayName": "Muhammad Rois al haqq",
      "userId": "05628020901943186304"
     },
     "user_tz": -420
    },
    "id": "tPGEZtIaS-s1",
    "outputId": "e8afad32-e26a-4046-e161-a65d4e1ffbc3"
   },
   "outputs": [
    {
     "name": "stdout",
     "output_type": "stream",
     "text": [
      "5\n",
      "15\n",
      "[1, 2, 3, 4, 5, 50]\n",
      "[1, 2, 3, 5, 50]\n"
     ]
    }
   ],
   "source": [
    "# Common basic function in List\n",
    "listku = [1,2,3,4,5]\n",
    "\n",
    "# Calculate how many objects inside a list\n",
    "print(len(listku)) # length(listku)\n",
    "\n",
    "# Sum all the numerical values inside a list\n",
    "print(sum(listku)) # sum(listku)\n",
    "\n",
    "# Add new value to list\n",
    "listku.append(50) # We try to insert 50\n",
    "print(listku)\n",
    "\n",
    "# Delete an existing value\n",
    "del listku[3] # We try to delete 4\n",
    "print(listku)"
   ]
  },
  {
   "cell_type": "markdown",
   "metadata": {
    "id": "ToYIUyBiTOKq"
   },
   "source": [
    "### Tuple in Python\n",
    "\n",
    "Sifatnya dengan list, namun bersifat **immutable** alias tidak bisa direplace valuenya dengan value baru, kemudian menggunakan **( )**. Namun, secara processing time lebih cepat daripada list.\n",
    "\n",
    "<img src=\"https://pynative.com/wp-content/uploads/2021/02/python-tuple.jpg\">"
   ]
  },
  {
   "cell_type": "code",
   "execution_count": 14,
   "metadata": {
    "colab": {
     "base_uri": "https://localhost:8080/"
    },
    "executionInfo": {
     "elapsed": 26,
     "status": "ok",
     "timestamp": 1674647002907,
     "user": {
      "displayName": "Muhammad Rois al haqq",
      "userId": "05628020901943186304"
     },
     "user_tz": -420
    },
    "id": "iXTwnoOQTSbD",
    "outputId": "7c86e552-bd99-4897-ad50-e272142d7694"
   },
   "outputs": [
    {
     "name": "stdout",
     "output_type": "stream",
     "text": [
      "Saya mau ambil urutan kedua: Katanya integer aja?\n",
      "Saya mau ambil urutan terakhir/kelima: True\n"
     ]
    }
   ],
   "source": [
    "tuple_2 = (100,\"Katanya integer aja?\", True, 100.549373, True)\n",
    "print(\"Saya mau ambil urutan kedua:\", tuple_2[1])   \n",
    "print(\"Saya mau ambil urutan terakhir/kelima:\",tuple_2[4])"
   ]
  },
  {
   "cell_type": "markdown",
   "metadata": {
    "id": "jWpzbtzuTXIS"
   },
   "source": [
    "### Set in Python\n",
    "\n",
    "Sifatnya dengan list, namun bersifat **unique** alias value didalam *set* akan bersifat unik/distinct, kemudian menggunakan **{ }**. Apabila digunakan kepada container data type, maka akan mengambil unique value dan sort secara ascending.\n",
    "\n",
    "<img src=\"https://pynative.com/wp-content/uploads/2021/03/python-sets.jpg\">"
   ]
  },
  {
   "cell_type": "code",
   "execution_count": 15,
   "metadata": {
    "colab": {
     "base_uri": "https://localhost:8080/"
    },
    "executionInfo": {
     "elapsed": 25,
     "status": "ok",
     "timestamp": 1674647002907,
     "user": {
      "displayName": "Muhammad Rois al haqq",
      "userId": "05628020901943186304"
     },
     "user_tz": -420
    },
    "id": "Ws5BgizTTVPz",
    "outputId": "c5b4d411-877a-499a-d3c1-5df05c0e057b"
   },
   "outputs": [
    {
     "name": "stdout",
     "output_type": "stream",
     "text": [
      "{1, 2, 3, 5, 6, 43}\n"
     ]
    }
   ],
   "source": [
    "# Create new set\n",
    "value_set = {5,43,2,1,6,2,3,1,6,3,6}\n",
    "print(value_set)"
   ]
  },
  {
   "cell_type": "code",
   "execution_count": 16,
   "metadata": {
    "colab": {
     "base_uri": "https://localhost:8080/"
    },
    "executionInfo": {
     "elapsed": 23,
     "status": "ok",
     "timestamp": 1674647002907,
     "user": {
      "displayName": "Muhammad Rois al haqq",
      "userId": "05628020901943186304"
     },
     "user_tz": -420
    },
    "id": "fUelbhijTcJL",
    "outputId": "f8e4cf34-bcdd-4b80-9e34-ac85d4e90688"
   },
   "outputs": [
    {
     "data": {
      "text/plain": [
       "{'abdurrahman wahid',\n",
       " 'habibi',\n",
       " 'jokowi',\n",
       " 'megawati',\n",
       " 'susilo bambang yudhoyono'}"
      ]
     },
     "execution_count": 16,
     "metadata": {},
     "output_type": "execute_result"
    }
   ],
   "source": [
    "# \"susilo bambang yudhoyono\" and \"jokowi\" appears 2 times\n",
    "preseiden_era_reformasi = [\"habibi\",\"abdurrahman wahid\",\"megawati\",\"susilo bambang yudhoyono\",\"susilo bambang yudhoyono\",\"jokowi\",\"jokowi\"]\n",
    "\n",
    "# Get unique only and sort in ascending:\n",
    "preseiden_era_reformasi = set(preseiden_era_reformasi)\n",
    "preseiden_era_reformasi"
   ]
  },
  {
   "cell_type": "code",
   "execution_count": 17,
   "metadata": {
    "colab": {
     "base_uri": "https://localhost:8080/"
    },
    "executionInfo": {
     "elapsed": 22,
     "status": "ok",
     "timestamp": 1674647002907,
     "user": {
      "displayName": "Muhammad Rois al haqq",
      "userId": "05628020901943186304"
     },
     "user_tz": -420
    },
    "id": "siSN2wq7Tok3",
    "outputId": "5aa5e078-a716-453c-8b7b-a937328f56b5"
   },
   "outputs": [
    {
     "data": {
      "text/plain": [
       "False"
      ]
     },
     "execution_count": 17,
     "metadata": {},
     "output_type": "execute_result"
    }
   ],
   "source": [
    "\"soeharto\" in preseiden_era_reformasi"
   ]
  },
  {
   "cell_type": "code",
   "execution_count": 63,
   "metadata": {
    "colab": {
     "base_uri": "https://localhost:8080/"
    },
    "executionInfo": {
     "elapsed": 5,
     "status": "ok",
     "timestamp": 1674652426082,
     "user": {
      "displayName": "Muhammad Rois al haqq",
      "userId": "05628020901943186304"
     },
     "user_tz": -420
    },
    "id": "2nKOl_TpTwU8",
    "outputId": "141d024a-a550-47c6-c0ac-42c23dc01b1d"
   },
   "outputs": [
    {
     "name": "stdout",
     "output_type": "stream",
     "text": [
      "megawati\n",
      "cantik\n",
      "abdurrahman wahid\n",
      "susilo bambang yudhoyono\n",
      "habibi\n",
      "jokowi\n"
     ]
    }
   ],
   "source": [
    "for presiden in preseiden_era_reformasi:\n",
    "  print(presiden)\n",
    "  if presiden == \"megawati\":\n",
    "    print(\"cantik\")"
   ]
  },
  {
   "cell_type": "code",
   "execution_count": 64,
   "metadata": {
    "colab": {
     "base_uri": "https://localhost:8080/"
    },
    "executionInfo": {
     "elapsed": 306,
     "status": "ok",
     "timestamp": 1674652562710,
     "user": {
      "displayName": "Muhammad Rois al haqq",
      "userId": "05628020901943186304"
     },
     "user_tz": -420
    },
    "id": "v7s1DMavEcml",
    "outputId": "2fe91a70-2107-42c0-d07c-a6eb45b2dda2"
   },
   "outputs": [
    {
     "data": {
      "text/plain": [
       "['abdurrahman wahid',\n",
       " 'habibi',\n",
       " 'jokowi',\n",
       " 'megawati',\n",
       " 'susilo bambang yudhoyono']"
      ]
     },
     "execution_count": 64,
     "metadata": {},
     "output_type": "execute_result"
    }
   ],
   "source": [
    "sorted(preseiden_era_reformasi)"
   ]
  },
  {
   "cell_type": "markdown",
   "metadata": {
    "id": "I4tIX6FdT_Ij"
   },
   "source": [
    "### Dictionary in Python\n",
    "\n",
    "Struktur data yang menyerupai loker penyimpanan, setiap kotak diloker dapat diisi apapun tergantung kunci/penamaan yang digunakan (key and value). Tipe data ini sering digunakan untuk membuat tabel seperti tabel excel (kolom dan baris)\n",
    "\n",
    "<img src=\"https://pynative.com/wp-content/uploads/2021/02/dictionaries-in-python.jpg\">"
   ]
  },
  {
   "cell_type": "code",
   "execution_count": 19,
   "metadata": {
    "colab": {
     "base_uri": "https://localhost:8080/"
    },
    "executionInfo": {
     "elapsed": 20,
     "status": "ok",
     "timestamp": 1674647002908,
     "user": {
      "displayName": "Muhammad Rois al haqq",
      "userId": "05628020901943186304"
     },
     "user_tz": -420
    },
    "id": "GssgF_XFflRc",
    "outputId": "1b46dfc4-8036-47d7-87fc-e97646debf41"
   },
   "outputs": [
    {
     "name": "stdout",
     "output_type": "stream",
     "text": [
      "{'nama': 'Rois', 'pekerjaan': 'Data engineer', 'tinggi': 172}\n",
      "Rois\n"
     ]
    }
   ],
   "source": [
    "profil = {\n",
    "  \"nama\": \"Rois\",\n",
    "  \"pekerjaan\": \"Data engineer\",\n",
    "  \"tinggi\": 172\n",
    "}\n",
    "print(profil)\n",
    "print(profil[\"nama\"])"
   ]
  },
  {
   "cell_type": "code",
   "execution_count": 20,
   "metadata": {
    "colab": {
     "base_uri": "https://localhost:8080/"
    },
    "executionInfo": {
     "elapsed": 18,
     "status": "ok",
     "timestamp": 1674647002908,
     "user": {
      "displayName": "Muhammad Rois al haqq",
      "userId": "05628020901943186304"
     },
     "user_tz": -420
    },
    "id": "qARDqKiig-cN",
    "outputId": "7d47b977-4e62-485e-fd02-f690e259f9fe"
   },
   "outputs": [
    {
     "name": "stdout",
     "output_type": "stream",
     "text": [
      "{'nama': 'Rois', 'pekerjaan': 'Data engineer', 'tinggi': 172, 'tinggal': 'Sukamiskin'}\n"
     ]
    }
   ],
   "source": [
    "profil[\"tinggal\"] = \"Sukamiskin\"\n",
    "print(profil)"
   ]
  },
  {
   "cell_type": "code",
   "execution_count": 65,
   "metadata": {
    "colab": {
     "base_uri": "https://localhost:8080/"
    },
    "executionInfo": {
     "elapsed": 299,
     "status": "ok",
     "timestamp": 1674652664157,
     "user": {
      "displayName": "Muhammad Rois al haqq",
      "userId": "05628020901943186304"
     },
     "user_tz": -420
    },
    "id": "euQkWjFgj9QE",
    "outputId": "ac132af6-b7fe-424e-c269-e6d6eb9ec368"
   },
   "outputs": [
    {
     "name": "stdout",
     "output_type": "stream",
     "text": [
      "{'nama': 'Sukakaya', 'pekerjaan': 'Data engineer', 'tinggi': 172, 'tinggal': 'Sukamiskin', 'skills': ['python', 'mengolah data', 'google cloud platform', 'memasak']}\n"
     ]
    }
   ],
   "source": [
    "profil[\"nama\"] = \"Sukakaya\"\n",
    "print(profil)"
   ]
  },
  {
   "cell_type": "code",
   "execution_count": 22,
   "metadata": {
    "colab": {
     "base_uri": "https://localhost:8080/"
    },
    "executionInfo": {
     "elapsed": 16,
     "status": "ok",
     "timestamp": 1674647002908,
     "user": {
      "displayName": "Muhammad Rois al haqq",
      "userId": "05628020901943186304"
     },
     "user_tz": -420
    },
    "id": "j0eOl4rUm33n",
    "outputId": "94469a93-35ff-4654-d2d0-d31d265f2632"
   },
   "outputs": [
    {
     "name": "stdout",
     "output_type": "stream",
     "text": [
      "Sukamiskin\n",
      "Data engineer\n",
      "172\n",
      "Sukamiskin\n"
     ]
    }
   ],
   "source": [
    "for x in profil.values():\n",
    "  print(x)"
   ]
  },
  {
   "cell_type": "code",
   "execution_count": 23,
   "metadata": {
    "colab": {
     "base_uri": "https://localhost:8080/"
    },
    "executionInfo": {
     "elapsed": 15,
     "status": "ok",
     "timestamp": 1674647002908,
     "user": {
      "displayName": "Muhammad Rois al haqq",
      "userId": "05628020901943186304"
     },
     "user_tz": -420
    },
    "id": "LWTiIWm_qGqL",
    "outputId": "02510044-5c94-419d-806a-493e3c65d4e6"
   },
   "outputs": [
    {
     "name": "stdout",
     "output_type": "stream",
     "text": [
      "nama\n",
      "pekerjaan\n",
      "tinggi\n",
      "tinggal\n"
     ]
    }
   ],
   "source": [
    "for x in profil.keys():\n",
    "  print(x)"
   ]
  },
  {
   "cell_type": "code",
   "execution_count": 24,
   "metadata": {
    "colab": {
     "base_uri": "https://localhost:8080/"
    },
    "executionInfo": {
     "elapsed": 13,
     "status": "ok",
     "timestamp": 1674647002908,
     "user": {
      "displayName": "Muhammad Rois al haqq",
      "userId": "05628020901943186304"
     },
     "user_tz": -420
    },
    "id": "SJh677jmqkou",
    "outputId": "257ee734-3443-4da4-800d-146c758e6a5a"
   },
   "outputs": [
    {
     "name": "stdout",
     "output_type": "stream",
     "text": [
      "ini key: nama ini value: Sukamiskin\n",
      "ini key: pekerjaan ini value: Data engineer\n",
      "ini key: tinggi ini value: 172\n",
      "ini key: tinggal ini value: Sukamiskin\n"
     ]
    }
   ],
   "source": [
    "for x, y in profil.items():\n",
    "  print(\"ini key:\",x, \"ini value:\", y)"
   ]
  },
  {
   "cell_type": "code",
   "execution_count": 25,
   "metadata": {
    "colab": {
     "base_uri": "https://localhost:8080/"
    },
    "executionInfo": {
     "elapsed": 13,
     "status": "ok",
     "timestamp": 1674647002909,
     "user": {
      "displayName": "Muhammad Rois al haqq",
      "userId": "05628020901943186304"
     },
     "user_tz": -420
    },
    "id": "wjBVWdY3ru25",
    "outputId": "c38368a2-5b1b-4cf7-f2de-a747bd3db99e"
   },
   "outputs": [
    {
     "name": "stdout",
     "output_type": "stream",
     "text": [
      "ini key: nama ini value: Sukamiskin\n",
      "ini key: pekerjaan ini value: Data engineer\n",
      "ini key: tinggi ini value: 172\n",
      "ini key: tinggal ini value: Sukamiskin\n"
     ]
    }
   ],
   "source": [
    "for telentang, tengkurep in profil.items():\n",
    "  print(\"ini key:\",telentang, \"ini value:\", tengkurep)"
   ]
  },
  {
   "cell_type": "code",
   "execution_count": 26,
   "metadata": {
    "colab": {
     "base_uri": "https://localhost:8080/"
    },
    "executionInfo": {
     "elapsed": 14,
     "status": "ok",
     "timestamp": 1674647002911,
     "user": {
      "displayName": "Muhammad Rois al haqq",
      "userId": "05628020901943186304"
     },
     "user_tz": -420
    },
    "id": "HU3gCRZ4UYnE",
    "outputId": "71d27db7-0d4f-4f80-8503-bcf0ba04eb24"
   },
   "outputs": [
    {
     "name": "stdout",
     "output_type": "stream",
     "text": [
      "{'nama': 'Sukamiskin', 'pekerjaan': 'Data engineer', 'tinggi': 172, 'tinggal': 'Sukamiskin', 'skills': ['python', 'mengolah data', 'google cloud platform']}\n"
     ]
    }
   ],
   "source": [
    "profil['skills'] = [\"python\", \"mengolah data\", \"google cloud platform\"]\n",
    "print(profil)"
   ]
  },
  {
   "cell_type": "code",
   "execution_count": 27,
   "metadata": {
    "colab": {
     "base_uri": "https://localhost:8080/"
    },
    "executionInfo": {
     "elapsed": 12,
     "status": "ok",
     "timestamp": 1674647002911,
     "user": {
      "displayName": "Muhammad Rois al haqq",
      "userId": "05628020901943186304"
     },
     "user_tz": -420
    },
    "id": "d0DxToiuUnYg",
    "outputId": "0fcef0f9-617b-4f33-d413-8cd0ce580a6a"
   },
   "outputs": [
    {
     "name": "stdout",
     "output_type": "stream",
     "text": [
      "{'nama': 'Sukamiskin', 'pekerjaan': 'Data engineer', 'tinggi': 172, 'tinggal': 'Sukamiskin', 'skills': ['python', 'mengolah data', 'google cloud platform', 'memasak']}\n"
     ]
    }
   ],
   "source": [
    "profil[\"skills\"].append(\"memasak\")\n",
    "print(profil)"
   ]
  },
  {
   "cell_type": "code",
   "execution_count": 66,
   "metadata": {
    "colab": {
     "base_uri": "https://localhost:8080/"
    },
    "executionInfo": {
     "elapsed": 389,
     "status": "ok",
     "timestamp": 1674652812952,
     "user": {
      "displayName": "Muhammad Rois al haqq",
      "userId": "05628020901943186304"
     },
     "user_tz": -420
    },
    "id": "44-MXQjiFbp2",
    "outputId": "5a0a02ba-87ad-4d03-ddd2-03ddfe3ebde6"
   },
   "outputs": [
    {
     "name": "stdout",
     "output_type": "stream",
     "text": [
      "python\n",
      "mengolah data\n",
      "google cloud platform\n",
      "memasak\n"
     ]
    }
   ],
   "source": [
    "for i in profil['skills']:\n",
    "  print(i)"
   ]
  },
  {
   "cell_type": "markdown",
   "metadata": {
    "id": "uIlJk7tQVO0P"
   },
   "source": [
    "## 4. Python Pandas\n",
    "\n",
    "A table in Pandas is called a ‘DataFrame’ and consists of rows and columns, ordered by index.\n",
    "\n",
    "<img src=\"https://www.w3resource.com/w3r_images/pandas-data-structure.svg\">"
   ]
  },
  {
   "cell_type": "code",
   "execution_count": 67,
   "metadata": {
    "executionInfo": {
     "elapsed": 325,
     "status": "ok",
     "timestamp": 1674652984150,
     "user": {
      "displayName": "Muhammad Rois al haqq",
      "userId": "05628020901943186304"
     },
     "user_tz": -420
    },
    "id": "ubcaCUfzVOEm"
   },
   "outputs": [],
   "source": [
    "import pandas as pd"
   ]
  },
  {
   "cell_type": "code",
   "execution_count": 29,
   "metadata": {
    "executionInfo": {
     "elapsed": 11,
     "status": "ok",
     "timestamp": 1674647002911,
     "user": {
      "displayName": "Muhammad Rois al haqq",
      "userId": "05628020901943186304"
     },
     "user_tz": -420
    },
    "id": "BxrvW6c9VVYg"
   },
   "outputs": [],
   "source": [
    "data_penjualan = {\n",
    "  \"product\": [\"product A\", \"product B\", \"product C\", \"product X\"],\n",
    "  \"hasil_penjualan\": [500000, 700000, 125000, 350000]\n",
    "}"
   ]
  },
  {
   "cell_type": "code",
   "execution_count": 69,
   "metadata": {
    "colab": {
     "base_uri": "https://localhost:8080/"
    },
    "executionInfo": {
     "elapsed": 607,
     "status": "ok",
     "timestamp": 1674653094313,
     "user": {
      "displayName": "Muhammad Rois al haqq",
      "userId": "05628020901943186304"
     },
     "user_tz": -420
    },
    "id": "f0sPFuZIGj1d",
    "outputId": "c58f8977-11d4-44e3-d3dc-e4f84c379e16"
   },
   "outputs": [
    {
     "data": {
      "text/plain": [
       "{'product': ['product A', 'product B', 'product C', 'product X'],\n",
       " 'hasil_penjualan': [500000, 700000, 125000, 350000]}"
      ]
     },
     "execution_count": 69,
     "metadata": {},
     "output_type": "execute_result"
    }
   ],
   "source": [
    "data_penjualan"
   ]
  },
  {
   "cell_type": "code",
   "execution_count": 70,
   "metadata": {
    "colab": {
     "base_uri": "https://localhost:8080/"
    },
    "executionInfo": {
     "elapsed": 332,
     "status": "ok",
     "timestamp": 1674653116749,
     "user": {
      "displayName": "Muhammad Rois al haqq",
      "userId": "05628020901943186304"
     },
     "user_tz": -420
    },
    "id": "JDpysRgYVXJx",
    "outputId": "0116f94a-6de0-4e3b-9729-0086d8b57dbc"
   },
   "outputs": [
    {
     "name": "stdout",
     "output_type": "stream",
     "text": [
      "     product  hasil_penjualan\n",
      "0  product A           500000\n",
      "1  product B           700000\n",
      "2  product C           125000\n",
      "3  product X           350000\n"
     ]
    }
   ],
   "source": [
    "#load data into a DataFrame object:\n",
    "df = pd.DataFrame(data_penjualan)\n",
    "\n",
    "print(df) "
   ]
  },
  {
   "cell_type": "code",
   "execution_count": 71,
   "metadata": {
    "colab": {
     "base_uri": "https://localhost:8080/"
    },
    "executionInfo": {
     "elapsed": 345,
     "status": "ok",
     "timestamp": 1674653184426,
     "user": {
      "displayName": "Muhammad Rois al haqq",
      "userId": "05628020901943186304"
     },
     "user_tz": -420
    },
    "id": "Kgsp91kUWaHz",
    "outputId": "95ff3e64-6d67-4252-9d9e-2eaba0e3a8a8"
   },
   "outputs": [
    {
     "data": {
      "text/plain": [
       "1675000"
      ]
     },
     "execution_count": 71,
     "metadata": {},
     "output_type": "execute_result"
    }
   ],
   "source": [
    "df['hasil_penjualan'].sum()"
   ]
  },
  {
   "cell_type": "code",
   "execution_count": 72,
   "metadata": {
    "colab": {
     "base_uri": "https://localhost:8080/"
    },
    "executionInfo": {
     "elapsed": 474,
     "status": "ok",
     "timestamp": 1674653202903,
     "user": {
      "displayName": "Muhammad Rois al haqq",
      "userId": "05628020901943186304"
     },
     "user_tz": -420
    },
    "id": "E-Qx9GRGWfbr",
    "outputId": "f154e426-31e4-4b0c-a7df-241768bb56d2"
   },
   "outputs": [
    {
     "data": {
      "text/plain": [
       "product            product Aproduct Bproduct Cproduct X\n",
       "hasil_penjualan                                 1675000\n",
       "dtype: object"
      ]
     },
     "execution_count": 72,
     "metadata": {},
     "output_type": "execute_result"
    }
   ],
   "source": [
    "df.sum()"
   ]
  },
  {
   "cell_type": "markdown",
   "metadata": {
    "id": "cciKANH6X3pi"
   },
   "source": [
    "### Pandas Dataframe operations\n",
    "\n",
    "| Simbol | Keterangan | Contoh Kode Python |\n",
    "| ----------- | ----------- | ----------- | \n",
    "| df['column'].sum() | Menghitung jumlah nilai | df['hasil_penjualan'].sum()\n",
    "| df.replace({'column': {before: after}}) | Mereplace value berdasarkan before dan after | df.replace({'product': {\"product A\": \"product Y\"}})\n",
    "| df.isna() | Mengecek nilai null | df.isna()\n",
    "| df.merge(df2,how='option',left_on=[key],right_on=[key]) | Merge dua dataframe dengan opsi join | df.merge(df2,how='outer',left_on=['ID'],right_on=['ID'])\n",
    "\n",
    "\n",
    "<p></p>\n",
    "<center><a href=\"https://pandas.pydata.org/docs/reference/api/pandas.DataFrame.html\">\n",
    "    <button>Klik disini untuk Pandas Dataframe Method/Function</button>\n",
    "</a></center>"
   ]
  },
  {
   "cell_type": "code",
   "execution_count": 33,
   "metadata": {
    "executionInfo": {
     "elapsed": 431,
     "status": "ok",
     "timestamp": 1674647003871,
     "user": {
      "displayName": "Muhammad Rois al haqq",
      "userId": "05628020901943186304"
     },
     "user_tz": -420
    },
    "id": "LaOVHFacvQ-a"
   },
   "outputs": [],
   "source": [
    "# Ignore warnings\n",
    "import warnings\n",
    "\n",
    "warnings.simplefilter(action = \"ignore\", category = FutureWarning)\n",
    "\n",
    "# import the necessary Python libraries Numpy, Pandas and Matplotlib with their usual shorthand notation.\n",
    "import numpy as np\n",
    "import pandas as pd\n",
    "import matplotlib.pyplot as plt\n",
    "%matplotlib inline\n",
    "\n",
    "import seaborn as sns"
   ]
  },
  {
   "cell_type": "code",
   "execution_count": 77,
   "metadata": {
    "colab": {
     "base_uri": "https://localhost:8080/",
     "height": 206
    },
    "executionInfo": {
     "elapsed": 326,
     "status": "ok",
     "timestamp": 1674653625281,
     "user": {
      "displayName": "Muhammad Rois al haqq",
      "userId": "05628020901943186304"
     },
     "user_tz": -420
    },
    "id": "cPCSPWfIbOoC",
    "outputId": "cf7da76f-cdbb-40f1-c96c-670f5e48dd78"
   },
   "outputs": [
    {
     "data": {
      "text/html": [
       "\n",
       "  <div id=\"df-5acb40aa-b83e-4f36-9ab8-d9f26fb5d9cf\">\n",
       "    <div class=\"colab-df-container\">\n",
       "      <div>\n",
       "<style scoped>\n",
       "    .dataframe tbody tr th:only-of-type {\n",
       "        vertical-align: middle;\n",
       "    }\n",
       "\n",
       "    .dataframe tbody tr th {\n",
       "        vertical-align: top;\n",
       "    }\n",
       "\n",
       "    .dataframe thead th {\n",
       "        text-align: right;\n",
       "    }\n",
       "</style>\n",
       "<table border=\"1\" class=\"dataframe\">\n",
       "  <thead>\n",
       "    <tr style=\"text-align: right;\">\n",
       "      <th></th>\n",
       "      <th>mpg</th>\n",
       "      <th>cylinders</th>\n",
       "      <th>displacement</th>\n",
       "      <th>horsepower</th>\n",
       "      <th>weight</th>\n",
       "      <th>acceleration</th>\n",
       "      <th>model_year</th>\n",
       "      <th>origin</th>\n",
       "      <th>name</th>\n",
       "    </tr>\n",
       "  </thead>\n",
       "  <tbody>\n",
       "    <tr>\n",
       "      <th>0</th>\n",
       "      <td>18.0</td>\n",
       "      <td>8</td>\n",
       "      <td>307.0</td>\n",
       "      <td>130</td>\n",
       "      <td>3504</td>\n",
       "      <td>12.0</td>\n",
       "      <td>70</td>\n",
       "      <td>1</td>\n",
       "      <td>chevrolet chevelle malibu</td>\n",
       "    </tr>\n",
       "    <tr>\n",
       "      <th>1</th>\n",
       "      <td>15.0</td>\n",
       "      <td>8</td>\n",
       "      <td>350.0</td>\n",
       "      <td>165</td>\n",
       "      <td>3693</td>\n",
       "      <td>11.5</td>\n",
       "      <td>70</td>\n",
       "      <td>1</td>\n",
       "      <td>buick skylark 320</td>\n",
       "    </tr>\n",
       "    <tr>\n",
       "      <th>2</th>\n",
       "      <td>18.0</td>\n",
       "      <td>8</td>\n",
       "      <td>318.0</td>\n",
       "      <td>150</td>\n",
       "      <td>3436</td>\n",
       "      <td>11.0</td>\n",
       "      <td>70</td>\n",
       "      <td>1</td>\n",
       "      <td>plymouth satellite</td>\n",
       "    </tr>\n",
       "    <tr>\n",
       "      <th>3</th>\n",
       "      <td>16.0</td>\n",
       "      <td>8</td>\n",
       "      <td>304.0</td>\n",
       "      <td>150</td>\n",
       "      <td>3433</td>\n",
       "      <td>12.0</td>\n",
       "      <td>70</td>\n",
       "      <td>1</td>\n",
       "      <td>amc rebel sst</td>\n",
       "    </tr>\n",
       "    <tr>\n",
       "      <th>4</th>\n",
       "      <td>17.0</td>\n",
       "      <td>8</td>\n",
       "      <td>302.0</td>\n",
       "      <td>140</td>\n",
       "      <td>3449</td>\n",
       "      <td>10.5</td>\n",
       "      <td>70</td>\n",
       "      <td>1</td>\n",
       "      <td>ford torino</td>\n",
       "    </tr>\n",
       "  </tbody>\n",
       "</table>\n",
       "</div>\n",
       "      <button class=\"colab-df-convert\" onclick=\"convertToInteractive('df-5acb40aa-b83e-4f36-9ab8-d9f26fb5d9cf')\"\n",
       "              title=\"Convert this dataframe to an interactive table.\"\n",
       "              style=\"display:none;\">\n",
       "        \n",
       "  <svg xmlns=\"http://www.w3.org/2000/svg\" height=\"24px\"viewBox=\"0 0 24 24\"\n",
       "       width=\"24px\">\n",
       "    <path d=\"M0 0h24v24H0V0z\" fill=\"none\"/>\n",
       "    <path d=\"M18.56 5.44l.94 2.06.94-2.06 2.06-.94-2.06-.94-.94-2.06-.94 2.06-2.06.94zm-11 1L8.5 8.5l.94-2.06 2.06-.94-2.06-.94L8.5 2.5l-.94 2.06-2.06.94zm10 10l.94 2.06.94-2.06 2.06-.94-2.06-.94-.94-2.06-.94 2.06-2.06.94z\"/><path d=\"M17.41 7.96l-1.37-1.37c-.4-.4-.92-.59-1.43-.59-.52 0-1.04.2-1.43.59L10.3 9.45l-7.72 7.72c-.78.78-.78 2.05 0 2.83L4 21.41c.39.39.9.59 1.41.59.51 0 1.02-.2 1.41-.59l7.78-7.78 2.81-2.81c.8-.78.8-2.07 0-2.86zM5.41 20L4 18.59l7.72-7.72 1.47 1.35L5.41 20z\"/>\n",
       "  </svg>\n",
       "      </button>\n",
       "      \n",
       "  <style>\n",
       "    .colab-df-container {\n",
       "      display:flex;\n",
       "      flex-wrap:wrap;\n",
       "      gap: 12px;\n",
       "    }\n",
       "\n",
       "    .colab-df-convert {\n",
       "      background-color: #E8F0FE;\n",
       "      border: none;\n",
       "      border-radius: 50%;\n",
       "      cursor: pointer;\n",
       "      display: none;\n",
       "      fill: #1967D2;\n",
       "      height: 32px;\n",
       "      padding: 0 0 0 0;\n",
       "      width: 32px;\n",
       "    }\n",
       "\n",
       "    .colab-df-convert:hover {\n",
       "      background-color: #E2EBFA;\n",
       "      box-shadow: 0px 1px 2px rgba(60, 64, 67, 0.3), 0px 1px 3px 1px rgba(60, 64, 67, 0.15);\n",
       "      fill: #174EA6;\n",
       "    }\n",
       "\n",
       "    [theme=dark] .colab-df-convert {\n",
       "      background-color: #3B4455;\n",
       "      fill: #D2E3FC;\n",
       "    }\n",
       "\n",
       "    [theme=dark] .colab-df-convert:hover {\n",
       "      background-color: #434B5C;\n",
       "      box-shadow: 0px 1px 3px 1px rgba(0, 0, 0, 0.15);\n",
       "      filter: drop-shadow(0px 1px 2px rgba(0, 0, 0, 0.3));\n",
       "      fill: #FFFFFF;\n",
       "    }\n",
       "  </style>\n",
       "\n",
       "      <script>\n",
       "        const buttonEl =\n",
       "          document.querySelector('#df-5acb40aa-b83e-4f36-9ab8-d9f26fb5d9cf button.colab-df-convert');\n",
       "        buttonEl.style.display =\n",
       "          google.colab.kernel.accessAllowed ? 'block' : 'none';\n",
       "\n",
       "        async function convertToInteractive(key) {\n",
       "          const element = document.querySelector('#df-5acb40aa-b83e-4f36-9ab8-d9f26fb5d9cf');\n",
       "          const dataTable =\n",
       "            await google.colab.kernel.invokeFunction('convertToInteractive',\n",
       "                                                     [key], {});\n",
       "          if (!dataTable) return;\n",
       "\n",
       "          const docLinkHtml = 'Like what you see? Visit the ' +\n",
       "            '<a target=\"_blank\" href=https://colab.research.google.com/notebooks/data_table.ipynb>data table notebook</a>'\n",
       "            + ' to learn more about interactive tables.';\n",
       "          element.innerHTML = '';\n",
       "          dataTable['output_type'] = 'display_data';\n",
       "          await google.colab.output.renderOutput(dataTable, element);\n",
       "          const docLink = document.createElement('div');\n",
       "          docLink.innerHTML = docLinkHtml;\n",
       "          element.appendChild(docLink);\n",
       "        }\n",
       "      </script>\n",
       "    </div>\n",
       "  </div>\n",
       "  "
      ],
      "text/plain": [
       "    mpg  cylinders  displacement horsepower  weight  acceleration  model_year  \\\n",
       "0  18.0          8         307.0        130    3504          12.0          70   \n",
       "1  15.0          8         350.0        165    3693          11.5          70   \n",
       "2  18.0          8         318.0        150    3436          11.0          70   \n",
       "3  16.0          8         304.0        150    3433          12.0          70   \n",
       "4  17.0          8         302.0        140    3449          10.5          70   \n",
       "\n",
       "   origin                       name  \n",
       "0       1  chevrolet chevelle malibu  \n",
       "1       1          buick skylark 320  \n",
       "2       1         plymouth satellite  \n",
       "3       1              amc rebel sst  \n",
       "4       1                ford torino  "
      ]
     },
     "execution_count": 77,
     "metadata": {},
     "output_type": "execute_result"
    }
   ],
   "source": [
    "# load dataset mpg\n",
    "path = 'mpg.csv'\n",
    "mpg = pd.read_csv(path, index_col=0)\n",
    "mpg.head(5)"
   ]
  },
  {
   "cell_type": "markdown",
   "metadata": {
    "id": "agj5p5acbT6S"
   },
   "source": [
    "Penjelasan setiap variabel:\n",
    "\n",
    "- mpg : jarak tempuh mill per gallon\n",
    "- cylinders : jumlah silinder\n",
    "- displacement : volume langkah piston\n",
    "- horsepower : tenaga mesin yang dihasilkan\n",
    "- weight : berat mobil\n",
    "- acceleration : waktu akselerasi\n",
    "- model_year : tahun pembuatan\n",
    "- origin : asal mobil\n",
    "- name : nama mobil"
   ]
  },
  {
   "cell_type": "markdown",
   "metadata": {
    "id": "KRiGhEgfOg5f"
   },
   "source": [
    "### Data Understanding"
   ]
  },
  {
   "cell_type": "code",
   "execution_count": 78,
   "metadata": {
    "colab": {
     "base_uri": "https://localhost:8080/",
     "height": 300
    },
    "executionInfo": {
     "elapsed": 519,
     "status": "ok",
     "timestamp": 1674653628792,
     "user": {
      "displayName": "Muhammad Rois al haqq",
      "userId": "05628020901943186304"
     },
     "user_tz": -420
    },
    "id": "sVkWHA9EbTFM",
    "outputId": "6fb9c1d4-a664-4853-b33c-584f3b911bd0"
   },
   "outputs": [
    {
     "data": {
      "text/html": [
       "\n",
       "  <div id=\"df-7b11d647-130a-4a40-84ad-afd5e800bcac\">\n",
       "    <div class=\"colab-df-container\">\n",
       "      <div>\n",
       "<style scoped>\n",
       "    .dataframe tbody tr th:only-of-type {\n",
       "        vertical-align: middle;\n",
       "    }\n",
       "\n",
       "    .dataframe tbody tr th {\n",
       "        vertical-align: top;\n",
       "    }\n",
       "\n",
       "    .dataframe thead th {\n",
       "        text-align: right;\n",
       "    }\n",
       "</style>\n",
       "<table border=\"1\" class=\"dataframe\">\n",
       "  <thead>\n",
       "    <tr style=\"text-align: right;\">\n",
       "      <th></th>\n",
       "      <th>mpg</th>\n",
       "      <th>cylinders</th>\n",
       "      <th>displacement</th>\n",
       "      <th>weight</th>\n",
       "      <th>acceleration</th>\n",
       "      <th>model_year</th>\n",
       "      <th>origin</th>\n",
       "    </tr>\n",
       "  </thead>\n",
       "  <tbody>\n",
       "    <tr>\n",
       "      <th>count</th>\n",
       "      <td>398.000000</td>\n",
       "      <td>398.000000</td>\n",
       "      <td>398.000000</td>\n",
       "      <td>398.000000</td>\n",
       "      <td>398.000000</td>\n",
       "      <td>398.000000</td>\n",
       "      <td>398.000000</td>\n",
       "    </tr>\n",
       "    <tr>\n",
       "      <th>mean</th>\n",
       "      <td>23.514573</td>\n",
       "      <td>5.454774</td>\n",
       "      <td>193.425879</td>\n",
       "      <td>2970.424623</td>\n",
       "      <td>15.568090</td>\n",
       "      <td>76.010050</td>\n",
       "      <td>1.572864</td>\n",
       "    </tr>\n",
       "    <tr>\n",
       "      <th>std</th>\n",
       "      <td>7.815984</td>\n",
       "      <td>1.701004</td>\n",
       "      <td>104.269838</td>\n",
       "      <td>846.841774</td>\n",
       "      <td>2.757689</td>\n",
       "      <td>3.697627</td>\n",
       "      <td>0.802055</td>\n",
       "    </tr>\n",
       "    <tr>\n",
       "      <th>min</th>\n",
       "      <td>9.000000</td>\n",
       "      <td>3.000000</td>\n",
       "      <td>68.000000</td>\n",
       "      <td>1613.000000</td>\n",
       "      <td>8.000000</td>\n",
       "      <td>70.000000</td>\n",
       "      <td>1.000000</td>\n",
       "    </tr>\n",
       "    <tr>\n",
       "      <th>25%</th>\n",
       "      <td>17.500000</td>\n",
       "      <td>4.000000</td>\n",
       "      <td>104.250000</td>\n",
       "      <td>2223.750000</td>\n",
       "      <td>13.825000</td>\n",
       "      <td>73.000000</td>\n",
       "      <td>1.000000</td>\n",
       "    </tr>\n",
       "    <tr>\n",
       "      <th>50%</th>\n",
       "      <td>23.000000</td>\n",
       "      <td>4.000000</td>\n",
       "      <td>148.500000</td>\n",
       "      <td>2803.500000</td>\n",
       "      <td>15.500000</td>\n",
       "      <td>76.000000</td>\n",
       "      <td>1.000000</td>\n",
       "    </tr>\n",
       "    <tr>\n",
       "      <th>75%</th>\n",
       "      <td>29.000000</td>\n",
       "      <td>8.000000</td>\n",
       "      <td>262.000000</td>\n",
       "      <td>3608.000000</td>\n",
       "      <td>17.175000</td>\n",
       "      <td>79.000000</td>\n",
       "      <td>2.000000</td>\n",
       "    </tr>\n",
       "    <tr>\n",
       "      <th>max</th>\n",
       "      <td>46.600000</td>\n",
       "      <td>8.000000</td>\n",
       "      <td>455.000000</td>\n",
       "      <td>5140.000000</td>\n",
       "      <td>24.800000</td>\n",
       "      <td>82.000000</td>\n",
       "      <td>3.000000</td>\n",
       "    </tr>\n",
       "  </tbody>\n",
       "</table>\n",
       "</div>\n",
       "      <button class=\"colab-df-convert\" onclick=\"convertToInteractive('df-7b11d647-130a-4a40-84ad-afd5e800bcac')\"\n",
       "              title=\"Convert this dataframe to an interactive table.\"\n",
       "              style=\"display:none;\">\n",
       "        \n",
       "  <svg xmlns=\"http://www.w3.org/2000/svg\" height=\"24px\"viewBox=\"0 0 24 24\"\n",
       "       width=\"24px\">\n",
       "    <path d=\"M0 0h24v24H0V0z\" fill=\"none\"/>\n",
       "    <path d=\"M18.56 5.44l.94 2.06.94-2.06 2.06-.94-2.06-.94-.94-2.06-.94 2.06-2.06.94zm-11 1L8.5 8.5l.94-2.06 2.06-.94-2.06-.94L8.5 2.5l-.94 2.06-2.06.94zm10 10l.94 2.06.94-2.06 2.06-.94-2.06-.94-.94-2.06-.94 2.06-2.06.94z\"/><path d=\"M17.41 7.96l-1.37-1.37c-.4-.4-.92-.59-1.43-.59-.52 0-1.04.2-1.43.59L10.3 9.45l-7.72 7.72c-.78.78-.78 2.05 0 2.83L4 21.41c.39.39.9.59 1.41.59.51 0 1.02-.2 1.41-.59l7.78-7.78 2.81-2.81c.8-.78.8-2.07 0-2.86zM5.41 20L4 18.59l7.72-7.72 1.47 1.35L5.41 20z\"/>\n",
       "  </svg>\n",
       "      </button>\n",
       "      \n",
       "  <style>\n",
       "    .colab-df-container {\n",
       "      display:flex;\n",
       "      flex-wrap:wrap;\n",
       "      gap: 12px;\n",
       "    }\n",
       "\n",
       "    .colab-df-convert {\n",
       "      background-color: #E8F0FE;\n",
       "      border: none;\n",
       "      border-radius: 50%;\n",
       "      cursor: pointer;\n",
       "      display: none;\n",
       "      fill: #1967D2;\n",
       "      height: 32px;\n",
       "      padding: 0 0 0 0;\n",
       "      width: 32px;\n",
       "    }\n",
       "\n",
       "    .colab-df-convert:hover {\n",
       "      background-color: #E2EBFA;\n",
       "      box-shadow: 0px 1px 2px rgba(60, 64, 67, 0.3), 0px 1px 3px 1px rgba(60, 64, 67, 0.15);\n",
       "      fill: #174EA6;\n",
       "    }\n",
       "\n",
       "    [theme=dark] .colab-df-convert {\n",
       "      background-color: #3B4455;\n",
       "      fill: #D2E3FC;\n",
       "    }\n",
       "\n",
       "    [theme=dark] .colab-df-convert:hover {\n",
       "      background-color: #434B5C;\n",
       "      box-shadow: 0px 1px 3px 1px rgba(0, 0, 0, 0.15);\n",
       "      filter: drop-shadow(0px 1px 2px rgba(0, 0, 0, 0.3));\n",
       "      fill: #FFFFFF;\n",
       "    }\n",
       "  </style>\n",
       "\n",
       "      <script>\n",
       "        const buttonEl =\n",
       "          document.querySelector('#df-7b11d647-130a-4a40-84ad-afd5e800bcac button.colab-df-convert');\n",
       "        buttonEl.style.display =\n",
       "          google.colab.kernel.accessAllowed ? 'block' : 'none';\n",
       "\n",
       "        async function convertToInteractive(key) {\n",
       "          const element = document.querySelector('#df-7b11d647-130a-4a40-84ad-afd5e800bcac');\n",
       "          const dataTable =\n",
       "            await google.colab.kernel.invokeFunction('convertToInteractive',\n",
       "                                                     [key], {});\n",
       "          if (!dataTable) return;\n",
       "\n",
       "          const docLinkHtml = 'Like what you see? Visit the ' +\n",
       "            '<a target=\"_blank\" href=https://colab.research.google.com/notebooks/data_table.ipynb>data table notebook</a>'\n",
       "            + ' to learn more about interactive tables.';\n",
       "          element.innerHTML = '';\n",
       "          dataTable['output_type'] = 'display_data';\n",
       "          await google.colab.output.renderOutput(dataTable, element);\n",
       "          const docLink = document.createElement('div');\n",
       "          docLink.innerHTML = docLinkHtml;\n",
       "          element.appendChild(docLink);\n",
       "        }\n",
       "      </script>\n",
       "    </div>\n",
       "  </div>\n",
       "  "
      ],
      "text/plain": [
       "              mpg   cylinders  displacement       weight  acceleration  \\\n",
       "count  398.000000  398.000000    398.000000   398.000000    398.000000   \n",
       "mean    23.514573    5.454774    193.425879  2970.424623     15.568090   \n",
       "std      7.815984    1.701004    104.269838   846.841774      2.757689   \n",
       "min      9.000000    3.000000     68.000000  1613.000000      8.000000   \n",
       "25%     17.500000    4.000000    104.250000  2223.750000     13.825000   \n",
       "50%     23.000000    4.000000    148.500000  2803.500000     15.500000   \n",
       "75%     29.000000    8.000000    262.000000  3608.000000     17.175000   \n",
       "max     46.600000    8.000000    455.000000  5140.000000     24.800000   \n",
       "\n",
       "       model_year      origin  \n",
       "count  398.000000  398.000000  \n",
       "mean    76.010050    1.572864  \n",
       "std      3.697627    0.802055  \n",
       "min     70.000000    1.000000  \n",
       "25%     73.000000    1.000000  \n",
       "50%     76.000000    1.000000  \n",
       "75%     79.000000    2.000000  \n",
       "max     82.000000    3.000000  "
      ]
     },
     "execution_count": 78,
     "metadata": {},
     "output_type": "execute_result"
    }
   ],
   "source": [
    "mpg.describe() "
   ]
  },
  {
   "cell_type": "markdown",
   "metadata": {
    "id": "IWOTjlxqb1Dd"
   },
   "source": [
    "Feature horsepower seharusnya masuk dalam output describe(), kita cek value horsepower menggunakan fungsi unique()"
   ]
  },
  {
   "cell_type": "code",
   "execution_count": 79,
   "metadata": {
    "colab": {
     "base_uri": "https://localhost:8080/"
    },
    "executionInfo": {
     "elapsed": 503,
     "status": "ok",
     "timestamp": 1674653631118,
     "user": {
      "displayName": "Muhammad Rois al haqq",
      "userId": "05628020901943186304"
     },
     "user_tz": -420
    },
    "id": "mremiHKXbxWf",
    "outputId": "161d0ff3-fad9-4026-d56f-94f66b3323ac"
   },
   "outputs": [
    {
     "data": {
      "text/plain": [
       "array(['130', '165', '150', '140', '198', '220', '215', '225', '190',\n",
       "       '170', '160', '95', '97', '85', '88', '46', '87', '90', '113',\n",
       "       '200', '210', '193', '?', '100', '105', '175', '153', '180', '110',\n",
       "       '72', '86', '70', '76', '65', '69', '60', '80', '54', '208', '155',\n",
       "       '112', '92', '145', '137', '158', '167', '94', '107', '230', '49',\n",
       "       '75', '91', '122', '67', '83', '78', '52', '61', '93', '148',\n",
       "       '129', '96', '71', '98', '115', '53', '81', '79', '120', '152',\n",
       "       '102', '108', '68', '58', '149', '89', '63', '48', '66', '139',\n",
       "       '103', '125', '133', '138', '135', '142', '77', '62', '132', '84',\n",
       "       '64', '74', '116', '82'], dtype=object)"
      ]
     },
     "execution_count": 79,
     "metadata": {},
     "output_type": "execute_result"
    }
   ],
   "source": [
    "mpg['horsepower'].unique()"
   ]
  },
  {
   "cell_type": "markdown",
   "metadata": {
    "id": "0UKZqbrjb7S2"
   },
   "source": [
    "Ternyata feature Horsepower memiliki value '?' dan tidak terdeteksi sebagai null value, kita replace value nya dengan Nan"
   ]
  },
  {
   "cell_type": "code",
   "execution_count": 80,
   "metadata": {
    "executionInfo": {
     "elapsed": 1,
     "status": "ok",
     "timestamp": 1674653633540,
     "user": {
      "displayName": "Muhammad Rois al haqq",
      "userId": "05628020901943186304"
     },
     "user_tz": -420
    },
    "id": "uOSGWjljb5kg"
   },
   "outputs": [],
   "source": [
    "mpg['horsepower'] = mpg['horsepower'].replace('?', np.nan)"
   ]
  },
  {
   "cell_type": "markdown",
   "metadata": {
    "id": "XHqIXmHZcE6L"
   },
   "source": [
    "Cek lagi missing value nya"
   ]
  },
  {
   "cell_type": "code",
   "execution_count": 81,
   "metadata": {
    "colab": {
     "base_uri": "https://localhost:8080/"
    },
    "executionInfo": {
     "elapsed": 4,
     "status": "ok",
     "timestamp": 1674653635294,
     "user": {
      "displayName": "Muhammad Rois al haqq",
      "userId": "05628020901943186304"
     },
     "user_tz": -420
    },
    "id": "btskBv7ZcILn",
    "outputId": "a741c167-babd-4e19-8c88-5013af41babe"
   },
   "outputs": [
    {
     "data": {
      "text/plain": [
       "mpg             0\n",
       "cylinders       0\n",
       "displacement    0\n",
       "horsepower      6\n",
       "weight          0\n",
       "acceleration    0\n",
       "model_year      0\n",
       "origin          0\n",
       "name            0\n",
       "dtype: int64"
      ]
     },
     "execution_count": 81,
     "metadata": {},
     "output_type": "execute_result"
    }
   ],
   "source": [
    "mpg.isna().sum()"
   ]
  },
  {
   "cell_type": "code",
   "execution_count": 39,
   "metadata": {
    "executionInfo": {
     "elapsed": 6,
     "status": "ok",
     "timestamp": 1674647003873,
     "user": {
      "displayName": "Muhammad Rois al haqq",
      "userId": "05628020901943186304"
     },
     "user_tz": -420
    },
    "id": "CwBtouKAcKmc"
   },
   "outputs": [],
   "source": [
    "mpg.dropna(inplace=True)"
   ]
  },
  {
   "cell_type": "code",
   "execution_count": 40,
   "metadata": {
    "colab": {
     "base_uri": "https://localhost:8080/",
     "height": 300
    },
    "executionInfo": {
     "elapsed": 543,
     "status": "ok",
     "timestamp": 1674647004410,
     "user": {
      "displayName": "Muhammad Rois al haqq",
      "userId": "05628020901943186304"
     },
     "user_tz": -420
    },
    "id": "6JALzF6dcLK6",
    "outputId": "6d30b22b-02d4-4c15-c5d8-626ab71a43c4"
   },
   "outputs": [
    {
     "data": {
      "text/html": [
       "\n",
       "  <div id=\"df-5fe0fedd-c6a2-41bc-a419-4104ad427fa1\">\n",
       "    <div class=\"colab-df-container\">\n",
       "      <div>\n",
       "<style scoped>\n",
       "    .dataframe tbody tr th:only-of-type {\n",
       "        vertical-align: middle;\n",
       "    }\n",
       "\n",
       "    .dataframe tbody tr th {\n",
       "        vertical-align: top;\n",
       "    }\n",
       "\n",
       "    .dataframe thead th {\n",
       "        text-align: right;\n",
       "    }\n",
       "</style>\n",
       "<table border=\"1\" class=\"dataframe\">\n",
       "  <thead>\n",
       "    <tr style=\"text-align: right;\">\n",
       "      <th></th>\n",
       "      <th>mpg</th>\n",
       "      <th>cylinders</th>\n",
       "      <th>displacement</th>\n",
       "      <th>horsepower</th>\n",
       "      <th>weight</th>\n",
       "      <th>acceleration</th>\n",
       "      <th>model_year</th>\n",
       "      <th>origin</th>\n",
       "    </tr>\n",
       "  </thead>\n",
       "  <tbody>\n",
       "    <tr>\n",
       "      <th>count</th>\n",
       "      <td>392.000000</td>\n",
       "      <td>392.000000</td>\n",
       "      <td>392.000000</td>\n",
       "      <td>392.000000</td>\n",
       "      <td>392.000000</td>\n",
       "      <td>392.000000</td>\n",
       "      <td>392.000000</td>\n",
       "      <td>392.000000</td>\n",
       "    </tr>\n",
       "    <tr>\n",
       "      <th>mean</th>\n",
       "      <td>23.445918</td>\n",
       "      <td>5.471939</td>\n",
       "      <td>194.411990</td>\n",
       "      <td>104.469388</td>\n",
       "      <td>2977.584184</td>\n",
       "      <td>15.541327</td>\n",
       "      <td>75.979592</td>\n",
       "      <td>1.576531</td>\n",
       "    </tr>\n",
       "    <tr>\n",
       "      <th>std</th>\n",
       "      <td>7.805007</td>\n",
       "      <td>1.705783</td>\n",
       "      <td>104.644004</td>\n",
       "      <td>38.491160</td>\n",
       "      <td>849.402560</td>\n",
       "      <td>2.758864</td>\n",
       "      <td>3.683737</td>\n",
       "      <td>0.805518</td>\n",
       "    </tr>\n",
       "    <tr>\n",
       "      <th>min</th>\n",
       "      <td>9.000000</td>\n",
       "      <td>3.000000</td>\n",
       "      <td>68.000000</td>\n",
       "      <td>46.000000</td>\n",
       "      <td>1613.000000</td>\n",
       "      <td>8.000000</td>\n",
       "      <td>70.000000</td>\n",
       "      <td>1.000000</td>\n",
       "    </tr>\n",
       "    <tr>\n",
       "      <th>25%</th>\n",
       "      <td>17.000000</td>\n",
       "      <td>4.000000</td>\n",
       "      <td>105.000000</td>\n",
       "      <td>75.000000</td>\n",
       "      <td>2225.250000</td>\n",
       "      <td>13.775000</td>\n",
       "      <td>73.000000</td>\n",
       "      <td>1.000000</td>\n",
       "    </tr>\n",
       "    <tr>\n",
       "      <th>50%</th>\n",
       "      <td>22.750000</td>\n",
       "      <td>4.000000</td>\n",
       "      <td>151.000000</td>\n",
       "      <td>93.500000</td>\n",
       "      <td>2803.500000</td>\n",
       "      <td>15.500000</td>\n",
       "      <td>76.000000</td>\n",
       "      <td>1.000000</td>\n",
       "    </tr>\n",
       "    <tr>\n",
       "      <th>75%</th>\n",
       "      <td>29.000000</td>\n",
       "      <td>8.000000</td>\n",
       "      <td>275.750000</td>\n",
       "      <td>126.000000</td>\n",
       "      <td>3614.750000</td>\n",
       "      <td>17.025000</td>\n",
       "      <td>79.000000</td>\n",
       "      <td>2.000000</td>\n",
       "    </tr>\n",
       "    <tr>\n",
       "      <th>max</th>\n",
       "      <td>46.600000</td>\n",
       "      <td>8.000000</td>\n",
       "      <td>455.000000</td>\n",
       "      <td>230.000000</td>\n",
       "      <td>5140.000000</td>\n",
       "      <td>24.800000</td>\n",
       "      <td>82.000000</td>\n",
       "      <td>3.000000</td>\n",
       "    </tr>\n",
       "  </tbody>\n",
       "</table>\n",
       "</div>\n",
       "      <button class=\"colab-df-convert\" onclick=\"convertToInteractive('df-5fe0fedd-c6a2-41bc-a419-4104ad427fa1')\"\n",
       "              title=\"Convert this dataframe to an interactive table.\"\n",
       "              style=\"display:none;\">\n",
       "        \n",
       "  <svg xmlns=\"http://www.w3.org/2000/svg\" height=\"24px\"viewBox=\"0 0 24 24\"\n",
       "       width=\"24px\">\n",
       "    <path d=\"M0 0h24v24H0V0z\" fill=\"none\"/>\n",
       "    <path d=\"M18.56 5.44l.94 2.06.94-2.06 2.06-.94-2.06-.94-.94-2.06-.94 2.06-2.06.94zm-11 1L8.5 8.5l.94-2.06 2.06-.94-2.06-.94L8.5 2.5l-.94 2.06-2.06.94zm10 10l.94 2.06.94-2.06 2.06-.94-2.06-.94-.94-2.06-.94 2.06-2.06.94z\"/><path d=\"M17.41 7.96l-1.37-1.37c-.4-.4-.92-.59-1.43-.59-.52 0-1.04.2-1.43.59L10.3 9.45l-7.72 7.72c-.78.78-.78 2.05 0 2.83L4 21.41c.39.39.9.59 1.41.59.51 0 1.02-.2 1.41-.59l7.78-7.78 2.81-2.81c.8-.78.8-2.07 0-2.86zM5.41 20L4 18.59l7.72-7.72 1.47 1.35L5.41 20z\"/>\n",
       "  </svg>\n",
       "      </button>\n",
       "      \n",
       "  <style>\n",
       "    .colab-df-container {\n",
       "      display:flex;\n",
       "      flex-wrap:wrap;\n",
       "      gap: 12px;\n",
       "    }\n",
       "\n",
       "    .colab-df-convert {\n",
       "      background-color: #E8F0FE;\n",
       "      border: none;\n",
       "      border-radius: 50%;\n",
       "      cursor: pointer;\n",
       "      display: none;\n",
       "      fill: #1967D2;\n",
       "      height: 32px;\n",
       "      padding: 0 0 0 0;\n",
       "      width: 32px;\n",
       "    }\n",
       "\n",
       "    .colab-df-convert:hover {\n",
       "      background-color: #E2EBFA;\n",
       "      box-shadow: 0px 1px 2px rgba(60, 64, 67, 0.3), 0px 1px 3px 1px rgba(60, 64, 67, 0.15);\n",
       "      fill: #174EA6;\n",
       "    }\n",
       "\n",
       "    [theme=dark] .colab-df-convert {\n",
       "      background-color: #3B4455;\n",
       "      fill: #D2E3FC;\n",
       "    }\n",
       "\n",
       "    [theme=dark] .colab-df-convert:hover {\n",
       "      background-color: #434B5C;\n",
       "      box-shadow: 0px 1px 3px 1px rgba(0, 0, 0, 0.15);\n",
       "      filter: drop-shadow(0px 1px 2px rgba(0, 0, 0, 0.3));\n",
       "      fill: #FFFFFF;\n",
       "    }\n",
       "  </style>\n",
       "\n",
       "      <script>\n",
       "        const buttonEl =\n",
       "          document.querySelector('#df-5fe0fedd-c6a2-41bc-a419-4104ad427fa1 button.colab-df-convert');\n",
       "        buttonEl.style.display =\n",
       "          google.colab.kernel.accessAllowed ? 'block' : 'none';\n",
       "\n",
       "        async function convertToInteractive(key) {\n",
       "          const element = document.querySelector('#df-5fe0fedd-c6a2-41bc-a419-4104ad427fa1');\n",
       "          const dataTable =\n",
       "            await google.colab.kernel.invokeFunction('convertToInteractive',\n",
       "                                                     [key], {});\n",
       "          if (!dataTable) return;\n",
       "\n",
       "          const docLinkHtml = 'Like what you see? Visit the ' +\n",
       "            '<a target=\"_blank\" href=https://colab.research.google.com/notebooks/data_table.ipynb>data table notebook</a>'\n",
       "            + ' to learn more about interactive tables.';\n",
       "          element.innerHTML = '';\n",
       "          dataTable['output_type'] = 'display_data';\n",
       "          await google.colab.output.renderOutput(dataTable, element);\n",
       "          const docLink = document.createElement('div');\n",
       "          docLink.innerHTML = docLinkHtml;\n",
       "          element.appendChild(docLink);\n",
       "        }\n",
       "      </script>\n",
       "    </div>\n",
       "  </div>\n",
       "  "
      ],
      "text/plain": [
       "              mpg   cylinders  displacement  horsepower       weight  \\\n",
       "count  392.000000  392.000000    392.000000  392.000000   392.000000   \n",
       "mean    23.445918    5.471939    194.411990  104.469388  2977.584184   \n",
       "std      7.805007    1.705783    104.644004   38.491160   849.402560   \n",
       "min      9.000000    3.000000     68.000000   46.000000  1613.000000   \n",
       "25%     17.000000    4.000000    105.000000   75.000000  2225.250000   \n",
       "50%     22.750000    4.000000    151.000000   93.500000  2803.500000   \n",
       "75%     29.000000    8.000000    275.750000  126.000000  3614.750000   \n",
       "max     46.600000    8.000000    455.000000  230.000000  5140.000000   \n",
       "\n",
       "       acceleration  model_year      origin  \n",
       "count    392.000000  392.000000  392.000000  \n",
       "mean      15.541327   75.979592    1.576531  \n",
       "std        2.758864    3.683737    0.805518  \n",
       "min        8.000000   70.000000    1.000000  \n",
       "25%       13.775000   73.000000    1.000000  \n",
       "50%       15.500000   76.000000    1.000000  \n",
       "75%       17.025000   79.000000    2.000000  \n",
       "max       24.800000   82.000000    3.000000  "
      ]
     },
     "execution_count": 40,
     "metadata": {},
     "output_type": "execute_result"
    }
   ],
   "source": [
    "mpg['horsepower'] = mpg['horsepower'].astype(int)\n",
    "mpg.describe()"
   ]
  },
  {
   "cell_type": "markdown",
   "metadata": {
    "id": "w35UwHjFOaRe"
   },
   "source": [
    "### Feature Engineering"
   ]
  },
  {
   "cell_type": "code",
   "execution_count": 41,
   "metadata": {
    "colab": {
     "base_uri": "https://localhost:8080/",
     "height": 206
    },
    "executionInfo": {
     "elapsed": 14,
     "status": "ok",
     "timestamp": 1674647004410,
     "user": {
      "displayName": "Muhammad Rois al haqq",
      "userId": "05628020901943186304"
     },
     "user_tz": -420
    },
    "id": "TyUNyR6-Oz8I",
    "outputId": "bf1d63ef-e309-43ad-c1b5-ed91777ba90d"
   },
   "outputs": [
    {
     "data": {
      "text/html": [
       "\n",
       "  <div id=\"df-a0753097-4000-495c-bb77-9375362954af\">\n",
       "    <div class=\"colab-df-container\">\n",
       "      <div>\n",
       "<style scoped>\n",
       "    .dataframe tbody tr th:only-of-type {\n",
       "        vertical-align: middle;\n",
       "    }\n",
       "\n",
       "    .dataframe tbody tr th {\n",
       "        vertical-align: top;\n",
       "    }\n",
       "\n",
       "    .dataframe thead th {\n",
       "        text-align: right;\n",
       "    }\n",
       "</style>\n",
       "<table border=\"1\" class=\"dataframe\">\n",
       "  <thead>\n",
       "    <tr style=\"text-align: right;\">\n",
       "      <th></th>\n",
       "      <th>mpg</th>\n",
       "      <th>cylinders</th>\n",
       "      <th>displacement</th>\n",
       "      <th>horsepower</th>\n",
       "      <th>weight</th>\n",
       "      <th>acceleration</th>\n",
       "      <th>model_year</th>\n",
       "      <th>origin</th>\n",
       "      <th>name</th>\n",
       "    </tr>\n",
       "  </thead>\n",
       "  <tbody>\n",
       "    <tr>\n",
       "      <th>0</th>\n",
       "      <td>18.0</td>\n",
       "      <td>8</td>\n",
       "      <td>307.0</td>\n",
       "      <td>130</td>\n",
       "      <td>3504</td>\n",
       "      <td>12.0</td>\n",
       "      <td>70</td>\n",
       "      <td>1</td>\n",
       "      <td>chevrolet chevelle malibu</td>\n",
       "    </tr>\n",
       "    <tr>\n",
       "      <th>1</th>\n",
       "      <td>15.0</td>\n",
       "      <td>8</td>\n",
       "      <td>350.0</td>\n",
       "      <td>165</td>\n",
       "      <td>3693</td>\n",
       "      <td>11.5</td>\n",
       "      <td>70</td>\n",
       "      <td>1</td>\n",
       "      <td>buick skylark 320</td>\n",
       "    </tr>\n",
       "    <tr>\n",
       "      <th>2</th>\n",
       "      <td>18.0</td>\n",
       "      <td>8</td>\n",
       "      <td>318.0</td>\n",
       "      <td>150</td>\n",
       "      <td>3436</td>\n",
       "      <td>11.0</td>\n",
       "      <td>70</td>\n",
       "      <td>1</td>\n",
       "      <td>plymouth satellite</td>\n",
       "    </tr>\n",
       "    <tr>\n",
       "      <th>3</th>\n",
       "      <td>16.0</td>\n",
       "      <td>8</td>\n",
       "      <td>304.0</td>\n",
       "      <td>150</td>\n",
       "      <td>3433</td>\n",
       "      <td>12.0</td>\n",
       "      <td>70</td>\n",
       "      <td>1</td>\n",
       "      <td>amc rebel sst</td>\n",
       "    </tr>\n",
       "    <tr>\n",
       "      <th>4</th>\n",
       "      <td>17.0</td>\n",
       "      <td>8</td>\n",
       "      <td>302.0</td>\n",
       "      <td>140</td>\n",
       "      <td>3449</td>\n",
       "      <td>10.5</td>\n",
       "      <td>70</td>\n",
       "      <td>1</td>\n",
       "      <td>ford torino</td>\n",
       "    </tr>\n",
       "  </tbody>\n",
       "</table>\n",
       "</div>\n",
       "      <button class=\"colab-df-convert\" onclick=\"convertToInteractive('df-a0753097-4000-495c-bb77-9375362954af')\"\n",
       "              title=\"Convert this dataframe to an interactive table.\"\n",
       "              style=\"display:none;\">\n",
       "        \n",
       "  <svg xmlns=\"http://www.w3.org/2000/svg\" height=\"24px\"viewBox=\"0 0 24 24\"\n",
       "       width=\"24px\">\n",
       "    <path d=\"M0 0h24v24H0V0z\" fill=\"none\"/>\n",
       "    <path d=\"M18.56 5.44l.94 2.06.94-2.06 2.06-.94-2.06-.94-.94-2.06-.94 2.06-2.06.94zm-11 1L8.5 8.5l.94-2.06 2.06-.94-2.06-.94L8.5 2.5l-.94 2.06-2.06.94zm10 10l.94 2.06.94-2.06 2.06-.94-2.06-.94-.94-2.06-.94 2.06-2.06.94z\"/><path d=\"M17.41 7.96l-1.37-1.37c-.4-.4-.92-.59-1.43-.59-.52 0-1.04.2-1.43.59L10.3 9.45l-7.72 7.72c-.78.78-.78 2.05 0 2.83L4 21.41c.39.39.9.59 1.41.59.51 0 1.02-.2 1.41-.59l7.78-7.78 2.81-2.81c.8-.78.8-2.07 0-2.86zM5.41 20L4 18.59l7.72-7.72 1.47 1.35L5.41 20z\"/>\n",
       "  </svg>\n",
       "      </button>\n",
       "      \n",
       "  <style>\n",
       "    .colab-df-container {\n",
       "      display:flex;\n",
       "      flex-wrap:wrap;\n",
       "      gap: 12px;\n",
       "    }\n",
       "\n",
       "    .colab-df-convert {\n",
       "      background-color: #E8F0FE;\n",
       "      border: none;\n",
       "      border-radius: 50%;\n",
       "      cursor: pointer;\n",
       "      display: none;\n",
       "      fill: #1967D2;\n",
       "      height: 32px;\n",
       "      padding: 0 0 0 0;\n",
       "      width: 32px;\n",
       "    }\n",
       "\n",
       "    .colab-df-convert:hover {\n",
       "      background-color: #E2EBFA;\n",
       "      box-shadow: 0px 1px 2px rgba(60, 64, 67, 0.3), 0px 1px 3px 1px rgba(60, 64, 67, 0.15);\n",
       "      fill: #174EA6;\n",
       "    }\n",
       "\n",
       "    [theme=dark] .colab-df-convert {\n",
       "      background-color: #3B4455;\n",
       "      fill: #D2E3FC;\n",
       "    }\n",
       "\n",
       "    [theme=dark] .colab-df-convert:hover {\n",
       "      background-color: #434B5C;\n",
       "      box-shadow: 0px 1px 3px 1px rgba(0, 0, 0, 0.15);\n",
       "      filter: drop-shadow(0px 1px 2px rgba(0, 0, 0, 0.3));\n",
       "      fill: #FFFFFF;\n",
       "    }\n",
       "  </style>\n",
       "\n",
       "      <script>\n",
       "        const buttonEl =\n",
       "          document.querySelector('#df-a0753097-4000-495c-bb77-9375362954af button.colab-df-convert');\n",
       "        buttonEl.style.display =\n",
       "          google.colab.kernel.accessAllowed ? 'block' : 'none';\n",
       "\n",
       "        async function convertToInteractive(key) {\n",
       "          const element = document.querySelector('#df-a0753097-4000-495c-bb77-9375362954af');\n",
       "          const dataTable =\n",
       "            await google.colab.kernel.invokeFunction('convertToInteractive',\n",
       "                                                     [key], {});\n",
       "          if (!dataTable) return;\n",
       "\n",
       "          const docLinkHtml = 'Like what you see? Visit the ' +\n",
       "            '<a target=\"_blank\" href=https://colab.research.google.com/notebooks/data_table.ipynb>data table notebook</a>'\n",
       "            + ' to learn more about interactive tables.';\n",
       "          element.innerHTML = '';\n",
       "          dataTable['output_type'] = 'display_data';\n",
       "          await google.colab.output.renderOutput(dataTable, element);\n",
       "          const docLink = document.createElement('div');\n",
       "          docLink.innerHTML = docLinkHtml;\n",
       "          element.appendChild(docLink);\n",
       "        }\n",
       "      </script>\n",
       "    </div>\n",
       "  </div>\n",
       "  "
      ],
      "text/plain": [
       "    mpg  cylinders  displacement  horsepower  weight  acceleration  \\\n",
       "0  18.0          8         307.0         130    3504          12.0   \n",
       "1  15.0          8         350.0         165    3693          11.5   \n",
       "2  18.0          8         318.0         150    3436          11.0   \n",
       "3  16.0          8         304.0         150    3433          12.0   \n",
       "4  17.0          8         302.0         140    3449          10.5   \n",
       "\n",
       "   model_year  origin                       name  \n",
       "0          70       1  chevrolet chevelle malibu  \n",
       "1          70       1          buick skylark 320  \n",
       "2          70       1         plymouth satellite  \n",
       "3          70       1              amc rebel sst  \n",
       "4          70       1                ford torino  "
      ]
     },
     "execution_count": 41,
     "metadata": {},
     "output_type": "execute_result"
    }
   ],
   "source": [
    "mpg.head(5)"
   ]
  },
  {
   "cell_type": "markdown",
   "metadata": {
    "id": "i2tfJVhAOwvs"
   },
   "source": [
    "Dalam feature name terlihat kata pertama merupakan nama produsen dari mobil, \n",
    "**chevrolet** chevelle malibu\n",
    "**ford** torino\n",
    "\n",
    "Gunakan **split()** untuk memisahkan kata"
   ]
  },
  {
   "cell_type": "code",
   "execution_count": 82,
   "metadata": {
    "colab": {
     "base_uri": "https://localhost:8080/",
     "height": 468
    },
    "executionInfo": {
     "elapsed": 359,
     "status": "ok",
     "timestamp": 1674653942568,
     "user": {
      "displayName": "Muhammad Rois al haqq",
      "userId": "05628020901943186304"
     },
     "user_tz": -420
    },
    "id": "Vr69vBmyN_CM",
    "outputId": "83eeea84-01a3-49a7-ef82-e005dd1060f1"
   },
   "outputs": [
    {
     "data": {
      "text/html": [
       "\n",
       "  <div id=\"df-6f6e13a9-0eab-4e22-97fb-f7586c3a1ca0\">\n",
       "    <div class=\"colab-df-container\">\n",
       "      <div>\n",
       "<style scoped>\n",
       "    .dataframe tbody tr th:only-of-type {\n",
       "        vertical-align: middle;\n",
       "    }\n",
       "\n",
       "    .dataframe tbody tr th {\n",
       "        vertical-align: top;\n",
       "    }\n",
       "\n",
       "    .dataframe thead th {\n",
       "        text-align: right;\n",
       "    }\n",
       "</style>\n",
       "<table border=\"1\" class=\"dataframe\">\n",
       "  <thead>\n",
       "    <tr style=\"text-align: right;\">\n",
       "      <th></th>\n",
       "      <th>mpg</th>\n",
       "      <th>cylinders</th>\n",
       "      <th>displacement</th>\n",
       "      <th>horsepower</th>\n",
       "      <th>weight</th>\n",
       "      <th>acceleration</th>\n",
       "      <th>model_year</th>\n",
       "      <th>origin</th>\n",
       "      <th>name</th>\n",
       "      <th>manufacturer</th>\n",
       "    </tr>\n",
       "  </thead>\n",
       "  <tbody>\n",
       "    <tr>\n",
       "      <th>0</th>\n",
       "      <td>18.0</td>\n",
       "      <td>8</td>\n",
       "      <td>307.0</td>\n",
       "      <td>130</td>\n",
       "      <td>3504</td>\n",
       "      <td>12.0</td>\n",
       "      <td>70</td>\n",
       "      <td>1</td>\n",
       "      <td>chevrolet chevelle malibu</td>\n",
       "      <td>chevrolet</td>\n",
       "    </tr>\n",
       "    <tr>\n",
       "      <th>1</th>\n",
       "      <td>15.0</td>\n",
       "      <td>8</td>\n",
       "      <td>350.0</td>\n",
       "      <td>165</td>\n",
       "      <td>3693</td>\n",
       "      <td>11.5</td>\n",
       "      <td>70</td>\n",
       "      <td>1</td>\n",
       "      <td>buick skylark 320</td>\n",
       "      <td>buick</td>\n",
       "    </tr>\n",
       "    <tr>\n",
       "      <th>2</th>\n",
       "      <td>18.0</td>\n",
       "      <td>8</td>\n",
       "      <td>318.0</td>\n",
       "      <td>150</td>\n",
       "      <td>3436</td>\n",
       "      <td>11.0</td>\n",
       "      <td>70</td>\n",
       "      <td>1</td>\n",
       "      <td>plymouth satellite</td>\n",
       "      <td>plymouth</td>\n",
       "    </tr>\n",
       "    <tr>\n",
       "      <th>3</th>\n",
       "      <td>16.0</td>\n",
       "      <td>8</td>\n",
       "      <td>304.0</td>\n",
       "      <td>150</td>\n",
       "      <td>3433</td>\n",
       "      <td>12.0</td>\n",
       "      <td>70</td>\n",
       "      <td>1</td>\n",
       "      <td>amc rebel sst</td>\n",
       "      <td>amc</td>\n",
       "    </tr>\n",
       "    <tr>\n",
       "      <th>4</th>\n",
       "      <td>17.0</td>\n",
       "      <td>8</td>\n",
       "      <td>302.0</td>\n",
       "      <td>140</td>\n",
       "      <td>3449</td>\n",
       "      <td>10.5</td>\n",
       "      <td>70</td>\n",
       "      <td>1</td>\n",
       "      <td>ford torino</td>\n",
       "      <td>ford</td>\n",
       "    </tr>\n",
       "    <tr>\n",
       "      <th>...</th>\n",
       "      <td>...</td>\n",
       "      <td>...</td>\n",
       "      <td>...</td>\n",
       "      <td>...</td>\n",
       "      <td>...</td>\n",
       "      <td>...</td>\n",
       "      <td>...</td>\n",
       "      <td>...</td>\n",
       "      <td>...</td>\n",
       "      <td>...</td>\n",
       "    </tr>\n",
       "    <tr>\n",
       "      <th>393</th>\n",
       "      <td>27.0</td>\n",
       "      <td>4</td>\n",
       "      <td>140.0</td>\n",
       "      <td>86</td>\n",
       "      <td>2790</td>\n",
       "      <td>15.6</td>\n",
       "      <td>82</td>\n",
       "      <td>1</td>\n",
       "      <td>ford mustang gl</td>\n",
       "      <td>ford</td>\n",
       "    </tr>\n",
       "    <tr>\n",
       "      <th>394</th>\n",
       "      <td>44.0</td>\n",
       "      <td>4</td>\n",
       "      <td>97.0</td>\n",
       "      <td>52</td>\n",
       "      <td>2130</td>\n",
       "      <td>24.6</td>\n",
       "      <td>82</td>\n",
       "      <td>2</td>\n",
       "      <td>vw pickup</td>\n",
       "      <td>vw</td>\n",
       "    </tr>\n",
       "    <tr>\n",
       "      <th>395</th>\n",
       "      <td>32.0</td>\n",
       "      <td>4</td>\n",
       "      <td>135.0</td>\n",
       "      <td>84</td>\n",
       "      <td>2295</td>\n",
       "      <td>11.6</td>\n",
       "      <td>82</td>\n",
       "      <td>1</td>\n",
       "      <td>dodge rampage</td>\n",
       "      <td>dodge</td>\n",
       "    </tr>\n",
       "    <tr>\n",
       "      <th>396</th>\n",
       "      <td>28.0</td>\n",
       "      <td>4</td>\n",
       "      <td>120.0</td>\n",
       "      <td>79</td>\n",
       "      <td>2625</td>\n",
       "      <td>18.6</td>\n",
       "      <td>82</td>\n",
       "      <td>1</td>\n",
       "      <td>ford ranger</td>\n",
       "      <td>ford</td>\n",
       "    </tr>\n",
       "    <tr>\n",
       "      <th>397</th>\n",
       "      <td>31.0</td>\n",
       "      <td>4</td>\n",
       "      <td>119.0</td>\n",
       "      <td>82</td>\n",
       "      <td>2720</td>\n",
       "      <td>19.4</td>\n",
       "      <td>82</td>\n",
       "      <td>1</td>\n",
       "      <td>chevy s-10</td>\n",
       "      <td>chevy</td>\n",
       "    </tr>\n",
       "  </tbody>\n",
       "</table>\n",
       "<p>398 rows × 10 columns</p>\n",
       "</div>\n",
       "      <button class=\"colab-df-convert\" onclick=\"convertToInteractive('df-6f6e13a9-0eab-4e22-97fb-f7586c3a1ca0')\"\n",
       "              title=\"Convert this dataframe to an interactive table.\"\n",
       "              style=\"display:none;\">\n",
       "        \n",
       "  <svg xmlns=\"http://www.w3.org/2000/svg\" height=\"24px\"viewBox=\"0 0 24 24\"\n",
       "       width=\"24px\">\n",
       "    <path d=\"M0 0h24v24H0V0z\" fill=\"none\"/>\n",
       "    <path d=\"M18.56 5.44l.94 2.06.94-2.06 2.06-.94-2.06-.94-.94-2.06-.94 2.06-2.06.94zm-11 1L8.5 8.5l.94-2.06 2.06-.94-2.06-.94L8.5 2.5l-.94 2.06-2.06.94zm10 10l.94 2.06.94-2.06 2.06-.94-2.06-.94-.94-2.06-.94 2.06-2.06.94z\"/><path d=\"M17.41 7.96l-1.37-1.37c-.4-.4-.92-.59-1.43-.59-.52 0-1.04.2-1.43.59L10.3 9.45l-7.72 7.72c-.78.78-.78 2.05 0 2.83L4 21.41c.39.39.9.59 1.41.59.51 0 1.02-.2 1.41-.59l7.78-7.78 2.81-2.81c.8-.78.8-2.07 0-2.86zM5.41 20L4 18.59l7.72-7.72 1.47 1.35L5.41 20z\"/>\n",
       "  </svg>\n",
       "      </button>\n",
       "      \n",
       "  <style>\n",
       "    .colab-df-container {\n",
       "      display:flex;\n",
       "      flex-wrap:wrap;\n",
       "      gap: 12px;\n",
       "    }\n",
       "\n",
       "    .colab-df-convert {\n",
       "      background-color: #E8F0FE;\n",
       "      border: none;\n",
       "      border-radius: 50%;\n",
       "      cursor: pointer;\n",
       "      display: none;\n",
       "      fill: #1967D2;\n",
       "      height: 32px;\n",
       "      padding: 0 0 0 0;\n",
       "      width: 32px;\n",
       "    }\n",
       "\n",
       "    .colab-df-convert:hover {\n",
       "      background-color: #E2EBFA;\n",
       "      box-shadow: 0px 1px 2px rgba(60, 64, 67, 0.3), 0px 1px 3px 1px rgba(60, 64, 67, 0.15);\n",
       "      fill: #174EA6;\n",
       "    }\n",
       "\n",
       "    [theme=dark] .colab-df-convert {\n",
       "      background-color: #3B4455;\n",
       "      fill: #D2E3FC;\n",
       "    }\n",
       "\n",
       "    [theme=dark] .colab-df-convert:hover {\n",
       "      background-color: #434B5C;\n",
       "      box-shadow: 0px 1px 3px 1px rgba(0, 0, 0, 0.15);\n",
       "      filter: drop-shadow(0px 1px 2px rgba(0, 0, 0, 0.3));\n",
       "      fill: #FFFFFF;\n",
       "    }\n",
       "  </style>\n",
       "\n",
       "      <script>\n",
       "        const buttonEl =\n",
       "          document.querySelector('#df-6f6e13a9-0eab-4e22-97fb-f7586c3a1ca0 button.colab-df-convert');\n",
       "        buttonEl.style.display =\n",
       "          google.colab.kernel.accessAllowed ? 'block' : 'none';\n",
       "\n",
       "        async function convertToInteractive(key) {\n",
       "          const element = document.querySelector('#df-6f6e13a9-0eab-4e22-97fb-f7586c3a1ca0');\n",
       "          const dataTable =\n",
       "            await google.colab.kernel.invokeFunction('convertToInteractive',\n",
       "                                                     [key], {});\n",
       "          if (!dataTable) return;\n",
       "\n",
       "          const docLinkHtml = 'Like what you see? Visit the ' +\n",
       "            '<a target=\"_blank\" href=https://colab.research.google.com/notebooks/data_table.ipynb>data table notebook</a>'\n",
       "            + ' to learn more about interactive tables.';\n",
       "          element.innerHTML = '';\n",
       "          dataTable['output_type'] = 'display_data';\n",
       "          await google.colab.output.renderOutput(dataTable, element);\n",
       "          const docLink = document.createElement('div');\n",
       "          docLink.innerHTML = docLinkHtml;\n",
       "          element.appendChild(docLink);\n",
       "        }\n",
       "      </script>\n",
       "    </div>\n",
       "  </div>\n",
       "  "
      ],
      "text/plain": [
       "      mpg  cylinders  displacement horsepower  weight  acceleration  \\\n",
       "0    18.0          8         307.0        130    3504          12.0   \n",
       "1    15.0          8         350.0        165    3693          11.5   \n",
       "2    18.0          8         318.0        150    3436          11.0   \n",
       "3    16.0          8         304.0        150    3433          12.0   \n",
       "4    17.0          8         302.0        140    3449          10.5   \n",
       "..    ...        ...           ...        ...     ...           ...   \n",
       "393  27.0          4         140.0         86    2790          15.6   \n",
       "394  44.0          4          97.0         52    2130          24.6   \n",
       "395  32.0          4         135.0         84    2295          11.6   \n",
       "396  28.0          4         120.0         79    2625          18.6   \n",
       "397  31.0          4         119.0         82    2720          19.4   \n",
       "\n",
       "     model_year  origin                       name manufacturer  \n",
       "0            70       1  chevrolet chevelle malibu    chevrolet  \n",
       "1            70       1          buick skylark 320        buick  \n",
       "2            70       1         plymouth satellite     plymouth  \n",
       "3            70       1              amc rebel sst          amc  \n",
       "4            70       1                ford torino         ford  \n",
       "..          ...     ...                        ...          ...  \n",
       "393          82       1            ford mustang gl         ford  \n",
       "394          82       2                  vw pickup           vw  \n",
       "395          82       1              dodge rampage        dodge  \n",
       "396          82       1                ford ranger         ford  \n",
       "397          82       1                 chevy s-10        chevy  \n",
       "\n",
       "[398 rows x 10 columns]"
      ]
     },
     "execution_count": 82,
     "metadata": {},
     "output_type": "execute_result"
    }
   ],
   "source": [
    "mpg['manufacturer'] = mpg['name'].apply(lambda x: x.split()[0])\n",
    "mpg"
   ]
  },
  {
   "cell_type": "markdown",
   "metadata": {
    "id": "MTHU_6mOPU73"
   },
   "source": [
    "coba kita hitung jumlah masing masing valuenya menggunakan fungsi pandas groupby() dan sort_values"
   ]
  },
  {
   "cell_type": "code",
   "execution_count": 43,
   "metadata": {
    "colab": {
     "base_uri": "https://localhost:8080/",
     "height": 363
    },
    "executionInfo": {
     "elapsed": 12,
     "status": "ok",
     "timestamp": 1674647004411,
     "user": {
      "displayName": "Muhammad Rois al haqq",
      "userId": "05628020901943186304"
     },
     "user_tz": -420
    },
    "id": "S4iwy-JHPI8r",
    "outputId": "ebd8a223-07c4-4f57-d798-4ddbe0600a91"
   },
   "outputs": [
    {
     "data": {
      "text/html": [
       "\n",
       "  <div id=\"df-882afa28-d2a3-44b8-a1be-7cf26009cfc4\">\n",
       "    <div class=\"colab-df-container\">\n",
       "      <div>\n",
       "<style scoped>\n",
       "    .dataframe tbody tr th:only-of-type {\n",
       "        vertical-align: middle;\n",
       "    }\n",
       "\n",
       "    .dataframe tbody tr th {\n",
       "        vertical-align: top;\n",
       "    }\n",
       "\n",
       "    .dataframe thead th {\n",
       "        text-align: right;\n",
       "    }\n",
       "</style>\n",
       "<table border=\"1\" class=\"dataframe\">\n",
       "  <thead>\n",
       "    <tr style=\"text-align: right;\">\n",
       "      <th></th>\n",
       "      <th>manufacturer</th>\n",
       "      <th>size</th>\n",
       "    </tr>\n",
       "  </thead>\n",
       "  <tbody>\n",
       "    <tr>\n",
       "      <th>13</th>\n",
       "      <td>ford</td>\n",
       "      <td>48</td>\n",
       "    </tr>\n",
       "    <tr>\n",
       "      <th>7</th>\n",
       "      <td>chevrolet</td>\n",
       "      <td>43</td>\n",
       "    </tr>\n",
       "    <tr>\n",
       "      <th>25</th>\n",
       "      <td>plymouth</td>\n",
       "      <td>31</td>\n",
       "    </tr>\n",
       "    <tr>\n",
       "      <th>11</th>\n",
       "      <td>dodge</td>\n",
       "      <td>28</td>\n",
       "    </tr>\n",
       "    <tr>\n",
       "      <th>0</th>\n",
       "      <td>amc</td>\n",
       "      <td>27</td>\n",
       "    </tr>\n",
       "    <tr>\n",
       "      <th>30</th>\n",
       "      <td>toyota</td>\n",
       "      <td>25</td>\n",
       "    </tr>\n",
       "    <tr>\n",
       "      <th>10</th>\n",
       "      <td>datsun</td>\n",
       "      <td>23</td>\n",
       "    </tr>\n",
       "    <tr>\n",
       "      <th>3</th>\n",
       "      <td>buick</td>\n",
       "      <td>17</td>\n",
       "    </tr>\n",
       "    <tr>\n",
       "      <th>26</th>\n",
       "      <td>pontiac</td>\n",
       "      <td>16</td>\n",
       "    </tr>\n",
       "    <tr>\n",
       "      <th>34</th>\n",
       "      <td>volkswagen</td>\n",
       "      <td>15</td>\n",
       "    </tr>\n",
       "  </tbody>\n",
       "</table>\n",
       "</div>\n",
       "      <button class=\"colab-df-convert\" onclick=\"convertToInteractive('df-882afa28-d2a3-44b8-a1be-7cf26009cfc4')\"\n",
       "              title=\"Convert this dataframe to an interactive table.\"\n",
       "              style=\"display:none;\">\n",
       "        \n",
       "  <svg xmlns=\"http://www.w3.org/2000/svg\" height=\"24px\"viewBox=\"0 0 24 24\"\n",
       "       width=\"24px\">\n",
       "    <path d=\"M0 0h24v24H0V0z\" fill=\"none\"/>\n",
       "    <path d=\"M18.56 5.44l.94 2.06.94-2.06 2.06-.94-2.06-.94-.94-2.06-.94 2.06-2.06.94zm-11 1L8.5 8.5l.94-2.06 2.06-.94-2.06-.94L8.5 2.5l-.94 2.06-2.06.94zm10 10l.94 2.06.94-2.06 2.06-.94-2.06-.94-.94-2.06-.94 2.06-2.06.94z\"/><path d=\"M17.41 7.96l-1.37-1.37c-.4-.4-.92-.59-1.43-.59-.52 0-1.04.2-1.43.59L10.3 9.45l-7.72 7.72c-.78.78-.78 2.05 0 2.83L4 21.41c.39.39.9.59 1.41.59.51 0 1.02-.2 1.41-.59l7.78-7.78 2.81-2.81c.8-.78.8-2.07 0-2.86zM5.41 20L4 18.59l7.72-7.72 1.47 1.35L5.41 20z\"/>\n",
       "  </svg>\n",
       "      </button>\n",
       "      \n",
       "  <style>\n",
       "    .colab-df-container {\n",
       "      display:flex;\n",
       "      flex-wrap:wrap;\n",
       "      gap: 12px;\n",
       "    }\n",
       "\n",
       "    .colab-df-convert {\n",
       "      background-color: #E8F0FE;\n",
       "      border: none;\n",
       "      border-radius: 50%;\n",
       "      cursor: pointer;\n",
       "      display: none;\n",
       "      fill: #1967D2;\n",
       "      height: 32px;\n",
       "      padding: 0 0 0 0;\n",
       "      width: 32px;\n",
       "    }\n",
       "\n",
       "    .colab-df-convert:hover {\n",
       "      background-color: #E2EBFA;\n",
       "      box-shadow: 0px 1px 2px rgba(60, 64, 67, 0.3), 0px 1px 3px 1px rgba(60, 64, 67, 0.15);\n",
       "      fill: #174EA6;\n",
       "    }\n",
       "\n",
       "    [theme=dark] .colab-df-convert {\n",
       "      background-color: #3B4455;\n",
       "      fill: #D2E3FC;\n",
       "    }\n",
       "\n",
       "    [theme=dark] .colab-df-convert:hover {\n",
       "      background-color: #434B5C;\n",
       "      box-shadow: 0px 1px 3px 1px rgba(0, 0, 0, 0.15);\n",
       "      filter: drop-shadow(0px 1px 2px rgba(0, 0, 0, 0.3));\n",
       "      fill: #FFFFFF;\n",
       "    }\n",
       "  </style>\n",
       "\n",
       "      <script>\n",
       "        const buttonEl =\n",
       "          document.querySelector('#df-882afa28-d2a3-44b8-a1be-7cf26009cfc4 button.colab-df-convert');\n",
       "        buttonEl.style.display =\n",
       "          google.colab.kernel.accessAllowed ? 'block' : 'none';\n",
       "\n",
       "        async function convertToInteractive(key) {\n",
       "          const element = document.querySelector('#df-882afa28-d2a3-44b8-a1be-7cf26009cfc4');\n",
       "          const dataTable =\n",
       "            await google.colab.kernel.invokeFunction('convertToInteractive',\n",
       "                                                     [key], {});\n",
       "          if (!dataTable) return;\n",
       "\n",
       "          const docLinkHtml = 'Like what you see? Visit the ' +\n",
       "            '<a target=\"_blank\" href=https://colab.research.google.com/notebooks/data_table.ipynb>data table notebook</a>'\n",
       "            + ' to learn more about interactive tables.';\n",
       "          element.innerHTML = '';\n",
       "          dataTable['output_type'] = 'display_data';\n",
       "          await google.colab.output.renderOutput(dataTable, element);\n",
       "          const docLink = document.createElement('div');\n",
       "          docLink.innerHTML = docLinkHtml;\n",
       "          element.appendChild(docLink);\n",
       "        }\n",
       "      </script>\n",
       "    </div>\n",
       "  </div>\n",
       "  "
      ],
      "text/plain": [
       "   manufacturer  size\n",
       "13         ford    48\n",
       "7     chevrolet    43\n",
       "25     plymouth    31\n",
       "11        dodge    28\n",
       "0           amc    27\n",
       "30       toyota    25\n",
       "10       datsun    23\n",
       "3         buick    17\n",
       "26      pontiac    16\n",
       "34   volkswagen    15"
      ]
     },
     "execution_count": 43,
     "metadata": {},
     "output_type": "execute_result"
    }
   ],
   "source": [
    "manufacturer_count = mpg.groupby(['manufacturer'], as_index=False).size().sort_values('size', ascending=False)\n",
    "manufacturer_count.head(10)"
   ]
  },
  {
   "cell_type": "markdown",
   "metadata": {
    "id": "FEarlfs9Pcib"
   },
   "source": [
    "Tampilkan hasilnya menggunakan bar plot"
   ]
  },
  {
   "cell_type": "code",
   "execution_count": 83,
   "metadata": {
    "colab": {
     "base_uri": "https://localhost:8080/",
     "height": 406
    },
    "executionInfo": {
     "elapsed": 949,
     "status": "ok",
     "timestamp": 1674654140451,
     "user": {
      "displayName": "Muhammad Rois al haqq",
      "userId": "05628020901943186304"
     },
     "user_tz": -420
    },
    "id": "sljI4KeDPMEb",
    "outputId": "72967f6f-3036-4d64-d830-52d7a47fa63f"
   },
   "outputs": [
    {
     "data": {
      "text/plain": [
       "<matplotlib.axes._subplots.AxesSubplot at 0x7fe8f6dd9d30>"
      ]
     },
     "execution_count": 83,
     "metadata": {},
     "output_type": "execute_result"
    },
    {
     "data": {
      "image/png": "[encoded data removed]",
      "text/plain": [
       "<Figure size 432x432 with 1 Axes>"
      ]
     },
     "metadata": {
      "needs_background": "light"
     },
     "output_type": "display_data"
    }
   ],
   "source": [
    "plt.figure(figsize=(6, 6))\n",
    "sns.barplot(data=manufacturer_count, x='size', y='manufacturer')"
   ]
  },
  {
   "cell_type": "code",
   "execution_count": 45,
   "metadata": {
    "colab": {
     "base_uri": "https://localhost:8080/",
     "height": 406
    },
    "executionInfo": {
     "elapsed": 374,
     "status": "ok",
     "timestamp": 1674647005147,
     "user": {
      "displayName": "Muhammad Rois al haqq",
      "userId": "05628020901943186304"
     },
     "user_tz": -420
    },
    "id": "PGO2S0vTPbe5",
    "outputId": "e3948df8-7488-430e-b2d2-64ae1c2b9f28"
   },
   "outputs": [
    {
     "data": {
      "text/plain": [
       "<matplotlib.axes._subplots.AxesSubplot at 0x7fe8f94d3280>"
      ]
     },
     "execution_count": 45,
     "metadata": {},
     "output_type": "execute_result"
    },
    {
     "data": {
      "image/png": "[encoded data removed]",
      "text/plain": [
       "<Figure size 432x432 with 1 Axes>"
      ]
     },
     "metadata": {
      "needs_background": "light"
     },
     "output_type": "display_data"
    }
   ],
   "source": [
    "plt.figure(figsize=(6, 6))\n",
    "sns.barplot(data=manufacturer_count, x='size', y='manufacturer')"
   ]
  },
  {
   "cell_type": "markdown",
   "metadata": {
    "id": "cmn5SLj1QVPB"
   },
   "source": [
    "### Menampilkan korelasi dua variable"
   ]
  },
  {
   "cell_type": "code",
   "execution_count": 85,
   "metadata": {
    "colab": {
     "base_uri": "https://localhost:8080/",
     "height": 297
    },
    "executionInfo": {
     "elapsed": 577,
     "status": "ok",
     "timestamp": 1674654263080,
     "user": {
      "displayName": "Muhammad Rois al haqq",
      "userId": "05628020901943186304"
     },
     "user_tz": -420
    },
    "id": "nvb92xqYQZAp",
    "outputId": "156fcd50-5b44-4810-a263-bb61ce0673c5"
   },
   "outputs": [
    {
     "data": {
      "text/plain": [
       "<matplotlib.axes._subplots.AxesSubplot at 0x7fe8f6217940>"
      ]
     },
     "execution_count": 85,
     "metadata": {},
     "output_type": "execute_result"
    },
    {
     "data": {
      "image/png": "[encoded data removed]",
      "text/plain": [
       "<Figure size 432x288 with 1 Axes>"
      ]
     },
     "metadata": {
      "needs_background": "light"
     },
     "output_type": "display_data"
    }
   ],
   "source": [
    "sns.scatterplot(x=\"displacement\", y=\"mpg\", data=mpg)"
   ]
  },
  {
   "cell_type": "markdown",
   "metadata": {
    "id": "MTzXUi7yPvny"
   },
   "source": [
    "### Menampilkan data time series"
   ]
  },
  {
   "cell_type": "markdown",
   "metadata": {
    "id": "W8zEuitWPzc_"
   },
   "source": [
    "tampilkan mills per galon mobil yang diproduksi dari tahun ke tahun, gunakan line chart dan variable 'model_year' dan 'mpg'"
   ]
  },
  {
   "cell_type": "code",
   "execution_count": 86,
   "metadata": {
    "colab": {
     "base_uri": "https://localhost:8080/",
     "height": 314
    },
    "executionInfo": {
     "elapsed": 424,
     "status": "ok",
     "timestamp": 1674654351093,
     "user": {
      "displayName": "Muhammad Rois al haqq",
      "userId": "05628020901943186304"
     },
     "user_tz": -420
    },
    "id": "dgXJg18ZPxrN",
    "outputId": "d5a7f2f9-a4cb-4125-cfe1-739fa8f5a6a5"
   },
   "outputs": [
    {
     "data": {
      "text/plain": [
       "Text(0.5, 1.0, 'Mills per Gallon Over Time')"
      ]
     },
     "execution_count": 86,
     "metadata": {},
     "output_type": "execute_result"
    },
    {
     "data": {
      "image/png": "[encoded data removed]",
      "text/plain": [
       "<Figure size 432x288 with 1 Axes>"
      ]
     },
     "metadata": {
      "needs_background": "light"
     },
     "output_type": "display_data"
    }
   ],
   "source": [
    "sns.lineplot(x=\"model_year\", y=\"mpg\", \n",
    "            data=mpg, \n",
    "            ci=None)\n",
    "\n",
    "plt.title(\"Mills per Gallon Over Time\", fontsize=13)"
   ]
  }
 ],
 "metadata": {
  "colab": {
   "authorship_tag": "ABX9TyObyUah3hy8ghsyCqw+sWpM",
   "provenance": []
  },
  "kernelspec": {
   "display_name": "Python 3 (ipykernel)",
   "language": "python",
   "name": "python3"
  },
  "language_info": {
   "codemirror_mode": {
    "name": "ipython",
    "version": 3
   },
   "file_extension": ".py",
   "mimetype": "text/x-python",
   "name": "python",
   "nbconvert_exporter": "python",
   "pygments_lexer": "ipython3",
   "version": "3.9.13"
  }
 },
 "nbformat": 4,
 "nbformat_minor": 1
}
