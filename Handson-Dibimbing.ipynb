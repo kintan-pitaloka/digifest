{
 "cells": [
  {
   "cell_type": "code",
   "execution_count": 1,
   "id": "4f5d95b0",
   "metadata": {},
   "outputs": [],
   "source": [
    "import pandas as pd\n",
    "import numpy as np"
   ]
  },
  {
   "cell_type": "code",
   "execution_count": 2,
   "id": "6eab167f",
   "metadata": {},
   "outputs": [
    {
     "data": {
      "text/plain": [
       "False"
      ]
     },
     "execution_count": 2,
     "metadata": {},
     "output_type": "execute_result"
    }
   ],
   "source": [
    "saya = \"cantik\"\n",
    "kabur = \"Cantik\"\n",
    "\n",
    "saya == kabur"
   ]
  },
  {
   "cell_type": "code",
   "execution_count": 7,
   "id": "709cc8e4",
   "metadata": {},
   "outputs": [
    {
     "name": "stdout",
     "output_type": "stream",
     "text": [
      "tan\n"
     ]
    }
   ],
   "source": [
    "nama = \"kintan\"\n",
    "print(nama[3:6])"
   ]
  },
  {
   "cell_type": "code",
   "execution_count": 8,
   "id": "942613ed",
   "metadata": {},
   "outputs": [
    {
     "name": "stdout",
     "output_type": "stream",
     "text": [
      "kintan\n"
     ]
    }
   ],
   "source": [
    "print(nama[:6])"
   ]
  },
  {
   "cell_type": "code",
   "execution_count": 9,
   "id": "e1794e93",
   "metadata": {},
   "outputs": [
    {
     "name": "stdout",
     "output_type": "stream",
     "text": [
      "kint\n"
     ]
    }
   ],
   "source": [
    "print(nama[:4])"
   ]
  },
  {
   "cell_type": "code",
   "execution_count": 14,
   "id": "79fa0fb6",
   "metadata": {},
   "outputs": [
    {
     "name": "stdout",
     "output_type": "stream",
     "text": [
      "tidak lulus\n"
     ]
    }
   ],
   "source": [
    "#basic if else\n",
    "nilai = 78\n",
    "\n",
    "if nilai >= 80:\n",
    "    hasil = \"lulus\"\n",
    "else:\n",
    "    hasil = \"tidak lulus\"\n",
    "    \n",
    "print(hasil)\n",
    "    "
   ]
  },
  {
   "cell_type": "code",
   "execution_count": 19,
   "id": "532907b3",
   "metadata": {},
   "outputs": [
    {
     "name": "stdout",
     "output_type": "stream",
     "text": [
      "lulus\n"
     ]
    }
   ],
   "source": [
    "nilai = 90\n",
    "\n",
    "if nilai >= 80:\n",
    "    hasil = \"lulus\"\n",
    "elif nilai >= 70:\n",
    "    hasil = \"lulus\"\n",
    "else:\n",
    "    hasil = \"tidak lulus\"\n",
    "    \n",
    "print(hasil)"
   ]
  },
  {
   "cell_type": "code",
   "execution_count": 20,
   "id": "4ee45ec9",
   "metadata": {},
   "outputs": [
    {
     "name": "stdout",
     "output_type": "stream",
     "text": [
      "[0, 'nenek_salto', 1000, True, 'comfort zone', 'haha']\n"
     ]
    }
   ],
   "source": [
    "#for looping\n",
    "\n",
    "kumpulan_bebas = [0,\"nenek_salto\",1000, True,\"comfort zone\",\"haha\"]\n",
    "print(kumpulan_bebas)"
   ]
  },
  {
   "cell_type": "code",
   "execution_count": 27,
   "id": "7b2c5ca4",
   "metadata": {},
   "outputs": [
    {
     "name": "stdout",
     "output_type": "stream",
     "text": [
      "k sekarang adalah 0\n",
      "k sekarang adalah nenek_salto\n",
      "k sekarang adalah 1000\n",
      "k sekarang adalah True\n",
      "k sekarang adalah comfort zone\n",
      "k sekarang adalah haha\n"
     ]
    }
   ],
   "source": [
    "for k in kumpulan_bebas:\n",
    "    print(f\"k sekarang adalah {k}\")"
   ]
  },
  {
   "cell_type": "code",
   "execution_count": 28,
   "id": "4a61e1a3",
   "metadata": {},
   "outputs": [],
   "source": [
    "days = ['Senin','Selasa','Rabu','Kamis','Jumat','Sabtu','Minggu']"
   ]
  },
  {
   "cell_type": "code",
   "execution_count": 29,
   "id": "856980ea",
   "metadata": {},
   "outputs": [
    {
     "data": {
      "text/plain": [
       "'Rabu'"
      ]
     },
     "execution_count": 29,
     "metadata": {},
     "output_type": "execute_result"
    }
   ],
   "source": [
    "days[2]"
   ]
  },
  {
   "cell_type": "code",
   "execution_count": 30,
   "id": "60008c36",
   "metadata": {},
   "outputs": [],
   "source": [
    "days[6]=\"Ahad\""
   ]
  },
  {
   "cell_type": "code",
   "execution_count": 31,
   "id": "125b0367",
   "metadata": {},
   "outputs": [
    {
     "data": {
      "text/plain": [
       "'Ahad'"
      ]
     },
     "execution_count": 31,
     "metadata": {},
     "output_type": "execute_result"
    }
   ],
   "source": [
    "days[6]"
   ]
  },
  {
   "cell_type": "markdown",
   "id": "6a3200c2",
   "metadata": {},
   "source": [
    "## Data Structure"
   ]
  },
  {
   "cell_type": "code",
   "execution_count": 32,
   "id": "47cb940e",
   "metadata": {},
   "outputs": [
    {
     "name": "stdout",
     "output_type": "stream",
     "text": [
      "1\n",
      "2\n",
      "3\n",
      "ini string1\n",
      "True\n"
     ]
    }
   ],
   "source": [
    "angka1 = 1\n",
    "angka2 = 2\n",
    "angka3 = 3\n",
    "string1 = \"ini string1\"\n",
    "bool1 = True\n",
    "\n",
    "print(angka1)\n",
    "print(angka2)\n",
    "print(angka3)\n",
    "print(string1)\n",
    "print(bool1)"
   ]
  },
  {
   "cell_type": "code",
   "execution_count": 33,
   "id": "da8a277b",
   "metadata": {},
   "outputs": [
    {
     "name": "stdout",
     "output_type": "stream",
     "text": [
      "[1, 2, 3, 'ini string1', True]\n"
     ]
    }
   ],
   "source": [
    "kumpulan_var = [1,2,3,'ini string1',True]\n",
    "print(kumpulan_var)"
   ]
  },
  {
   "cell_type": "code",
   "execution_count": 34,
   "id": "0169dce1",
   "metadata": {},
   "outputs": [
    {
     "name": "stdout",
     "output_type": "stream",
     "text": [
      "['soekarno', 'soeharto', 'bj_habibi', 'gus_dur']\n"
     ]
    }
   ],
   "source": [
    "kumpulan_presiden = ['soekarno', 'soeharto', 'bj_habibi', 'gus_dur']\n",
    "print(kumpulan_presiden)"
   ]
  },
  {
   "cell_type": "code",
   "execution_count": 35,
   "id": "ecbe9ace",
   "metadata": {},
   "outputs": [
    {
     "name": "stdout",
     "output_type": "stream",
     "text": [
      "['soekarno', 'soeharto', 'bj_habibi', 'gus_dur', 'giring']\n"
     ]
    }
   ],
   "source": [
    "kumpulan_presiden.append(\"giring\")\n",
    "print(kumpulan_presiden)"
   ]
  },
  {
   "cell_type": "code",
   "execution_count": 36,
   "id": "f5702be4",
   "metadata": {},
   "outputs": [
    {
     "name": "stdout",
     "output_type": "stream",
     "text": [
      "['soekarno', 'soeharto', 'bj_habibi', 'gus_dur', 'Aldi Taher']\n"
     ]
    }
   ],
   "source": [
    "kumpulan_presiden[-1] = \"Aldi Taher\"\n",
    "print(kumpulan_presiden)"
   ]
  },
  {
   "cell_type": "code",
   "execution_count": 38,
   "id": "2a31e417",
   "metadata": {},
   "outputs": [
    {
     "name": "stdout",
     "output_type": "stream",
     "text": [
      "{'bj_habibi', 'soeharto', 'gus_dur', 'soekarno'}\n"
     ]
    }
   ],
   "source": [
    "kumpulan_presiden = {'soekarno', 'soeharto', 'bj_habibi', 'gus_dur'}\n",
    "print(kumpulan_presiden)"
   ]
  },
  {
   "cell_type": "code",
   "execution_count": 39,
   "id": "215a0cf5",
   "metadata": {},
   "outputs": [
    {
     "name": "stdout",
     "output_type": "stream",
     "text": [
      "{'soeharto', 'gus_dur', 'bj_habibi', 'jokowi', 'soekarno'}\n"
     ]
    }
   ],
   "source": [
    "kumpulan_presiden.add(\"jokowi\")\n",
    "print(kumpulan_presiden)"
   ]
  },
  {
   "cell_type": "code",
   "execution_count": 40,
   "id": "a3b79f39",
   "metadata": {},
   "outputs": [
    {
     "name": "stdout",
     "output_type": "stream",
     "text": [
      "soeharto\n",
      "gus_dur\n",
      "bj_habibi\n",
      "jokowi\n",
      "soekarno\n"
     ]
    }
   ],
   "source": [
    "for i in kumpulan_presiden:\n",
    "    print(i)"
   ]
  },
  {
   "cell_type": "code",
   "execution_count": 41,
   "id": "f0f5efa1",
   "metadata": {},
   "outputs": [
    {
     "data": {
      "text/plain": [
       "True"
      ]
     },
     "execution_count": 41,
     "metadata": {},
     "output_type": "execute_result"
    }
   ],
   "source": [
    "\"jokowi\" in kumpulan_presiden"
   ]
  },
  {
   "cell_type": "code",
   "execution_count": 45,
   "id": "72ffe5bf",
   "metadata": {},
   "outputs": [
    {
     "name": "stdout",
     "output_type": "stream",
     "text": [
      "{'nama': 'Kintan', 'pekerjaan': ' Tahfeez Teacher', 'tinggi': 160}\n"
     ]
    }
   ],
   "source": [
    "profil= {\n",
    "    'nama': \"Kintan\",\n",
    "    'pekerjaan':\" Tahfeez Teacher\",\n",
    "    'tinggi' : 160\n",
    "}\n",
    "\n",
    "print(profil)"
   ]
  },
  {
   "cell_type": "code",
   "execution_count": 47,
   "id": "29559ca9",
   "metadata": {},
   "outputs": [
    {
     "name": "stdout",
     "output_type": "stream",
     "text": [
      "160\n"
     ]
    }
   ],
   "source": [
    "#for acces the key\n",
    "\n",
    "print(profil[\"tinggi\"])"
   ]
  },
  {
   "cell_type": "code",
   "execution_count": 48,
   "id": "3ee6fb30",
   "metadata": {},
   "outputs": [],
   "source": [
    "profil['tinggal'] = \"Griyatawang\""
   ]
  },
  {
   "cell_type": "code",
   "execution_count": 49,
   "id": "77332956",
   "metadata": {},
   "outputs": [
    {
     "name": "stdout",
     "output_type": "stream",
     "text": [
      "{'nama': 'Kintan', 'pekerjaan': ' Tahfeez Teacher', 'tinggi': 160, 'tinggal': 'Griyatawang'}\n"
     ]
    }
   ],
   "source": [
    "print(profil)"
   ]
  },
  {
   "cell_type": "code",
   "execution_count": 53,
   "id": "a3410091",
   "metadata": {},
   "outputs": [
    {
     "name": "stdout",
     "output_type": "stream",
     "text": [
      "Kintan\n",
      " Tahfeez Teacher\n",
      "160\n",
      "Griyatawang\n"
     ]
    }
   ],
   "source": [
    "for x in profil.values():\n",
    "    print(x)"
   ]
  },
  {
   "cell_type": "code",
   "execution_count": 57,
   "id": "b237e50c",
   "metadata": {},
   "outputs": [
    {
     "name": "stdout",
     "output_type": "stream",
     "text": [
      "ini key: nama ini value: Kintan\n",
      "ini key: pekerjaan ini value:  Tahfeez Teacher\n",
      "ini key: tinggi ini value: 160\n",
      "ini key: tinggal ini value: Griyatawang\n"
     ]
    }
   ],
   "source": [
    "for x,y in profil.items():\n",
    "    print(\"ini key:\",x , \"ini value:\", y)"
   ]
  },
  {
   "cell_type": "code",
   "execution_count": 58,
   "id": "54263cc5",
   "metadata": {},
   "outputs": [
    {
     "name": "stdout",
     "output_type": "stream",
     "text": [
      "ini key: nama ini value: Kintan\n",
      "ini key: pekerjaan ini value:  Tahfeez Teacher\n",
      "ini key: tinggi ini value: 160\n",
      "ini key: tinggal ini value: Griyatawang\n"
     ]
    }
   ],
   "source": [
    "for aba,ada in profil.items():\n",
    "    print(\"ini key:\",aba , \"ini value:\", ada)"
   ]
  },
  {
   "cell_type": "markdown",
   "id": "bb4bd6d5",
   "metadata": {},
   "source": [
    "## Handson Master"
   ]
  },
  {
   "cell_type": "code",
   "execution_count": 60,
   "id": "a7ed6cc2",
   "metadata": {},
   "outputs": [
    {
     "data": {
      "text/plain": [
       "{'product': ['Product A', 'Product B', 'Product C', 'Product X'],\n",
       " 'hasil_penjualan': [500000, 70000, 125000, 350000]}"
      ]
     },
     "execution_count": 60,
     "metadata": {},
     "output_type": "execute_result"
    }
   ],
   "source": [
    "data_penjualan = {\n",
    "    \"product\" : [\"Product A\", \"Product B\", \"Product C\", \"Product X\"],\n",
    "    \"hasil_penjualan\" : [500000,70000, 125000, 350000]\n",
    "}\n",
    "\n",
    "data_penjualan"
   ]
  },
  {
   "cell_type": "code",
   "execution_count": 63,
   "id": "39dfb71b",
   "metadata": {},
   "outputs": [
    {
     "name": "stdout",
     "output_type": "stream",
     "text": [
      "     product  hasil_penjualan\n",
      "0  Product A           500000\n",
      "1  Product B            70000\n",
      "2  Product C           125000\n",
      "3  Product X           350000\n"
     ]
    }
   ],
   "source": [
    "#load into dataframe\n",
    "df = pd.DataFrame(data_penjualan)\n",
    "print(df)"
   ]
  },
  {
   "cell_type": "code",
   "execution_count": 64,
   "id": "fffe9dc8",
   "metadata": {},
   "outputs": [
    {
     "data": {
      "text/plain": [
       "product            Product AProduct BProduct CProduct X\n",
       "hasil_penjualan                                 1045000\n",
       "dtype: object"
      ]
     },
     "execution_count": 64,
     "metadata": {},
     "output_type": "execute_result"
    }
   ],
   "source": [
    "df.sum()"
   ]
  },
  {
   "cell_type": "code",
   "execution_count": null,
   "id": "daf75efd",
   "metadata": {},
   "outputs": [],
   "source": []
  },
  {
   "cell_type": "code",
   "execution_count": null,
   "id": "0ad6b1b3",
   "metadata": {},
   "outputs": [],
   "source": []
  }
 ],
 "metadata": {
  "kernelspec": {
   "display_name": "Python 3 (ipykernel)",
   "language": "python",
   "name": "python3"
  },
  "language_info": {
   "codemirror_mode": {
    "name": "ipython",
    "version": 3
   },
   "file_extension": ".py",
   "mimetype": "text/x-python",
   "name": "python",
   "nbconvert_exporter": "python",
   "pygments_lexer": "ipython3",
   "version": "3.9.13"
  }
 },
 "nbformat": 4,
 "nbformat_minor": 5
}
